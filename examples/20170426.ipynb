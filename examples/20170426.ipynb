{
 "cells": [
  {
   "cell_type": "code",
   "execution_count": 1,
   "metadata": {
    "collapsed": false
   },
   "outputs": [
    {
     "name": "stderr",
     "output_type": "stream",
     "text": [
      "/Users/ebruning/anaconda/lib/python2.7/site-packages/matplotlib/font_manager.py:273: UserWarning: Matplotlib is building the font cache using fc-list. This may take a moment.\n",
      "  warnings.warn('Matplotlib is building the font cache using fc-list. This may take a moment.')\n"
     ]
    }
   ],
   "source": [
    "%matplotlib osx\n",
    "#qt4\n",
    "# inline\n",
    "import numpy as np\n",
    "import matplotlib.pyplot as plt\n",
    "from datetime import datetime\n",
    "import os\n",
    "\n",
    "import pandas as pd\n",
    "def sec_since_basedate(t64, basedate):\n",
    "    \"\"\" given a numpy datetime 64 object, and a datetime basedate, \n",
    "        return seconds since basedate\"\"\"\n",
    "    \n",
    "    t_series = pd.Series(t64) - basedate\n",
    "    t = np.fromiter((dt.total_seconds() for dt in t_series), dtype='float64')\n",
    "    return t\n",
    "\n",
    "from glmtools.io.glm import GLMDataset, fix_event_locations, fix_unsigned"
   ]
  },
  {
   "cell_type": "code",
   "execution_count": 2,
   "metadata": {
    "collapsed": false
   },
   "outputs": [],
   "source": [
    "filename = '/data/LCFA-production/OR_GLM-L2-LCFA_G16_s20171161230400_e20171161231000_c20171161231027.nc'\n",
    "glm = GLMDataset(filename)\n",
    "# print glm.dataset"
   ]
  },
  {
   "cell_type": "code",
   "execution_count": 3,
   "metadata": {
    "collapsed": false
   },
   "outputs": [],
   "source": [
    "from lmatools.lasso.energy_stats import TimeSeriesPolygonLassoFilter\n",
    "from datetime import datetime, timedelta"
   ]
  },
  {
   "cell_type": "code",
   "execution_count": 4,
   "metadata": {
    "collapsed": false
   },
   "outputs": [
    {
     "name": "stdout",
     "output_type": "stream",
     "text": [
      "[6361 6522 6567]\n"
     ]
    }
   ],
   "source": [
    "# epoch = datetime(2000,1,1,12,0,0)\n",
    "# tmin = epoch + timedelta(seconds=glm.dataset.event_time_offset.data.min())\n",
    "# tmax = epoch + timedelta(seconds=glm.dataset.event_time_offset.data.max())\n",
    "# # tmax = tmin + timedelta(seconds=60)\n",
    "\n",
    "# # lat0, lat1 = 25.0, 32.0\n",
    "# # lon0, lon1 = -93.0, -88.0\n",
    "\n",
    "lat0, lat1 = 31.50, 37.1\n",
    "lon0, lon1 = -104.00, -99.00\n",
    "\n",
    "good = ((glm.dataset.flash_lat < lat1) & (glm.dataset.flash_lat > lat0) &\n",
    " (glm.dataset.flash_lon < lon1) & (glm.dataset.flash_lat > lon0)).data\n",
    "\n",
    "# polys = (((lon0, lat0), (lon0, lat1), (lon1, lat1),  (lon1, lat0),),\n",
    "#         )\n",
    "\n",
    "# lasso = TimeSeriesPolygonLassoFilter(coord_names=('flash_lon', 'flash_lat'),\n",
    "#                                      time_edges=(tmin, tmax),\n",
    "#                                      time_key = 'flash_time_offset_of_first_event', #not strictly everything\n",
    "#                                      basedate = epoch,\n",
    "#                                      polys=polys\n",
    "#                                     )\n",
    "\n",
    "flash_ids_LMA = glm.dataset.flash_id[good].data\n",
    "print(flash_ids_LMA)"
   ]
  },
  {
   "cell_type": "code",
   "execution_count": 5,
   "metadata": {
    "collapsed": false
   },
   "outputs": [
    {
     "name": "stdout",
     "output_type": "stream",
     "text": [
      "[6361 6522 6567]\n",
      "[6361 6361 6361 6361 6361 6361 6361 6522 6522 6522 6522 6522 6522 6522 6522\n",
      " 6522 6522 6522 6522 6522 6522 6522 6522 6522 6522 6522 6522 6522 6522 6522\n",
      " 6522 6522 6522 6522 6522 6522 6522 6522 6522 6522 6522 6567 6567 6567 6567\n",
      " 6567 6567 6567 6567 6567 6567 6567 6567 6567 6567 6567 6567 6567 6567 6567\n",
      " 6567 6567 6567 6567 6567 6567 6567 6567 6567 6567 6567 6567 6567 6567 6567\n",
      " 6567 6567 6567 6567 6567 6567 6567 6567 6567 6567 6567 6567 6567 6567 6567\n",
      " 6567 6567 6567 6567 6567 6567 6567 6567 6567 6567 6567 6567 6567 6567 6567\n",
      " 6567 6567 6567 6567 6567 6567 6567 6567 6567 6567 6567 6567 6567 6567]\n",
      "-----\n",
      "[47021190 47021191 47021203 47021214 47021216 47021218 47021220 47023345\n",
      " 47023352 47023364 47023367 47023368 47023369 47023370 47023371 47023372\n",
      " 47023373 47023374 47023375 47023376 47023377 47023378 47023380 47023381\n",
      " 47023382 47023384 47023387 47023388 47023389 47023390 47023391 47023393\n",
      " 47023400 47023401 47023403 47023404 47023406 47023407 47023410 47023412\n",
      " 47023415 47024228 47024229 47024230 47024231 47024232 47024233 47024235\n",
      " 47024236 47024239 47024240 47024241 47024243 47024244 47024245 47024254\n",
      " 47024260 47024261 47024262 47024263 47024266 47024277 47024278 47024279\n",
      " 47024280 47024283 47024284 47024286 47024290 47024291 47024293 47024294\n",
      " 47024296 47024298 47024299 47024300 47024302 47024303 47024304 47024305\n",
      " 47024306 47024309 47024310 47024312 47024313 47024314 47024315 47024316\n",
      " 47024317 47024318 47024319 47024320 47024321 47024322 47024324 47024344\n",
      " 47024345 47024347 47024348 47024349 47024350 47024351 47024352 47024366\n",
      " 47024367 47024370 47024372 47024380 47024388 47024390 47024394 47024395\n",
      " 47024396 47024398 47024399 47024400 47024401 47024403 47024406]\n",
      "[47021190 47021191 47021203 47021214 47021216 47021218 47021220 47023345\n",
      " 47023352 47023364 47023367 47023368 47023369 47023370 47023371 47023372\n",
      " 47023373 47023374 47023375 47023376 47023377 47023378 47023380 47023381\n",
      " 47023382 47023384 47023387 47023388 47023389 47023390 47023391 47023393\n",
      " 47023400 47023401 47023403 47023404 47023406 47023407 47023410 47023412\n",
      " 47023415 47024228 47024229 47024230 47024231 47024232 47024233 47024235\n",
      " 47024236 47024239 47024240 47024241 47024243 47024244 47024245 47024254\n",
      " 47024260 47024261 47024262 47024263 47024266 47024277 47024278 47024279\n",
      " 47024280 47024283 47024284 47024286 47024290 47024291 47024293 47024294\n",
      " 47024296 47024298 47024299 47024300 47024302 47024303 47024304 47024305\n",
      " 47024306 47024309 47024310 47024312 47024313 47024314 47024315 47024316\n",
      " 47024317 47024318 47024319 47024320 47024321 47024322 47024324 47024344\n",
      " 47024345 47024347 47024348 47024349 47024350 47024351 47024352 47024366\n",
      " 47024367 47024370 47024372 47024380 47024388 47024390 47024394 47024395\n",
      " 47024396 47024398 47024399 47024400 47024401 47024403 47024406]\n"
     ]
    }
   ],
   "source": [
    "fl_LMA = glm.get_flashes(flash_ids_LMA)\n",
    "print(fl_LMA.flash_id.data)\n",
    "print(fl_LMA.group_parent_flash_id.data)\n",
    "print('-----')\n",
    "print(np.unique(fl_LMA.group_id.data))\n",
    "print(np.unique(fl_LMA.event_parent_group_id.data))\n",
    "# t=glm.dataset.flash_energy[lasso.time_key]\n",
    "# a=glm.dataset.flash_energy"
   ]
  },
  {
   "cell_type": "code",
   "execution_count": 6,
   "metadata": {
    "collapsed": false
   },
   "outputs": [],
   "source": [
    "# # Doesn't work because good[in_time] in library makes a copy instead of a view\n",
    "# # mask = lasso.filter_mask(glm.dataset.flash_energy)\n",
    "\n",
    "# good = np.zeros(a.shape, dtype=bool)\n",
    "# for (t0, t1), poly_target in lasso.poly_lookup.iteritems():\n",
    "#     # make sure this is only one-side inclusive to eliminate double-counting\n",
    "#     in_time = (t >= t0) & (t < t1)\n",
    "#     reduced = a[in_time]\n",
    "#     if reduced.size > 0:\n",
    "#         inpoly = poly_target.filter_mask(reduced)\n",
    "#         # accept anything in this polygon at this time\n",
    "#         # use the data attribute to get a numpy boolean array instead \n",
    "#         # of the xarray wrapper\n",
    "#         # if you don't, it makes a copy of `good` and doesn't do the \n",
    "#         # in-place boolean mask operation\n",
    "#         good[in_time.data] |= inpoly\n"
   ]
  },
  {
   "cell_type": "code",
   "execution_count": 7,
   "metadata": {
    "collapsed": false
   },
   "outputs": [],
   "source": [
    "import cartopy.crs as ccrs\n",
    "from cartopy.feature import NaturalEarthFeature\n",
    "\n",
    "latlon_cs = ccrs.Geodetic()\n",
    "\n",
    "def no_transform(lons, lats):\n",
    "    return lons, lats\n",
    "\n",
    "def plot_fge(flash_data, ax_ev, transform=no_transform, mpl_transform=None):\n",
    "    \"\"\" transform is a function accepting two arrays lon, lat and \n",
    "        returning coordinates  x, y to pe plotted on ax_ev.\n",
    "        \n",
    "        mpl_transform may be used to pass a transform arguemnt to matplotlib\n",
    "        as is of commonly used with cartopy plots\n",
    "        \"\"\"\n",
    "#     print(flash_data.number_of_events)\n",
    "\n",
    "    ev_lats = fix_unsigned(flash_data.event_lat)#.data\n",
    "    ev_lons = fix_unsigned(flash_data.event_lon)#.data\n",
    "#     ev_lats, ev_lons = fix_event_locations(flash_data.event_lat, flash_data.event_lon, is_xarray=True)\n",
    "    ev_time = flash_data.event_time_offset.data\n",
    "    ev_rad = fix_unsigned(flash_data.event_energy)#.data\n",
    "    gr_lat = flash_data.group_lat.data\n",
    "    gr_lon = flash_data.group_lon.data\n",
    "    gr_rad = fix_unsigned(flash_data.group_energy)#.data)\n",
    "    fl_lat = flash_data.flash_lat.data\n",
    "    fl_lon = flash_data.flash_lon.data\n",
    "    fl_rad = fix_unsigned(flash_data.flash_energy)# .data\n",
    "    fl_area = fix_unsigned(flash_data.flash_area)#.data\n",
    "\n",
    "    gr_x, gr_y = transform(gr_lon, gr_lat)\n",
    "    fl_x, fl_y = transform(fl_lon, fl_lat)\n",
    "    ev_x, ev_y = transform(ev_lons, ev_lats)\n",
    "    \n",
    "    \n",
    "    kwargs = {}\n",
    "    if mpl_transform is not None:\n",
    "        kwargs['transform'] = mpl_transform\n",
    "    \n",
    "    ax_ev.scatter(gr_x, gr_y, c=gr_rad, marker='o', \n",
    "                  s=100/4, edgecolor='black', cmap='gray_r', \n",
    "                  vmin=glm.energy_min, vmax=glm.energy_max, \n",
    "                  zorder=100, label='groups', **kwargs)\n",
    "    ax_ev.scatter(ev_x, ev_y, c=ev_rad, marker='s', \n",
    "                  s=16/4, edgecolor='black', cmap='gray', \n",
    "                  vmin=glm.energy_min, vmax=glm.energy_max, \n",
    "                zorder=101, label='events', **kwargs)\n",
    "    ax_ev.scatter(fl_x, fl_y, c='r', marker='x', \n",
    "                  s=100/4, \n",
    "                  zorder=102, label='flashes',\n",
    "                  **kwargs) #, vmin=glm.energy_min, vmax=glm.energy_max)\n",
    "#     ax_ev.legend()\n",
    "    \n",
    "    \n",
    "def plot_glm(glm, good, ax, add_groups_events=False, max_area=None):\n",
    "    \"\"\" Plot flashes where good True. good is a boolen array with length that equals the number of flashes\"\"\"\n",
    "    flash_data=glm.dataset\n",
    "    \n",
    "    flash_area = fix_unsigned(flash_data.flash_area)\n",
    "\n",
    "    if max_area is not None:\n",
    "        area_mask = (flash_area< max_area).data\n",
    "        good = good & area_mask\n",
    "    \n",
    "    flash_ids = glm.dataset.flash_id[good]\n",
    "    \n",
    "    fl_lat = flash_data.flash_lat[good].data\n",
    "    fl_lon = flash_data.flash_lon[good].data\n",
    "    fl_rad = flash_data.flash_energy[good].data\n",
    "    fl_area = flash_area[good].data\n",
    "\n",
    "\n",
    "    if add_groups_events==True:\n",
    "        for fl_id in flash_ids:\n",
    "            plot_fge(glm.get_flashes([int(fl_id.data)]), ax, mpl_transform=latlon_cs)\n",
    "        ax.set_title(\"Flashes (x), Groups (o), Events (.), max area={0}\".format(max_area))\n",
    "    else:\n",
    "        area_max = fl_area.max()\n",
    "        area_scale = 0.16 # 2500.0/area_max # about 0.16 for a large population of MCS flashes\n",
    "        print(area_scale)\n",
    "        ax.set_title('Flashes, colored by radiance and sized by flash area, max area {0}'.format(max_area))\n",
    "        ax.scatter(fl_lon, fl_lat, c=fl_rad, s=fl_area*area_scale, edgecolor='black', marker='o', cmap='gray', alpha=0.5, transform=latlon_cs) #, vmin=glm.energy_min, vmax=glm.energy_max)\n",
    "\n",
    "\n",
    "plt.figure(figsize=(11,8.5))\n",
    "# ax = plt.axes(projection=ccrs.Geostationary(central_longitude=-95))\n",
    "ax = plt.axes(projection=ccrs.PlateCarree())\n",
    "# ax.coastlines()\n",
    "# ax.gridlines(draw_labels=True)\n",
    "ax.set_extent((lon0, lon1, lat0, lat1))\n",
    "# ax.set_global()\n",
    "\n",
    "# http://www.naturalearthdata.com/downloads/10m-cultural-vectors/10m-admin-1-states-provinces/\n",
    "states = NaturalEarthFeature(category='cultural', scale='50m', facecolor='none',\n",
    "                             name='admin_1_states_provinces_shp')\n",
    "# http://www.naturalearthdata.com/downloads/10m-cultural-vectors/10m-populated-places/\n",
    "roads = NaturalEarthFeature(category='cultural', scale='10m', facecolor='none',\n",
    "                             name='roads')\n",
    "ax.add_feature(roads, linewidth=.5, color='gray')\n",
    "ax.add_feature(states, linewidth=1.0)\n",
    "ax.coastlines('50m', linewidth=0.8)\n",
    "\n",
    "\n",
    "# two_group_max_area = 200.0 #km^2\n",
    "# plot_glm(glm, good, ax, max_area=two_group_max_area)\n",
    "plot_glm(glm, good, ax, add_groups_events=True)#, max_area=two_group_max_area)\n",
    "\n",
    "\n",
    "\n",
    "plt.show()\n",
    "\n"
   ]
  },
  {
   "cell_type": "code",
   "execution_count": 8,
   "metadata": {
    "collapsed": false
   },
   "outputs": [
    {
     "name": "stdout",
     "output_type": "stream",
     "text": [
      "<xarray.DataArray 'flash_time_offset_of_first_event' (number_of_flashes: 3)>\n",
      "array(['2017-04-26T07:30:40.902000000-0500',\n",
      "       '2017-04-26T07:30:52.740000000-0500',\n",
      "       '2017-04-26T07:30:56.234000000-0500'], dtype='datetime64[ns]')\n",
      "Coordinates:\n",
      "    flash_id                          (number_of_flashes) int16 6361 6522 6567\n",
      "    flash_time_offset_of_first_event  (number_of_flashes) datetime64[ns] 2017-04-26T12:30:40.902000 ...\n",
      "    flash_time_offset_of_last_event   (number_of_flashes) datetime64[ns] 2017-04-26T12:30:41.210000 ...\n",
      "    flash_lat                         (number_of_flashes) float32 33.991 ...\n",
      "    flash_lon                         (number_of_flashes) float32 -101.691 ...\n",
      "    product_time                      datetime64[ns] 2017-04-26T12:30:40\n",
      "    lightning_wavelength              float32 777.4\n",
      "    group_time_threshold              float32 0.0\n",
      "    flash_time_threshold              float32 3.33\n",
      "    lat_field_of_view                 float32 0.0\n",
      "    lon_field_of_view                 float32 -89.5\n",
      "Dimensions without coordinates: number_of_flashes\n",
      "Attributes:\n",
      "    long_name:      GLM L2+ Lightning Detection: time of occurrence of first ...\n",
      "    standard_name:  time\n",
      "    axis:           T\n"
     ]
    },
    {
     "name": "stderr",
     "output_type": "stream",
     "text": [
      "/Users/ebruning/anaconda/lib/python2.7/site-packages/matplotlib/artist.py:221: MatplotlibDeprecationWarning: This has been deprecated in mpl 1.5, please use the\n",
      "axes property.  A removal date has not been set.\n",
      "  warnings.warn(_get_axes_msg, mplDeprecation, stacklevel=1)\n"
     ]
    }
   ],
   "source": [
    "flash_data=glm.dataset.flash_time_offset_of_first_event[good]\n",
    "print(flash_data)"
   ]
  },
  {
   "cell_type": "code",
   "execution_count": 9,
   "metadata": {
    "collapsed": false
   },
   "outputs": [
    {
     "name": "stdout",
     "output_type": "stream",
     "text": [
      "<xarray.DataArray 'flash_id' ()>\n",
      "array(6567, dtype=int16)\n",
      "Coordinates:\n",
      "    flash_id                          int16 6567\n",
      "    flash_time_offset_of_first_event  datetime64[ns] 2017-04-26T12:30:56.234000\n",
      "    flash_time_offset_of_last_event   datetime64[ns] 2017-04-26T12:30:57.256000\n",
      "    flash_lat                         float32 34.1859\n",
      "    flash_lon                         float32 -101.607\n",
      "    product_time                      datetime64[ns] 2017-04-26T12:30:40\n",
      "    lightning_wavelength              float32 777.4\n",
      "    group_time_threshold              float32 0.0\n",
      "    flash_time_threshold              float32 3.33\n",
      "    lat_field_of_view                 float32 0.0\n",
      "    lon_field_of_view                 float32 -89.5\n",
      "Attributes:\n",
      "    long_name:  product-unique lightning flash identifier\n",
      "    _Unsigned:  true\n",
      "    units:      1\n",
      "<xarray.DataArray 'group_parent_flash_id' ()>\n",
      "array(78)\n",
      "Coordinates:\n",
      "    product_time          datetime64[ns] 2017-04-26T12:30:40\n",
      "    lightning_wavelength  float32 777.4\n",
      "    group_time_threshold  float32 0.0\n",
      "    flash_time_threshold  float32 3.33\n",
      "    lat_field_of_view     float32 0.0\n",
      "    lon_field_of_view     float32 -89.5\n"
     ]
    }
   ],
   "source": [
    "# 20 168 209\n",
    "# Flash ID 6567 has lots of groups … 78!\n",
    "\n",
    "print(glm.dataset.flash_id[209])\n",
    "\n",
    "print((glm.dataset.group_parent_flash_id == 6567).sum())"
   ]
  },
  {
   "cell_type": "markdown",
   "metadata": {
    "collapsed": false
   },
   "source": [
    "## LMA"
   ]
  },
  {
   "cell_type": "code",
   "execution_count": 10,
   "metadata": {
    "collapsed": false
   },
   "outputs": [],
   "source": [
    "# %matplotlib qt4\n",
    "from brawl4d.brawl4d import B4D_startup, redraw\n",
    "import os\n",
    "import numpy as np"
   ]
  },
  {
   "cell_type": "code",
   "execution_count": 11,
   "metadata": {
    "collapsed": false
   },
   "outputs": [],
   "source": [
    "data_path = '/data/LCFA-production/LMArealtime/'\n",
    "lma_file = os.path.join(data_path, 'LYLOUT_170426_120000_3600.dat.gz') # WTLMA only\n",
    "\n",
    "\n",
    "mcom_lat, mcom_lon =  33.581908, -101.880804\n",
    "from datetime import datetime\n",
    "panels = B4D_startup(basedate=datetime(2017,4,26), ctr_lat=mcom_lat, ctr_lon=mcom_lon)\n",
    "\n"
   ]
  },
  {
   "cell_type": "code",
   "execution_count": 12,
   "metadata": {
    "collapsed": true
   },
   "outputs": [],
   "source": [
    "geosys = panels.cs.geoProj\n",
    "mapproj = panels.cs.mapProj\n",
    "\n",
    "# ka1_radial = mapproj.fromECEF(*ka1radarsys.toECEF( np.asarray((0.0, radar_dist)), \n",
    "#                                                   np.asarray((ka1_az, ka1_az)), \n",
    "#                                                   np.asarray((0.0, 0.0))\n",
    "#                                                ))\n",
    "# ka2_radial = mapproj.fromECEF(*ka2radarsys.toECEF( np.asarray((0.0, radar_dist)), \n",
    "#                                                   np.asarray((ka2_az, ka2_az)), \n",
    "#                                                   np.asarray((0.0, 0.0))\n",
    "#                                                ))\n",
    "def plot_ka(ax):\n",
    "    ax.plot(ka1_radial[0]*1.0e-3, ka1_radial[1]*1.0e-3, 'k')\n",
    "    ax.annotate('Ka1', xy=(ka1_radial[0][0]*1.0e-3, ka1_radial[1][0]*1.0e-3))\n",
    "    ax.plot(ka2_radial[0]*1.0e-3, ka2_radial[1]*1.0e-3, 'k')\n",
    "    ax.annotate('Ka2', xy=(ka2_radial[0][0]*1.0e-3, ka2_radial[1][0]*1.0e-3))\n",
    "        \n",
    "    ax.axis((-5, 75, -40, 40))\n",
    "\n",
    "# plot_ka(panels.panels['xy'])\n"
   ]
  },
  {
   "cell_type": "code",
   "execution_count": 13,
   "metadata": {
    "collapsed": true
   },
   "outputs": [],
   "source": [
    "import matplotlib.pyplot as plt; plt.show()"
   ]
  },
  {
   "cell_type": "code",
   "execution_count": 14,
   "metadata": {
    "collapsed": false
   },
   "outputs": [],
   "source": [
    "from brawl4d.LMA.controller import LMAController\n",
    "lma_ctrl = LMAController()\n",
    "\n",
    "from matplotlib.cm import get_cmap\n",
    "# cmap = get_cmap('cubehelix_r')\n",
    "# scatter_kwargs = {'cmap':cmap}\n",
    "d, post_filter_brancher, scatter_ctrl, charge_lasso = lma_ctrl.load_dat_to_panels(panels, lma_file, mask_length=6)#,  \n",
    "                                                                                   #scatter_kwargs=scatter_kwargs)"
   ]
  },
  {
   "cell_type": "code",
   "execution_count": 15,
   "metadata": {
    "collapsed": false
   },
   "outputs": [
    {
     "data": {
      "text/plain": [
       "(-60, 60, 0, 120)"
      ]
     },
     "execution_count": 15,
     "metadata": {},
     "output_type": "execute_result"
    }
   ],
   "source": [
    "panels.panels['tz'].axis((12*3600 + 30*60 + 40, 12*3600 + 31*60, 1, 10))\n",
    "panels.panels['xy'].axis((-60, 60, 0, 120))\n",
    "\n"
   ]
  },
  {
   "cell_type": "code",
   "execution_count": 16,
   "metadata": {
    "collapsed": true
   },
   "outputs": [],
   "source": [
    "from brawl4d.LMA.widgets import LMAwidgetController\n",
    "from IPython.display import display\n",
    "from brawl4d.LMA.controller import LMAController\n",
    "\n",
    "lma_tools = LMAwidgetController(panels, lma_ctrl, scatter_ctrl, charge_lasso, d)\n",
    "display(lma_tools.tools_popup)"
   ]
  },
  {
   "cell_type": "code",
   "execution_count": 17,
   "metadata": {
    "collapsed": false
   },
   "outputs": [],
   "source": [
    "flash_ids = (6361, 6522, 6567)"
   ]
  },
  {
   "cell_type": "code",
   "execution_count": 18,
   "metadata": {
    "collapsed": false
   },
   "outputs": [],
   "source": [
    "\n",
    "\n",
    "def gen_flashes(glm, flash_ids):\n",
    "    \"\"\" Generate flashes one at a time. Inefficient and not recommended. Use get_flashes on the whole list.\"\"\"\n",
    "    for flash_id in flash_ids:\n",
    "        yield glm.get_flashes([flash_id])\n",
    "\n",
    "def transform_ll_to_map(lons, lats):\n",
    "    alts = np.zeros_like(lons)\n",
    "    geosys = panels.cs.geoProj\n",
    "    mapproj = panels.cs.mapProj\n",
    "    x,y,z = mapproj.fromECEF(*geosys.toECEF( lons,lats,alts))    \n",
    "    return x*1.0e-3, y*1.0e-3\n",
    "\n",
    "\n",
    "\n",
    "def plot_fge_tz(flash_data, ax, basedate, z=0.0):\n",
    "    \"\"\" Plot GLM data in on a time-height axis, assuming z in km.\n",
    "        Time is plotted as seconds relative to basedate.\n",
    "    \"\"\"\n",
    "    \n",
    "    ev_z = z\n",
    "    gr_z = z\n",
    "    fl_z = z\n",
    "    \n",
    "    ev_rad = fix_unsigned(flash_data.event_energy)#.data\n",
    "    gr_rad = fix_unsigned(flash_data.group_energy)#.data\n",
    "    fl_rad = fix_unsigned(flash_data.flash_energy)#.data\n",
    "    fl_area = fix_unsigned(flash_data.flash_area)#.data\n",
    "    \n",
    "    # flashes\n",
    "    t = sec_since_basedate(flash_data.flash_time_offset_of_first_event.data, panels.basedate)\n",
    "    z = np.zeros_like(t) + fl_z\n",
    "    ax.scatter(t, z, marker='x', \n",
    "                  s=100/4, \n",
    "                  zorder=102, label='flashes',)\n",
    "        \n",
    "    # groups\n",
    "    t = sec_since_basedate(flash_data.group_time_offset.data, panels.basedate)\n",
    "    z = np.zeros_like(t) + gr_z\n",
    "    print(t)\n",
    "    print(z)\n",
    "    print(gr_rad)\n",
    "    ax.scatter(t, z, c=gr_rad, marker='o', \n",
    "                  s=100/4, edgecolor='black', cmap='gray_r', \n",
    "                  vmin=glm.energy_min, vmax=glm.energy_max, \n",
    "                  zorder=100, label='groups')\n",
    "        \n",
    "    # events\n",
    "    t = sec_since_basedate(flash_data.event_time_offset.data, panels.basedate)\n",
    "    z = np.zeros_like(t) + ev_z\n",
    "    ax.scatter(t, z+.1, c=ev_rad, marker='s', \n",
    "                    s=16/4, edgecolor='black', cmap='gray', \n",
    "                    vmin=glm.energy_min, vmax=glm.energy_max, \n",
    "                    zorder=101, label='events')\n",
    "\n",
    "def plot_glm_b4d(glm, panels, flash_ids):\n",
    "    for flash_data in gen_flashes(glm, flash_ids):\n",
    "        plot_fge(flash_data, panels.panels['xy'], transform=transform_ll_to_map)\n",
    "        plot_fge_tz(flash_data, panels.panels['tz'], panels.basedate, z=1.5)"
   ]
  },
  {
   "cell_type": "code",
   "execution_count": 19,
   "metadata": {
    "collapsed": false
   },
   "outputs": [
    {
     "name": "stdout",
     "output_type": "stream",
     "text": [
      "[ 45040.902  45040.904  45041.116  45041.176  45041.178  45041.192\n",
      "  45041.21 ]\n",
      "[ 1.5  1.5  1.5  1.5  1.5  1.5  1.5]\n",
      "[  4.52596989e-15   4.52596989e-15   4.52596989e-15   1.06298498e-14\n",
      "   6.05193987e-15   6.05193987e-15   4.52596989e-15]\n",
      "[ 45052.74   45052.83   45052.88   45052.906  45052.91   45052.912\n",
      "  45052.926  45052.928  45052.934  45052.936  45052.94   45052.942\n",
      "  45052.944  45052.946  45052.948  45052.956  45052.958  45052.968\n",
      "  45052.976  45052.996  45053.004  45053.018  45053.02   45053.028\n",
      "  45053.034  45053.098  45053.112  45053.162  45053.192  45053.196\n",
      "  45053.198  45053.204  45053.206  45053.228]\n",
      "[ 1.5  1.5  1.5  1.5  1.5  1.5  1.5  1.5  1.5  1.5  1.5  1.5  1.5  1.5  1.5\n",
      "  1.5  1.5  1.5  1.5  1.5  1.5  1.5  1.5  1.5  1.5  1.5  1.5  1.5  1.5  1.5\n",
      "  1.5  1.5  1.5  1.5]\n",
      "[  7.57790985e-15   6.05193987e-15   4.52596989e-15   1.06298498e-14\n",
      "   7.57790985e-15   1.67337297e-14   6.05193987e-15   6.05193987e-15\n",
      "   1.36817898e-14   4.52596989e-15   1.67337297e-14   3.35193996e-14\n",
      "   2.43635797e-14   1.52077598e-14   7.57790985e-15   7.57790985e-15\n",
      "   2.58895496e-14   7.57790985e-15   1.06298498e-14   6.05193987e-15\n",
      "   6.05193987e-15   6.05193987e-15   6.05193987e-15   4.52596989e-15\n",
      "   1.52077598e-14   1.06298498e-14   6.05193987e-15   4.52596989e-15\n",
      "   4.52596989e-15   9.10387984e-15   3.04674596e-14   4.52596989e-15\n",
      "   7.57790985e-15   7.57790985e-15]\n",
      "[ 45056.234  45056.236  45056.238  45056.24   45056.242  45056.284  45056.3\n",
      "  45056.308  45056.316  45056.322  45056.324  45056.33   45056.334\n",
      "  45056.336  45056.35   45056.394  45056.396  45056.396  45056.398\n",
      "  45056.404  45056.482  45056.484  45056.486  45056.486  45056.5    45056.506\n",
      "  45056.54   45056.55   45056.55   45056.552  45056.552  45056.566\n",
      "  45056.568  45056.574  45056.588  45056.612  45056.612  45056.614\n",
      "  45056.614  45056.616  45056.646  45056.648  45056.648  45056.652\n",
      "  45056.654  45056.66   45056.662  45056.664  45056.668  45056.67\n",
      "  45056.672  45056.674  45056.676  45056.678  45056.884  45056.884\n",
      "  45056.886  45056.888  45056.89   45056.892  45056.894  45056.898\n",
      "  45057.006  45057.02   45057.042  45057.076  45057.108  45057.12\n",
      "  45057.122  45057.142  45057.142  45057.144  45057.18   45057.184\n",
      "  45057.196  45057.198  45057.198  45057.256]\n",
      "[ 1.5  1.5  1.5  1.5  1.5  1.5  1.5  1.5  1.5  1.5  1.5  1.5  1.5  1.5  1.5\n",
      "  1.5  1.5  1.5  1.5  1.5  1.5  1.5  1.5  1.5  1.5  1.5  1.5  1.5  1.5  1.5\n",
      "  1.5  1.5  1.5  1.5  1.5  1.5  1.5  1.5  1.5  1.5  1.5  1.5  1.5  1.5  1.5\n",
      "  1.5  1.5  1.5  1.5  1.5  1.5  1.5  1.5  1.5  1.5  1.5  1.5  1.5  1.5  1.5\n",
      "  1.5  1.5  1.5  1.5  1.5  1.5  1.5  1.5  1.5  1.5  1.5  1.5  1.5  1.5  1.5\n",
      "  1.5  1.5  1.5]\n",
      "[  1.67337297e-14   1.06298498e-14   7.57790985e-15   6.05193987e-15\n",
      "   1.06298498e-14   4.52596989e-15   1.06298498e-14   7.57790985e-15\n",
      "   1.36817898e-14   2.13116397e-14   6.70907392e-14   2.74155196e-14\n",
      "   3.29557576e-13   1.36817898e-14   6.05193987e-15   5.48829793e-14\n",
      "   2.45629227e-13   4.52596989e-15   7.57790985e-15   7.57790985e-15\n",
      "   1.18973719e-13   1.52077598e-14   1.18973719e-13   4.52596989e-15\n",
      "   1.06298498e-14   4.52596989e-15   1.21558198e-14   2.74622657e-13\n",
      "   7.57790985e-15   6.05193987e-15   9.30322289e-14   1.06298498e-14\n",
      "   9.10387984e-15   7.57790985e-15   7.57790985e-15   7.57790985e-15\n",
      "   1.98324158e-13   1.08291929e-13   6.05193987e-15   4.52596989e-15\n",
      "   2.28376097e-14   2.43635797e-14   6.05193987e-15   1.21558198e-14\n",
      "   9.10387984e-15   7.57790985e-15   1.67337297e-14   6.05193987e-15\n",
      "   1.06298498e-14   3.35193996e-14   7.57790985e-15   6.05193987e-15\n",
      "   9.10387984e-15   7.57790985e-15   2.43635797e-14   4.52596989e-15\n",
      "   9.10387984e-15   3.96232795e-14   1.82596997e-14   1.36817898e-14\n",
      "   9.10387984e-15   4.52596989e-15   9.10387984e-15   6.05193987e-15\n",
      "   6.05193987e-15   7.57790985e-15   9.10387984e-15   3.04674596e-14\n",
      "   2.13116397e-14   7.57790985e-15   1.57122968e-13   1.82596997e-14\n",
      "   2.58895496e-14   3.80973095e-14   9.10387984e-15   6.40387992e-14\n",
      "   4.52596989e-15   4.52596989e-15]\n"
     ]
    }
   ],
   "source": [
    "plot_glm_b4d(glm, panels, flash_ids)"
   ]
  },
  {
   "cell_type": "markdown",
   "metadata": {},
   "source": [
    "## FED Gridding"
   ]
  },
  {
   "cell_type": "code",
   "execution_count": 20,
   "metadata": {
    "collapsed": false
   },
   "outputs": [
    {
     "name": "stdout",
     "output_type": "stream",
     "text": [
      "((-105.80465892027087, -97.195341079729133), (29.893608635213752, 37.106391364786248))\n",
      "Processing /data/LCFA-production/GLM-L2-LCFA_G16_s20170429/OR_GLM-L2-LCFA_G16_s20171190800000_e20171190800200_c20171190800228.nc\n",
      "with points numbering 10320\n",
      "accumulating  10320 points for  event\n",
      "with points numbering 145\n",
      "accumulating  145 points for  init\n",
      "extent with points numbering 10320  with weights None\n",
      "accumulating  1187 points for  extent\n",
      "extent with points numbering 10320  with weights area\n",
      "accumulating  1187 points for  footprint\n",
      "extent with points numbering 10320  with weights specific_energy\n",
      "accumulating  1187 points for  specific_energy\n",
      "extent with points numbering 10320  with weights area\n",
      "accumulating  1187 points for  flashsize_std\n",
      "extent with points numbering 10320  with weights total_energy\n",
      "accumulating  1187 points for  total_energy\n",
      "Processing /data/LCFA-production/GLM-L2-LCFA_G16_s20170429/OR_GLM-L2-LCFA_G16_s20171190800200_e20171190800400_c20171190800429.nc\n",
      "with points numbering 8383\n",
      "accumulating  8383 points for  event\n",
      "with points numbering 145\n",
      "accumulating  145 points for  init\n",
      "extent with points numbering 8383  with weights None\n",
      "accumulating  980 points for  extent\n",
      "extent with points numbering 8383  with weights area\n",
      "accumulating  980 points for  footprint\n",
      "extent with points numbering 8383  with weights specific_energy\n",
      "accumulating  980 points for  specific_energy\n",
      "extent with points numbering 8383  with weights area\n",
      "accumulating  980 points for  flashsize_std\n",
      "extent with points numbering 8383  with weights total_energy\n",
      "accumulating  980 points for  total_energy\n",
      "Processing /data/LCFA-production/GLM-L2-LCFA_G16_s20170429/OR_GLM-L2-LCFA_G16_s20171190800400_e20171190801000_c20171190801029.nc\n",
      "with points numbering 10462\n",
      "accumulating  10462 points for  event\n",
      "with points numbering 166\n",
      "accumulating  166 points for  init\n",
      "extent with points numbering 10462  with weights None\n",
      "accumulating  1181 points for  extent\n",
      "extent with points numbering 10462  with weights area\n",
      "accumulating  1181 points for  footprint\n",
      "extent with points numbering 10462  with weights specific_energy\n",
      "accumulating  1181 points for  specific_energy\n",
      "extent with points numbering 10462  with weights area\n",
      "accumulating  1181 points for  flashsize_std\n",
      "extent with points numbering 10462  with weights total_energy\n",
      "accumulating  1181 points for  total_energy\n",
      "with points numbering 7\n",
      "accumulating  7 points for  event\n",
      "with points numbering 2\n",
      "accumulating  2 points for  init\n",
      "extent with points numbering 7  with weights None\n",
      "accumulating  5 points for  extent\n",
      "extent with points numbering 7  with weights area\n",
      "accumulating  5 points for  footprint\n",
      "extent with points numbering 7  with weights specific_energy\n",
      "accumulating  5 points for  specific_energy\n",
      "extent with points numbering 7  with weights area\n",
      "accumulating  5 points for  flashsize_std\n",
      "extent with points numbering 7  with weights total_energy\n",
      "accumulating  5 points for  total_energy\n",
      "Processing /data/LCFA-production/GLM-L2-LCFA_G16_s20170429/OR_GLM-L2-LCFA_G16_s20171190801000_e20171190801200_c20171190801225.nc\n",
      "with points numbering 404\n",
      "accumulating  404 points for  event\n",
      "with points numbering 4\n",
      "accumulating  4 points for  init\n",
      "extent with points numbering 404  with weights None\n",
      "accumulating  53 points for  extent\n",
      "extent with points numbering 404  with weights area\n",
      "accumulating  53 points for  footprint\n",
      "extent with points numbering 404  with weights specific_energy\n",
      "accumulating  53 points for  specific_energy\n",
      "extent with points numbering 404  with weights area\n",
      "accumulating  53 points for  flashsize_std\n",
      "extent with points numbering 404  with weights total_energy\n",
      "accumulating  53 points for  total_energy\n",
      "with points numbering 9197\n",
      "accumulating  9197 points for  event\n",
      "with points numbering 163\n",
      "accumulating  163 points for  init\n",
      "extent with points numbering 9197  with weights None\n",
      "accumulating  1053 points for  extent\n",
      "extent with points numbering 9197  with weights area\n",
      "accumulating  1053 points for  footprint\n",
      "extent with points numbering 9197  with weights specific_energy\n",
      "accumulating  1053 points for  specific_energy\n",
      "extent with points numbering 9197  with weights area\n",
      "accumulating  1053 points for  flashsize_std\n",
      "extent with points numbering 9197  with weights total_energy\n",
      "accumulating  1053 points for  total_energy\n",
      "Processing /data/LCFA-production/GLM-L2-LCFA_G16_s20170429/OR_GLM-L2-LCFA_G16_s20171190801200_e20171190801400_c20171190801426.nc\n",
      "with points numbering 12626\n",
      "accumulating  12626 points for  event\n",
      "with points numbering 165\n",
      "accumulating  165 points for  init\n",
      "extent with points numbering 12626  with weights None\n",
      "accumulating  1273 points for  extent\n",
      "extent with points numbering 12626  with weights area\n",
      "accumulating  1273 points for  footprint\n",
      "extent with points numbering 12626  with weights specific_energy\n",
      "accumulating  1273 points for  specific_energy\n",
      "extent with points numbering 12626  with weights area\n",
      "accumulating  1273 points for  flashsize_std\n",
      "extent with points numbering 12626  with weights total_energy\n",
      "accumulating  1273 points for  total_energy\n",
      "Processing /data/LCFA-production/GLM-L2-LCFA_G16_s20170429/OR_GLM-L2-LCFA_G16_s20171190801400_e20171190802000_c20171190802028.nc\n",
      "with points numbering 10217\n",
      "accumulating  10217 points for  event\n",
      "with points numbering 161\n",
      "accumulating  161 points for  init\n"
     ]
    },
    {
     "ename": "KeyboardInterrupt",
     "evalue": "",
     "output_type": "error",
     "traceback": [
      "\u001b[0;31m---------------------------------------------------------------------------\u001b[0m",
      "\u001b[0;31mKeyboardInterrupt\u001b[0m                         Traceback (most recent call last)",
      "\u001b[0;32m<ipython-input-20-c4e8179e6d40>\u001b[0m in \u001b[0;36m<module>\u001b[0;34m()\u001b[0m\n\u001b[1;32m     46\u001b[0m         \u001b[0mctr_lat\u001b[0m\u001b[0;34m=\u001b[0m\u001b[0mctr_lat\u001b[0m\u001b[0;34m,\u001b[0m \u001b[0mctr_lon\u001b[0m\u001b[0;34m=\u001b[0m\u001b[0mctr_lon\u001b[0m\u001b[0;34m,\u001b[0m \u001b[0moutpath\u001b[0m \u001b[0;34m=\u001b[0m \u001b[0moutpath\u001b[0m\u001b[0;34m,\u001b[0m\u001b[0;34m\u001b[0m\u001b[0m\n\u001b[1;32m     47\u001b[0m         \u001b[0moutput_writer\u001b[0m \u001b[0;34m=\u001b[0m \u001b[0mwrite_cf_netcdf_latlon\u001b[0m\u001b[0;34m,\u001b[0m \u001b[0;31m#output_writer_3d = write_cf_netcdf_3d_latlon,\u001b[0m\u001b[0;34m\u001b[0m\u001b[0m\n\u001b[0;32m---> 48\u001b[0;31m         \u001b[0moutput_filename_prefix\u001b[0m\u001b[0;34m=\u001b[0m\u001b[0;34m'GLM'\u001b[0m\u001b[0;34m,\u001b[0m \u001b[0mspatial_scale_factor\u001b[0m\u001b[0;34m=\u001b[0m\u001b[0;36m1.0\u001b[0m\u001b[0;34m\u001b[0m\u001b[0m\n\u001b[0m\u001b[1;32m     49\u001b[0m         )\n\u001b[1;32m     50\u001b[0m \u001b[0;34m\u001b[0m\u001b[0m\n",
      "\u001b[0;32m/Users/ebruning/code/glmtools/grid/make_grids.pyc\u001b[0m in \u001b[0;36mgrid_GLM_flashes\u001b[0;34m(GLM_filenames, start_time, end_time, **kwargs)\u001b[0m\n\u001b[1;32m     57\u001b[0m         \u001b[0msys\u001b[0m\u001b[0;34m.\u001b[0m\u001b[0mstdout\u001b[0m\u001b[0;34m.\u001b[0m\u001b[0mflush\u001b[0m\u001b[0;34m(\u001b[0m\u001b[0;34m)\u001b[0m\u001b[0;34m\u001b[0m\u001b[0m\n\u001b[1;32m     58\u001b[0m         \u001b[0mglm\u001b[0m \u001b[0;34m=\u001b[0m \u001b[0mGLMDataset\u001b[0m\u001b[0;34m(\u001b[0m\u001b[0mfilename\u001b[0m\u001b[0;34m)\u001b[0m\u001b[0;34m\u001b[0m\u001b[0m\n\u001b[0;32m---> 59\u001b[0;31m         \u001b[0mgridder\u001b[0m\u001b[0;34m.\u001b[0m\u001b[0mprocess_flashes\u001b[0m\u001b[0;34m(\u001b[0m\u001b[0mglm\u001b[0m\u001b[0;34m,\u001b[0m \u001b[0;34m**\u001b[0m\u001b[0mprocess_flash_kwargs\u001b[0m\u001b[0;34m)\u001b[0m\u001b[0;34m\u001b[0m\u001b[0m\n\u001b[0m\u001b[1;32m     60\u001b[0m \u001b[0;34m\u001b[0m\u001b[0m\n\u001b[1;32m     61\u001b[0m     \u001b[0moutput\u001b[0m \u001b[0;34m=\u001b[0m \u001b[0mgridder\u001b[0m\u001b[0;34m.\u001b[0m\u001b[0mwrite_grids\u001b[0m\u001b[0;34m(\u001b[0m\u001b[0;34m**\u001b[0m\u001b[0mout_kwargs\u001b[0m\u001b[0;34m)\u001b[0m\u001b[0;34m\u001b[0m\u001b[0m\n",
      "\u001b[0;32m/Users/ebruning/code/glmtools/grid/make_grids.pyc\u001b[0m in \u001b[0;36mprocess_flashes\u001b[0;34m(self, glm, min_points_per_flash, x_bnd, y_bnd)\u001b[0m\n\u001b[1;32m     23\u001b[0m         \u001b[0;31m# interpret x_bnd and y_bnd as lon, lat\u001b[0m\u001b[0;34m\u001b[0m\u001b[0;34m\u001b[0m\u001b[0m\n\u001b[1;32m     24\u001b[0m         read_flashes(glm, self.framer, base_date=self.t_ref, min_points=self.min_points_per_flash, \n\u001b[0;32m---> 25\u001b[0;31m                      lon_range=x_bnd, lat_range=y_bnd)\n\u001b[0m\u001b[1;32m     26\u001b[0m \u001b[0;34m\u001b[0m\u001b[0m\n\u001b[1;32m     27\u001b[0m \u001b[0;34m\u001b[0m\u001b[0m\n",
      "\u001b[0;32m/Users/ebruning/code/glmtools/grid/make_grids.pyc\u001b[0m in \u001b[0;36mread_flashes\u001b[0;34m(glm, target, base_date, min_points, lon_range, lat_range)\u001b[0m\n\u001b[1;32m     14\u001b[0m     \u001b[0mevents\u001b[0m\u001b[0;34m,\u001b[0m \u001b[0mflashes\u001b[0m \u001b[0;34m=\u001b[0m \u001b[0mmimic_lma_dataset\u001b[0m\u001b[0;34m(\u001b[0m\u001b[0mglm\u001b[0m\u001b[0;34m,\u001b[0m \u001b[0mbase_date\u001b[0m\u001b[0;34m,\u001b[0m \u001b[0mlon_range\u001b[0m\u001b[0;34m=\u001b[0m\u001b[0mlon_range\u001b[0m\u001b[0;34m,\u001b[0m \u001b[0mlat_range\u001b[0m\u001b[0;34m=\u001b[0m\u001b[0mlat_range\u001b[0m\u001b[0;34m)\u001b[0m\u001b[0;34m\u001b[0m\u001b[0m\n\u001b[1;32m     15\u001b[0m     \u001b[0;32mif\u001b[0m \u001b[0mevents\u001b[0m\u001b[0;34m.\u001b[0m\u001b[0mshape\u001b[0m\u001b[0;34m[\u001b[0m\u001b[0;36m0\u001b[0m\u001b[0;34m]\u001b[0m \u001b[0;34m>=\u001b[0m \u001b[0mmin_points\u001b[0m\u001b[0;34m:\u001b[0m\u001b[0;34m\u001b[0m\u001b[0m\n\u001b[0;32m---> 16\u001b[0;31m         \u001b[0mtarget\u001b[0m\u001b[0;34m.\u001b[0m\u001b[0msend\u001b[0m\u001b[0;34m(\u001b[0m\u001b[0;34m(\u001b[0m\u001b[0mevents\u001b[0m\u001b[0;34m,\u001b[0m \u001b[0mflashes\u001b[0m\u001b[0;34m)\u001b[0m\u001b[0;34m)\u001b[0m\u001b[0;34m\u001b[0m\u001b[0m\n\u001b[0m\u001b[1;32m     17\u001b[0m         \u001b[0;32mdel\u001b[0m \u001b[0mevents\u001b[0m\u001b[0;34m,\u001b[0m \u001b[0mflashes\u001b[0m\u001b[0;34m\u001b[0m\u001b[0m\n\u001b[1;32m     18\u001b[0m \u001b[0;34m\u001b[0m\u001b[0m\n",
      "\u001b[0;32m/Users/ebruning/code/lmatools/grid/density_to_files.pyc\u001b[0m in \u001b[0;36mflashes_to_frames\u001b[0;34m(time_edges, targets, time_key, time_edges_datetime, flash_counter)\u001b[0m\n\u001b[1;32m    179\u001b[0m             \u001b[0;31m# flash_count_messages += flash_count_status\u001b[0m\u001b[0;34m\u001b[0m\u001b[0;34m\u001b[0m\u001b[0m\n\u001b[1;32m    180\u001b[0m             \u001b[0;31m# print flash_count_status\u001b[0m\u001b[0;34m\u001b[0m\u001b[0;34m\u001b[0m\u001b[0m\n\u001b[0;32m--> 181\u001b[0;31m             \u001b[0mtarget\u001b[0m\u001b[0;34m.\u001b[0m\u001b[0msend\u001b[0m\u001b[0;34m(\u001b[0m\u001b[0;34m(\u001b[0m\u001b[0mevents\u001b[0m\u001b[0;34m,\u001b[0m \u001b[0mthese_flashes\u001b[0m\u001b[0;34m)\u001b[0m\u001b[0;34m)\u001b[0m\u001b[0;34m\u001b[0m\u001b[0m\n\u001b[0m\u001b[1;32m    182\u001b[0m         \u001b[0;32mdel\u001b[0m \u001b[0mevents\u001b[0m\u001b[0;34m,\u001b[0m \u001b[0mflashes\u001b[0m\u001b[0;34m,\u001b[0m \u001b[0mstart_times\u001b[0m\u001b[0;34m,\u001b[0m \u001b[0msort_idx\u001b[0m\u001b[0;34m,\u001b[0m \u001b[0midx\u001b[0m\u001b[0;34m,\u001b[0m \u001b[0mslices\u001b[0m\u001b[0;34m\u001b[0m\u001b[0m\n\u001b[1;32m    183\u001b[0m     \u001b[0;32mprint\u001b[0m\u001b[0;34m(\u001b[0m\u001b[0mflash_count_messages\u001b[0m\u001b[0;34m)\u001b[0m\u001b[0;34m\u001b[0m\u001b[0m\n",
      "\u001b[0;32m/Users/ebruning/code/lmatools/grid/density_to_files.pyc\u001b[0m in \u001b[0;36mextract_events_for_flashes\u001b[0;34m(target, flashID_key)\u001b[0m\n\u001b[1;32m    212\u001b[0m         \u001b[0;31m# events = np.fromiter( (mapper[fl['flash_id']] for fl in fls), dtype=event_dtype)\u001b[0m\u001b[0;34m\u001b[0m\u001b[0;34m\u001b[0m\u001b[0m\n\u001b[1;32m    213\u001b[0m \u001b[0;34m\u001b[0m\u001b[0m\n\u001b[0;32m--> 214\u001b[0;31m         \u001b[0mtarget\u001b[0m\u001b[0;34m.\u001b[0m\u001b[0msend\u001b[0m\u001b[0;34m(\u001b[0m\u001b[0;34m(\u001b[0m\u001b[0mevents\u001b[0m\u001b[0;34m,\u001b[0m \u001b[0mfls\u001b[0m\u001b[0;34m)\u001b[0m\u001b[0;34m)\u001b[0m\u001b[0;34m\u001b[0m\u001b[0m\n\u001b[0m\u001b[1;32m    215\u001b[0m         \u001b[0;32mdel\u001b[0m \u001b[0mevents\u001b[0m\u001b[0;34m,\u001b[0m \u001b[0mevs\u001b[0m\u001b[0;34m,\u001b[0m \u001b[0mfls\u001b[0m\u001b[0;34m\u001b[0m\u001b[0m\n\u001b[1;32m    216\u001b[0m \u001b[0;34m\u001b[0m\u001b[0m\n",
      "\u001b[0;32m/Users/ebruning/code/lmatools/stream/subset.pyc\u001b[0m in \u001b[0;36mbroadcast\u001b[0;34m(targets)\u001b[0m\n\u001b[1;32m     82\u001b[0m         \u001b[0mstuff\u001b[0m \u001b[0;34m=\u001b[0m \u001b[0;34m(\u001b[0m\u001b[0;32myield\u001b[0m\u001b[0;34m)\u001b[0m\u001b[0;34m\u001b[0m\u001b[0m\n\u001b[1;32m     83\u001b[0m         \u001b[0;32mfor\u001b[0m \u001b[0mtarget\u001b[0m \u001b[0;32min\u001b[0m \u001b[0mtargets\u001b[0m\u001b[0;34m:\u001b[0m\u001b[0;34m\u001b[0m\u001b[0m\n\u001b[0;32m---> 84\u001b[0;31m             \u001b[0mtarget\u001b[0m\u001b[0;34m.\u001b[0m\u001b[0msend\u001b[0m\u001b[0;34m(\u001b[0m\u001b[0mstuff\u001b[0m\u001b[0;34m)\u001b[0m\u001b[0;34m\u001b[0m\u001b[0m\n\u001b[0m\u001b[1;32m     85\u001b[0m         \u001b[0;32mdel\u001b[0m \u001b[0mstuff\u001b[0m\u001b[0;34m\u001b[0m\u001b[0m\n\u001b[1;32m     86\u001b[0m \u001b[0;34m\u001b[0m\u001b[0m\n",
      "\u001b[0;32m/Users/ebruning/code/lmatools/grid/density_to_files.pyc\u001b[0m in \u001b[0;36mproject\u001b[0;34m(x_coord, y_coord, z_coord, mapProj, geoProj, target, use_flashes)\u001b[0m\n\u001b[1;32m    257\u001b[0m                 \u001b[0;34m*\u001b[0m\u001b[0mgeoProj\u001b[0m\u001b[0;34m.\u001b[0m\u001b[0mtoECEF\u001b[0m\u001b[0;34m(\u001b[0m\u001b[0mpoints\u001b[0m\u001b[0;34m[\u001b[0m\u001b[0mx_coord\u001b[0m\u001b[0;34m]\u001b[0m\u001b[0;34m,\u001b[0m \u001b[0mpoints\u001b[0m\u001b[0;34m[\u001b[0m\u001b[0my_coord\u001b[0m\u001b[0;34m]\u001b[0m\u001b[0;34m,\u001b[0m \u001b[0mpoints\u001b[0m\u001b[0;34m[\u001b[0m\u001b[0mz_coord\u001b[0m\u001b[0;34m]\u001b[0m\u001b[0;34m)\u001b[0m\u001b[0;34m\u001b[0m\u001b[0m\n\u001b[1;32m    258\u001b[0m                 )\n\u001b[0;32m--> 259\u001b[0;31m         \u001b[0mtarget\u001b[0m\u001b[0;34m.\u001b[0m\u001b[0msend\u001b[0m\u001b[0;34m(\u001b[0m\u001b[0;34m(\u001b[0m\u001b[0mevents\u001b[0m\u001b[0;34m,\u001b[0m \u001b[0mflashes\u001b[0m\u001b[0;34m,\u001b[0m \u001b[0mx\u001b[0m\u001b[0;34m,\u001b[0m\u001b[0my\u001b[0m\u001b[0;34m,\u001b[0m\u001b[0mz\u001b[0m\u001b[0;34m)\u001b[0m\u001b[0;34m)\u001b[0m\u001b[0;34m\u001b[0m\u001b[0m\n\u001b[0m\u001b[1;32m    260\u001b[0m         \u001b[0;32mdel\u001b[0m \u001b[0mevents\u001b[0m\u001b[0;34m,\u001b[0m \u001b[0mflashes\u001b[0m\u001b[0;34m,\u001b[0m \u001b[0mx\u001b[0m\u001b[0;34m,\u001b[0m\u001b[0my\u001b[0m\u001b[0;34m,\u001b[0m\u001b[0mz\u001b[0m\u001b[0;34m,\u001b[0m \u001b[0mpoints\u001b[0m\u001b[0;34m\u001b[0m\u001b[0m\n\u001b[1;32m    261\u001b[0m \u001b[0;34m\u001b[0m\u001b[0m\n",
      "\u001b[0;32m/Users/ebruning/code/lmatools/grid/density_to_files.pyc\u001b[0m in \u001b[0;36mpoint_density\u001b[0;34m(target)\u001b[0m\n\u001b[1;32m    320\u001b[0m         \u001b[0;32mif\u001b[0m \u001b[0mlen\u001b[0m\u001b[0;34m(\u001b[0m\u001b[0mx\u001b[0m\u001b[0;34m)\u001b[0m \u001b[0;34m>\u001b[0m \u001b[0;36m0\u001b[0m\u001b[0;34m:\u001b[0m\u001b[0;34m\u001b[0m\u001b[0m\n\u001b[1;32m    321\u001b[0m             \u001b[0;32mprint\u001b[0m\u001b[0;34m(\u001b[0m\u001b[0;34m'with points numbering'\u001b[0m\u001b[0;34m,\u001b[0m \u001b[0mlen\u001b[0m\u001b[0;34m(\u001b[0m\u001b[0mx\u001b[0m\u001b[0;34m)\u001b[0m\u001b[0;34m)\u001b[0m\u001b[0;34m\u001b[0m\u001b[0m\n\u001b[0;32m--> 322\u001b[0;31m             \u001b[0mtarget\u001b[0m\u001b[0;34m.\u001b[0m\u001b[0msend\u001b[0m\u001b[0;34m(\u001b[0m\u001b[0;34m(\u001b[0m\u001b[0mx\u001b[0m\u001b[0;34m,\u001b[0m \u001b[0my\u001b[0m\u001b[0;34m,\u001b[0m \u001b[0mNone\u001b[0m\u001b[0;34m)\u001b[0m\u001b[0;34m)\u001b[0m\u001b[0;34m\u001b[0m\u001b[0m\n\u001b[0m\u001b[1;32m    323\u001b[0m         \u001b[0;32mdel\u001b[0m \u001b[0mevents\u001b[0m\u001b[0;34m,\u001b[0m \u001b[0mflash\u001b[0m \u001b[0;34m,\u001b[0m\u001b[0mx\u001b[0m\u001b[0;34m,\u001b[0m\u001b[0my\u001b[0m\u001b[0;34m,\u001b[0m\u001b[0mz\u001b[0m\u001b[0;34m\u001b[0m\u001b[0m\n\u001b[1;32m    324\u001b[0m \u001b[0;34m\u001b[0m\u001b[0m\n",
      "\u001b[0;32m/Users/ebruning/code/lmatools/grid/density_to_files.pyc\u001b[0m in \u001b[0;36maccumulate_points_on_grid\u001b[0;34m(grid, xedge, yedge, out, label)\u001b[0m\n\u001b[1;32m    519\u001b[0m                 \u001b[0;32mdel\u001b[0m \u001b[0mcount\u001b[0m\u001b[0;34m\u001b[0m\u001b[0m\n\u001b[1;32m    520\u001b[0m             \u001b[0;32mdel\u001b[0m \u001b[0mx\u001b[0m\u001b[0;34m,\u001b[0m \u001b[0my\u001b[0m\u001b[0;34m,\u001b[0m \u001b[0mweights\u001b[0m\u001b[0;34m\u001b[0m\u001b[0m\n\u001b[0;32m--> 521\u001b[0;31m             \u001b[0mgc\u001b[0m\u001b[0;34m.\u001b[0m\u001b[0mcollect\u001b[0m\u001b[0;34m(\u001b[0m\u001b[0;34m)\u001b[0m\u001b[0;34m\u001b[0m\u001b[0m\n\u001b[0m\u001b[1;32m    522\u001b[0m     \u001b[0;32mexcept\u001b[0m \u001b[0mGeneratorExit\u001b[0m\u001b[0;34m:\u001b[0m\u001b[0;34m\u001b[0m\u001b[0m\n\u001b[1;32m    523\u001b[0m         \u001b[0mout\u001b[0m\u001b[0;34m[\u001b[0m\u001b[0;34m'out'\u001b[0m\u001b[0;34m]\u001b[0m \u001b[0;34m=\u001b[0m \u001b[0mgrid\u001b[0m\u001b[0;34m\u001b[0m\u001b[0m\n",
      "\u001b[0;31mKeyboardInterrupt\u001b[0m: "
     ]
    }
   ],
   "source": [
    "import subprocess, glob\n",
    "from datetime import datetime\n",
    "import os\n",
    "\n",
    "from glmtools.grid.make_grids import grid_GLM_flashes\n",
    "# start_time = datetime(2017,4,26, 12, 30, 0)\n",
    "# end_time = datetime(2017,4,26, 12, 32, 0)\n",
    "# glm_filenames = [filename]\n",
    "\n",
    "\n",
    "start_time = datetime(2017,4,29, 8, 0, 0)\n",
    "end_time = datetime(2017,4,29, 8, 10, 0)\n",
    "glm_filenames = glob.glob('/data/LCFA-production/GLM-L2-LCFA_G16_s20170429/OR_GLM-L2-LCFA_G16_s2017119080*.nc') #[0:10]\n",
    "\n",
    "grid_dir = os.path.join('/data/LCFA-production/', 'grid')\n",
    "date = datetime(start_time.year, start_time.month, start_time.day)\n",
    "\n",
    "from lmatools.grid.make_grids import write_cf_netcdf_latlon, dlonlat_at_grid_center, grid_h5flashfiles\n",
    "\n",
    "outpath = grid_dir+'/20%s' %(date.strftime('%y/%b/%d'))\n",
    "if os.path.exists(outpath) == False:\n",
    "    os.makedirs(outpath)\n",
    "    subprocess.call(['chmod', 'a+w', outpath, grid_dir+'/20%s' %(date.strftime('%y/%b')), grid_dir+'/20%s' %(date.strftime('%y'))])\n",
    "\n",
    "# center_ID='WTLMA'\n",
    "ctr_lat = 33.5\n",
    "ctr_lon = -101.5\n",
    "dx_km=10.0e3\n",
    "dy_km=10.0e3\n",
    "x_bnd_km = (-400.0e3, 400.0e3)\n",
    "y_bnd_km = (-400.0e3, 400.0e3)\n",
    "frame_interval = 60.0\n",
    "\n",
    "\n",
    "\n",
    "dx, dy, x_bnd, y_bnd = dlonlat_at_grid_center(ctr_lat, ctr_lon, \n",
    "                            dx=dx_km, dy=dy_km,\n",
    "                            x_bnd = x_bnd_km, y_bnd = y_bnd_km )\n",
    "print(x_bnd, y_bnd)\n",
    "\n",
    "grid_GLM_flashes(glm_filenames, start_time, end_time, proj_name='latlong',\n",
    "        base_date = date, do_3d=False,\n",
    "        dx=dx, dy=dy, frame_interval=frame_interval,\n",
    "        #dz=dz, z_bnd=z_bnd_km,\n",
    "        x_bnd=x_bnd, y_bnd=y_bnd, \n",
    "        ctr_lat=ctr_lat, ctr_lon=ctr_lon, outpath = outpath,\n",
    "        output_writer = write_cf_netcdf_latlon, #output_writer_3d = write_cf_netcdf_3d_latlon,\n",
    "        output_filename_prefix='GLM', spatial_scale_factor=1.0\n",
    "        )\n",
    "\n",
    "# lma_h5_filenames = glob.glob('/data/LCFA-production/LMArealtime/flashsort/h5_files/2017/Apr/29/LYLOUT_170429_0[6-7]*.h5')\n",
    "# grid_h5flashfiles(lma_h5_filenames, start_time, end_time, proj_name='latlong',\n",
    "#         base_date = date, do_3d=False,\n",
    "#         dx=dx, dy=dy, frame_interval=frame_interval,\n",
    "#         x_bnd=x_bnd, y_bnd=y_bnd,\n",
    "#         #dz=dz, z_bnd=z_bnd_km,\n",
    "#         ctr_lon=ctr_lon, ctr_lat=ctr_lat, outpath = outpath,\n",
    "#         output_writer = write_cf_netcdf_latlon, #output_writer_3d = write_cf_netcdf_3d_latlon,\n",
    "#         output_filename_prefix='WTLMA', spatial_scale_factor=1.0\n",
    "#         )\n"
   ]
  },
  {
   "cell_type": "markdown",
   "metadata": {
    "collapsed": true
   },
   "source": [
    "## Debug area"
   ]
  },
  {
   "cell_type": "code",
   "execution_count": 21,
   "metadata": {
    "collapsed": false
   },
   "outputs": [],
   "source": [
    "import xarray as xr\n",
    "\n",
    "nc_fed = xr.open_dataset('/data/LCFA-production/grid/2017/Apr/29/GLM_20170429_070000_3600_1src_0.1076deg-dx_flash_extent.nc')\n",
    "nc_afa = xr.open_dataset('/data/LCFA-production/grid/2017/Apr/29/GLM_20170429_070000_3600_1src_0.1076deg-dx_footprint.nc')"
   ]
  },
  {
   "cell_type": "code",
   "execution_count": 22,
   "metadata": {
    "collapsed": false,
    "scrolled": true
   },
   "outputs": [
    {
     "data": {
      "text/plain": [
       "<xarray.DataArray 'flash_extent' (lon: 80, lat: 80)>\n",
       "array([[ 0.,  0.,  0., ...,  0.,  0.,  0.],\n",
       "       [ 0.,  0.,  0., ...,  0.,  0.,  0.],\n",
       "       [ 0.,  0.,  0., ...,  0.,  0.,  0.],\n",
       "       ..., \n",
       "       [ 0.,  0.,  0., ...,  0.,  0.,  0.],\n",
       "       [ 0.,  0.,  0., ...,  0.,  0.,  0.],\n",
       "       [ 0.,  0.,  0., ...,  0.,  0.,  0.]])\n",
       "Dimensions without coordinates: lon, lat\n",
       "Attributes:\n",
       "    units:         Count per 0.0 km^2 pixel per 1.0 min\n",
       "    long_name:     LMA flash extent density\n",
       "    grid_mapping:  crs"
      ]
     },
     "execution_count": 22,
     "metadata": {},
     "output_type": "execute_result"
    }
   ],
   "source": [
    "nc_fed.flash_extent[42,:,:]"
   ]
  },
  {
   "cell_type": "code",
   "execution_count": 23,
   "metadata": {
    "collapsed": false
   },
   "outputs": [
    {
     "name": "stdout",
     "output_type": "stream",
     "text": [
      "577 577\n"
     ]
    }
   ],
   "source": [
    "sl = slice(42, None, None)\n",
    "has_areas = (nc_afa.flash_footprint[42,:,:] > 0).data\n",
    "has_flash = (nc_fed.flash_extent[42,:,:] > 0).data\n",
    "both = (has_areas & has_flash).sum()\n",
    "only_fed = has_flash.sum()\n",
    "print both, only_fed"
   ]
  },
  {
   "cell_type": "code",
   "execution_count": 24,
   "metadata": {
    "collapsed": false
   },
   "outputs": [
    {
     "name": "stdout",
     "output_type": "stream",
     "text": [
      "[  893.01605991   735.9180409    659.4919776    278.57477322   431.27526081\n",
      "  1344.29376701   279.33296829  1174.00315374   275.69363195   579.72985598\n",
      "   203.05854401   501.18084648  1342.62573785  1270.14228892   658.4305045\n",
      "   203.05854401   576.69707569   277.51330012   201.08723682   354.09100243\n",
      "   664.19278705   665.86081621   278.27149519   277.51330012   202.75526598\n",
      "   589.13147488   675.11079609   734.70492879   279.33296829   579.57821697\n",
      "   965.34786981   351.36150017   885.88902622   350.45166609   202.30034894\n",
      "   504.82018283   202.60362697  1039.19606987   278.87805125   430.97198278\n",
      "   201.54215387   735.31148484  1025.85183659  1264.07672834   277.51330012\n",
      "   506.03329495   281.15263647   435.67279223   889.8316406    872.08987591\n",
      "   201.84543189   358.33689484   501.48412451   275.84527096   201.08723682\n",
      "   353.02952933   810.37279701   962.01181149  1353.54374689   276.45182702\n",
      "   200.93559781  1116.68360627   279.48460731  1530.50647679   275.54199293\n",
      "  1187.195748     202.60362697   201.84543189  1569.17442548   201.08723682\n",
      "  2173.91081524   432.18509489   200.93559781   351.36150017   583.0659143\n",
      "  3847.39897907   200.93559781   732.12706554   283.27558267   278.87805125\n",
      "  1431.33456132  1042.22885016   277.66493914   277.51330012   513.31196764\n",
      "  1564.32197702   576.69707569   201.69379288   513.31196764   661.16000676\n",
      "   509.06607524   977.17571294  7707.52173173   200.93559781   649.0288856\n",
      "   350.14838806  1577.21129325   580.03313401  3518.34231764   811.2826311\n",
      "  1421.78130341   580.03313401   582.61099726  1269.99064991   276.45182702\n",
      "   278.57477322   278.72641224   735.9180409    659.4919776    432.64001194\n",
      "   278.87805125   278.57477322   201.84543189   277.51330012   816.89327464\n",
      "  1724.45277631   350.45166609   893.01605991  1878.66965404   201.84543189]\n",
      "[  278.57477322   499.81609535  1038.13459677   279.02969027   737.13115302\n",
      "   887.7086944   2285.66876891   501.48412451  1498.2073667   1271.05212301\n",
      "  1960.70636088  1048.14277172  1021.45430517  1107.28198737   202.60362697\n",
      "  1095.60578325  2494.32405284   958.22083613   202.906905     891.04475272\n",
      "   278.11985618   351.81641722  1177.7941291    275.39035392   576.39379767\n",
      "   959.28230923   279.18132928   740.01229429   279.18132928   354.24264145\n",
      "   353.02952933   649.78708068  1496.23605952   279.48460731   350.45166609\n",
      "   426.27117333   665.25426015   893.77425498   658.12722647   277.36166111\n",
      "   722.11889058   811.88918716   730.30739737   963.98311868   200.93559781\n",
      "   508.45951918  1262.40869918   200.93559781   576.69707569  1041.01573804\n",
      "  4030.73054758   201.84543189  4336.28316176   809.61460194   276.300188\n",
      "   808.85640687   429.30395362   426.27117333   355.75903159   277.51330012\n",
      "   812.49574322  1459.84269604   277.36166111   736.06967992   202.906905\n",
      "   354.84919751   425.51297826   814.4670504    354.09100243   576.69707569\n",
      "   963.0732846   1116.68360627   277.36166111  1039.4993479    201.23887584\n",
      "   279.33296829   353.33280736  1048.74932778   278.27149519  1276.05621049\n",
      "  1038.89279184   353.02952933   506.48821199   501.48412451   806.43018264\n",
      "   430.66870475  2053.96435478   894.68408906   425.20970023   202.60362697\n",
      "   582.15608022   277.51330012  1118.35163543   354.09100243   201.54215387\n",
      "  1423.29769355   277.96821716   202.75526598  1118.80655247   501.78740254\n",
      "   202.75526598   201.69379288   202.75526598]\n",
      "[ 1441.49437529   582.15608022   200.93559781   277.36166111  1803.9116199\n",
      "  1211.76126835   351.36150017   279.33296829  1643.93245962  1119.71638656\n",
      "   277.36166111   424.9064222   1118.35163543   811.73754814  1647.11687893\n",
      "   351.20986116   200.93559781   813.55721632   200.93559781   277.51330012\n",
      "   580.63969007  1195.5358938   1925.52610952   279.02969027   275.69363195\n",
      "   276.300188     732.58198258   506.48821199   426.42281234  1111.8311578\n",
      "   581.85280219   202.906905    1269.99064991   279.02969027   279.33296829\n",
      "   499.66445634   277.51330012   434.76295814   276.90674406   582.0044412\n",
      "   201.99707091   665.55753818   505.5783779    202.75526598   277.36166111\n",
      "   665.86081621   352.7262513    202.60362697   426.27117333   275.69363195\n",
      "  1495.78114247   202.75526598   737.73770908   355.75903159  1192.35147449\n",
      "   356.51722667   740.77048936  1490.01885992   576.69707569   579.72985598\n",
      "   808.85640687   585.64377755   506.03329495   201.84543189   871.63495886\n",
      "   275.69363195  1047.08129862   426.27117333   583.0659143    797.33184177\n",
      "  1040.25754297   278.11985618   428.69739756  1801.7886737   1035.70837253\n",
      "   278.11985618   202.906905     201.84543189  1047.68785468   279.33296829\n",
      "  1118.19999641   278.72641224   576.69707569   278.87805125   500.42265141\n",
      "  1486.83444062   730.61067539  1211.45799032   275.39035392  2119.16913101\n",
      "   355.75903159   658.12722647   503.91034874  1508.36718068   910.60618559\n",
      "   202.906905     278.27149519  2817.4667927    426.27117333  1339.44131854\n",
      "   579.881495     977.02407393   202.30034894   582.15608022   202.14870992\n",
      "   350.45166609   584.1273874    501.78740254   279.48460731   883.15952396\n",
      "   506.33657297   898.92998147]\n"
     ]
    }
   ],
   "source": [
    "lon_range = (-100., -98.)\n",
    "lat_range = (33., 36.)\n",
    "conflict_files = glob.glob('/data/LCFA-production/GLM-L2-LCFA_G16_s20170429/OR_GLM-L2-LCFA_G16_s20171190742*.nc')\n",
    "for cf in conflict_files:\n",
    "    glm = GLMDataset(cf)\n",
    "    flash_data = glm.lonlat_subset(lon_range=lon_range, lat_range=lat_range)\n",
    "    print(fix_unsigned(flash_data.flash_area)[:])\n"
   ]
  },
  {
   "cell_type": "code",
   "execution_count": null,
   "metadata": {
    "collapsed": false
   },
   "outputs": [],
   "source": []
  },
  {
   "cell_type": "code",
   "execution_count": null,
   "metadata": {
    "collapsed": true
   },
   "outputs": [],
   "source": []
  }
 ],
 "metadata": {
  "kernelspec": {
   "display_name": "Python 2",
   "language": "python",
   "name": "python2"
  },
  "language_info": {
   "codemirror_mode": {
    "name": "ipython",
    "version": 2
   },
   "file_extension": ".py",
   "mimetype": "text/x-python",
   "name": "python",
   "nbconvert_exporter": "python",
   "pygments_lexer": "ipython2",
   "version": "2.7.12"
  },
  "widgets": {
   "state": {
    "560f20dd2d8a4194bb7ecc7d4f648134": {
     "views": [
      {
       "cell_index": 16
      }
     ]
    }
   },
   "version": "1.2.0"
  }
 },
 "nbformat": 4,
 "nbformat_minor": 0
}
