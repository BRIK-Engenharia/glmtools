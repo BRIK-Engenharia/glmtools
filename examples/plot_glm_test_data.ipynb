{
 "cells": [
  {
   "cell_type": "code",
   "execution_count": 1,
   "metadata": {
    "collapsed": true
   },
   "outputs": [],
   "source": [
    "%matplotlib inline\n",
    "import numpy as np\n",
    "import matplotlib.pyplot as plt\n",
    "import ipywidgets as widgets\n",
    "import xarray\n",
    "from glmtools.io.glm import GLMDataset"
   ]
  },
  {
   "cell_type": "code",
   "execution_count": 2,
   "metadata": {
    "collapsed": true
   },
   "outputs": [],
   "source": [
    "import os\n",
    "from glmtools.test.common import get_test_dataset, get_sample_data_list\n",
    "glm, flash_ids = get_test_dataset()"
   ]
  },
  {
   "cell_type": "markdown",
   "metadata": {},
   "source": [
    "## Interactively view flashes one at a time"
   ]
  },
  {
   "cell_type": "code",
   "execution_count": 3,
   "metadata": {},
   "outputs": [
    {
     "data": {
      "application/vnd.jupyter.widget-view+json": {
       "model_id": "32950575f16d47f0acf3ce702abe412c"
      }
     },
     "metadata": {},
     "output_type": "display_data"
    }
   ],
   "source": [
    "from glmtools.plot.locations import plot_flash\n",
    "\n",
    "# fl_id_vals = list(glm.dataset.flash_id.data)\n",
    "fl_id_vals = flash_ids\n",
    "fl_id_vals.sort()\n",
    "flash_slider =  widgets.SelectionSlider(\n",
    "    description='Flash',\n",
    "    options=fl_id_vals,\n",
    ")\n",
    "\n",
    "def do_plot(flash_id):\n",
    "    this_flash = glm.get_flashes([flash_id])\n",
    "    fig = plot_flash(glm, flash_id)\n",
    "    plt.show() # prevents multiple plots - see ipywidgets issue #1179 on github\n",
    "interactor = widgets.interact(do_plot, flash_id=flash_slider)"
   ]
  },
  {
   "cell_type": "code",
   "execution_count": null,
   "metadata": {
    "collapsed": true
   },
   "outputs": [],
   "source": []
  },
  {
   "cell_type": "markdown",
   "metadata": {},
   "source": [
    "## Create and plot grids of the data above"
   ]
  },
  {
   "cell_type": "code",
   "execution_count": 5,
   "metadata": {},
   "outputs": [
    {
     "name": "stdout",
     "output_type": "stream",
     "text": [
      "python /Users/ebruning/code/glmtools/glmtools/../examples/grid/make_GLM_grids.py -o /var/folders/sp/7k9p40wj1x9fdvwjbdrs4ffm0000gn/T/tmpuhgc30b2  --ctr_lat=35.0 --ctr_lon=-95.0 --width=100 --height=100  --start=2017-04-26T12:30:00 --end=2017-04-26T12:31:00 /Users/ebruning/code/glmtools/glmtools/test/data/FGE_split_merge_GLM.nc\n",
      "\n",
      "['/var/folders/sp/7k9p40wj1x9fdvwjbdrs4ffm0000gn/T/tmpuhgc30b2/2017/Apr/26/GLM_20170426_123000_60_1src_0.1095deg-dx_flash_extent.nc', '/var/folders/sp/7k9p40wj1x9fdvwjbdrs4ffm0000gn/T/tmpuhgc30b2/2017/Apr/26/GLM_20170426_123000_60_1src_0.1095deg-dx_flash_init.nc', '/var/folders/sp/7k9p40wj1x9fdvwjbdrs4ffm0000gn/T/tmpuhgc30b2/2017/Apr/26/GLM_20170426_123000_60_1src_0.1095deg-dx_footprint.nc', '/var/folders/sp/7k9p40wj1x9fdvwjbdrs4ffm0000gn/T/tmpuhgc30b2/2017/Apr/26/GLM_20170426_123000_60_1src_0.1095deg-dx_group_area.nc', '/var/folders/sp/7k9p40wj1x9fdvwjbdrs4ffm0000gn/T/tmpuhgc30b2/2017/Apr/26/GLM_20170426_123000_60_1src_0.1095deg-dx_group_extent.nc', '/var/folders/sp/7k9p40wj1x9fdvwjbdrs4ffm0000gn/T/tmpuhgc30b2/2017/Apr/26/GLM_20170426_123000_60_1src_0.1095deg-dx_group_init.nc', '/var/folders/sp/7k9p40wj1x9fdvwjbdrs4ffm0000gn/T/tmpuhgc30b2/2017/Apr/26/GLM_20170426_123000_60_1src_0.1095deg-dx_source.nc', '/var/folders/sp/7k9p40wj1x9fdvwjbdrs4ffm0000gn/T/tmpuhgc30b2/2017/Apr/26/GLM_20170426_123000_60_1src_0.1095deg-dx_total_energy.nc']\n"
     ]
    }
   ],
   "source": [
    "import subprocess\n",
    "import os, glob\n",
    "import tempfile\n",
    "tmpdir = tempfile.TemporaryDirectory()\n",
    "\n",
    "import glmtools\n",
    "from glmtools.test.common import get_sample_data_path\n",
    "glmtools_path = os.path.abspath(glmtools.__path__[0])\n",
    "glmfile = os.path.join(get_sample_data_path(), 'FGE_split_merge_GLM.nc')\n",
    "    \n",
    "cmd = \"python {0}/../examples/grid/make_GLM_grids.py -o {1} \"\n",
    "cmd += \" --ctr_lat=35.0 --ctr_lon=-95.0 --width=100 --height=100 \"\n",
    "cmd += \" --start=2017-04-26T12:30:00 --end=2017-04-26T12:31:00 {2}\"\n",
    "\n",
    "cmd = cmd.format(glmtools_path, tmpdir.name, glmfile)\n",
    "print (cmd)\n",
    "out_bytes = subprocess.check_output(cmd.split())\n",
    "print(out_bytes.decode('utf-8'))\n",
    "\n",
    "nc_files = glob.glob(os.path.join(tmpdir.name, '2017/Apr/26/*.nc'))\n",
    "print(nc_files)"
   ]
  },
  {
   "cell_type": "code",
   "execution_count": 7,
   "metadata": {},
   "outputs": [
    {
     "data": {
      "text/plain": [
       "<matplotlib.text.Text at 0x12381ff98>"
      ]
     },
     "execution_count": 7,
     "metadata": {},
     "output_type": "execute_result"
    },
    {
     "data": {
      "image/png": "[encoded data removed]",
      "text/plain": [
       "<matplotlib.figure.Figure at 0x11fd5b780>"
      ]
     },
     "metadata": {},
     "output_type": "display_data"
    }
   ],
   "source": [
    "# from lmatools.grid.make_grids import centers_to_edges\n",
    "from lmatools.vis.multiples_nc import centers_to_edges\n",
    "import matplotlib\n",
    "matplotlib.rc('xtick', labelsize=10) \n",
    "matplotlib.rc('ytick', labelsize=10) \n",
    "grid_filename = tmpdir.name+'/2017/Apr/26/GLM_20170426_123000_60_1src_0.1095deg-dx_source.nc'\n",
    "extent_grid = xarray.open_dataset(grid_filename)\n",
    "lats, lons = extent_grid.latitude.data, extent_grid.longitude.data\n",
    "counts = extent_grid.event_density.data[0,:,:]\n",
    "counts = np.ma.masked_where((counts<1), counts)\n",
    "plt.pcolormesh(centers_to_edges(lons), centers_to_edges(lats), counts.T, cmap='viridis', vmin=1)\n",
    "plt.colorbar()\n",
    "plt.scatter(glm.dataset.event_lon.data, glm.dataset.event_lat.data)\n",
    "plt.title('Event density (per grid cell)')\n",
    "# flash_grid.flash_extent.plot()"
   ]
  },
  {
   "cell_type": "code",
   "execution_count": 8,
   "metadata": {},
   "outputs": [
    {
     "data": {
      "text/plain": [
       "<matplotlib.text.Text at 0x1269219e8>"
      ]
     },
     "execution_count": 8,
     "metadata": {},
     "output_type": "execute_result"
    },
    {
     "data": {
      "image/png": "[encoded data removed]",
      "text/plain": [
       "<matplotlib.figure.Figure at 0x126964748>"
      ]
     },
     "metadata": {},
     "output_type": "display_data"
    }
   ],
   "source": [
    "grid_filename = tmpdir.name+'/2017/Apr/26/GLM_20170426_123000_60_1src_0.1095deg-dx_flash_extent.nc'\n",
    "extent_grid = xarray.open_dataset(grid_filename)\n",
    "lats, lons = extent_grid.latitude.data, extent_grid.longitude.data\n",
    "counts = extent_grid.flash_extent_density.data[0,:,:]\n",
    "counts = np.ma.masked_where((counts<1), counts)\n",
    "plt.pcolormesh(centers_to_edges(lons), centers_to_edges(lats), counts.T, cmap='viridis', vmin=1)\n",
    "plt.colorbar()\n",
    "plt.scatter(glm.dataset.event_lon.data, glm.dataset.event_lat.data)\n",
    "plt.title('Flash extent density (per grid cell)')\n",
    "# flash_grid.flash_extent.plot()"
   ]
  },
  {
   "cell_type": "code",
   "execution_count": 9,
   "metadata": {
    "collapsed": true
   },
   "outputs": [],
   "source": [
    "tmpdir.cleanup()"
   ]
  },
  {
   "cell_type": "code",
   "execution_count": null,
   "metadata": {
    "collapsed": true
   },
   "outputs": [],
   "source": []
  }
 ],
 "metadata": {
  "kernelspec": {
   "display_name": "Python [nctest]",
   "language": "python",
   "name": "Python [nctest]"
  },
  "language_info": {
   "codemirror_mode": {
    "name": "ipython",
    "version": 3
   },
   "file_extension": ".py",
   "mimetype": "text/x-python",
   "name": "python",
   "nbconvert_exporter": "python",
   "pygments_lexer": "ipython3",
   "version": "3.5.3"
  }
 },
 "nbformat": 4,
 "nbformat_minor": 1
}
