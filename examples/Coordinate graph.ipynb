{
 "cells": [
  {
   "cell_type": "code",
   "execution_count": 1,
   "metadata": {},
   "outputs": [],
   "source": [
    "%matplotlib inline\n",
    "import numpy as np\n",
    "import matplotlib.pyplot as plt\n",
    "import netCDF4\n",
    "from glmtools.io.glm import GLMDataset, fix_event_locations\n",
    "from glmtools.grid.clipping import QuadMeshSubset, QuadMeshPolySlicer"
   ]
  },
  {
   "cell_type": "code",
   "execution_count": 6,
   "metadata": {},
   "outputs": [
    {
     "name": "stdout",
     "output_type": "stream",
     "text": [
      "(6, 5) (6, 5) (5, 4)\n",
      "[[[0, 10], [1, 10]], [[0, 11], [1, 11]]]\n"
     ]
    }
   ],
   "source": [
    "x = np.arange(5)\n",
    "y = np.arange(6)+10\n",
    "\n",
    "# x = np.arange(50)\n",
    "# y = np.arange(60)+10\n",
    "X,Y=np.meshgrid(x,y)\n",
    "# Y += X*X\n",
    "\n",
    "vals = (X[1:, 1:]+X[:-1, :-1])/( Y[1:, 1:]+Y[:-1, :-1])\n",
    "print(X.shape, Y.shape, vals.shape)\n",
    "\n",
    "lines = np.dstack((X, Y))\n",
    "nh, nv, nd = lines.shape\n",
    "print(lines[0:2, 0:2, :].tolist())\n",
    "\n",
    "a_poly = [(.5,12), (.7,13), (1.2,15), (.9, 11)]\n",
    "\n",
    "N_polys = 1\n",
    "polys = np.asarray([a_poly] * N_polys)\n",
    "# polys += np.random.rand(N_polys,4,2)"
   ]
  },
  {
   "cell_type": "code",
   "execution_count": null,
   "metadata": {},
   "outputs": [],
   "source": []
  },
  {
   "cell_type": "code",
   "execution_count": 7,
   "metadata": {},
   "outputs": [
    {
     "name": "stdout",
     "output_type": "stream",
     "text": [
      "Calculating polygons from mesh ...\n",
      "    ... constructing search tree ... be patient ...\n",
      "    ... done.\n",
      "0.0166666665541\n",
      "0.237499999814\n",
      "0.395833333386\n",
      "0.087499999674\n"
     ]
    }
   ],
   "source": [
    "mesh = QuadMeshSubset(X, Y, n_neighbors=16)\n",
    "\n",
    "slicer = QuadMeshPolySlicer(mesh)\n",
    "\n",
    "chopped_polys = slicer.slice(polys)\n",
    "# print(chopped_polys)\n",
    "\n",
    "def gen_polys(chopped_polys):\n",
    "    for subquads, areas  in chopped_polys:\n",
    "        for subquad, area in zip(subquads, areas):\n",
    "            print(area)\n",
    "            yield (subquad, area)\n",
    "#             for subquad_poly, subquad_area in quad_data:\n",
    "#                 print(subquad_poly)\n",
    "#                 yield subquad_poly\n",
    "#         for polys_this_quad, poly_areas in this_poly:\n",
    "#             for p, area in zip(target_polys, poly_areas):\n",
    "#                 if len(p) > 2:\n",
    "#                     yield p, area\n",
    "\n",
    "        \n",
    "good_polys = [p for p in gen_polys(chopped_polys)]"
   ]
  },
  {
   "cell_type": "code",
   "execution_count": 8,
   "metadata": {},
   "outputs": [],
   "source": [
    "# polys_per_quad = polys_to_mesh(poly, X, Y)\n",
    "# for p in polys_per_quad:\n",
    "#     print(p)\n",
    "    \n",
    "# def gen_polys(polys_per_quad):\n",
    "#     for polys_this_quad, poly_areas in polys_per_quad:\n",
    "#         for target_polys in polys_this_quad:\n",
    "#             for p, area in zip(target_polys, poly_areas):\n",
    "#                 if len(p) > 2:\n",
    "#                     yield p, area\n",
    "\n",
    "        \n",
    "# good_polys = [p for p in gen_polys(polys_per_quad)]"
   ]
  },
  {
   "cell_type": "code",
   "execution_count": 9,
   "metadata": {},
   "outputs": [
    {
     "name": "stdout",
     "output_type": "stream",
     "text": [
      "[ 0.16209368  0.16209368  0.16209368  0.16209368]\n"
     ]
    },
    {
     "data": {
      "text/plain": [
       "<matplotlib.collections.PatchCollection at 0x12416db70>"
      ]
     },
     "execution_count": 9,
     "metadata": {},
     "output_type": "execute_result"
    },
    {
     "data": {
      "image/png": "[encoded data removed]",
      "text/plain": [
       "<matplotlib.figure.Figure at 0x123eea0b8>"
      ]
     },
     "metadata": {},
     "output_type": "display_data"
    }
   ],
   "source": [
    "from matplotlib.patches import Polygon\n",
    "from matplotlib.collections import PatchCollection\n",
    "fig, axs = plt.subplots(1,2, figsize=(16,10), sharex=True, sharey=True)\n",
    "ax = axs[0]\n",
    "ax1 = axs[1]\n",
    "\n",
    "pm = ax.pcolormesh(X, Y, vals, edgecolor='black', alpha=0.1)\n",
    "patches = [Polygon(p, True) for p, area in good_polys]\n",
    "patch_coll = PatchCollection(patches, edgecolor='red', norm=pm.norm, alpha=0.8)\n",
    "patch_vals = vals.mean()*np.ones((len(patches),))\n",
    "print(patch_vals)\n",
    "patch_coll.set_array(patch_vals)\n",
    "ax.add_collection(patch_coll)\n",
    "# plt.colorbar(patch_coll)\n",
    "\n",
    "patches = [Polygon(p, True) for p in polys]\n",
    "patch_coll = PatchCollection(patches, edgecolor='red', norm=pm.norm, alpha=0.8)\n",
    "patch_vals = vals.mean()*np.ones((len(patches),))\n",
    "patch_coll.set_array(patch_vals)\n",
    "ax1.add_collection(patch_coll)\n",
    "\n",
    "# x0, x1, y0, y1 = X.min(), X.max(), Y.min(), Y.max()\n",
    "\n",
    "# ax.axis((.4,1.5,10,16))"
   ]
  },
  {
   "cell_type": "code",
   "execution_count": 15,
   "metadata": {},
   "outputs": [
    {
     "name": "stdout",
     "output_type": "stream",
     "text": [
      "[  0.825  12.75 ]\n"
     ]
    }
   ],
   "source": [
    "for p in poly:\n",
    "    print(np.asarray(p).mean(axis=0))"
   ]
  },
  {
   "cell_type": "code",
   "execution_count": null,
   "metadata": {},
   "outputs": [],
   "source": []
  },
  {
   "cell_type": "code",
   "execution_count": null,
   "metadata": {},
   "outputs": [],
   "source": []
  },
  {
   "cell_type": "code",
   "execution_count": null,
   "metadata": {
    "collapsed": true
   },
   "outputs": [],
   "source": [
    "# filename = '/data/LCFA-production/OR_GLM-L2-LCFA_G16_s20171161230400_e20171161231000_c20171161231027.nc'\n",
    "\n",
    "# # glm = GLMDataset(filename)\n",
    "# glm = netCDF4.Dataset(filename)\n"
   ]
  }
 ],
 "metadata": {
  "kernelspec": {
   "display_name": "Python [nctest]",
   "language": "python",
   "name": "Python [nctest]"
  },
  "language_info": {
   "codemirror_mode": {
    "name": "ipython",
    "version": 3
   },
   "file_extension": ".py",
   "mimetype": "text/x-python",
   "name": "python",
   "nbconvert_exporter": "python",
   "pygments_lexer": "ipython3",
   "version": "3.5.3"
  }
 },
 "nbformat": 4,
 "nbformat_minor": 1
}
