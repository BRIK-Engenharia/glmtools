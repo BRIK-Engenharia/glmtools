{
 "cells": [
  {
   "cell_type": "markdown",
   "metadata": {},
   "source": [
    "## Motivation: parallax correction of GLM gridded imagery to ground-relative position.\n",
    "\n",
    "GLM imagery are provided in fixed grid coordinates. When the fixed grid viewing angle `(x,y)` is interscted with the earth to retrieve a `(lat,lon)` pair, there is usually parallax because the cloud surface from which light. The parallax arises because the cloud is at some (unkonwn) height above the ground. When overlaid to other sateliite imagry, this is no problem, and is even desirable, as the fixed grid viewing angle includes no further assumptions - it is the native coordinate of any geostationary satellite sensor. \n",
    "\n",
    "While fixed grid coordinates are exact from the point of view of the satellite, it is uncertain where any observed cloud is located with respect to ground. For many applications (e.g., numerical weather prediction; analysis of lightning alongside radar observations) the ground-relative position of that cloud (in latitude and longitude) is needed. The purpose of this notebook is to show how to convert GLM imagery in fixed grid coordiantes to latitude and longitude, including an assumption of the height of the cloud surface from which light was emited.\n",
    "\n",
    "For illustration this notebook uses the same altitude correction assumed in the GLM L2 data, where each flash is reported as a latitude and longitude that attempts to correct for parallax by assuming a height from which light was emitted. This height is defined by a \"lightning ellipsoid\" that is slightly larger (14 km and 6 km at the equator and poles, respectively) than the elllipsoid that best approximates mean sea level. One could adapt this technique to use any \"best\" height: simply assume a different ellipsoid shape - for instance, a constant height offset determined based on that day's observations.\n",
    "\n",
    "**Our strategy is as follows:**\n",
    "1. Get the fixed grid position of each pixel.\n",
    "2. Define a new earth ellipsoid whose surface is the lightning ellipsoid.\n",
    "3. For each pixel, intersect the fixed grid angle with the lightning ellipsoid.\n",
    "4. Find the cartesian position of the intersection point with respect to the center of the earth. This is an absolute 3D position that can be mapped to any other coordinates of interest.\n",
    "5. Find the latitude, longitude, and altitude of the intersection point with respect to the MSL ellipsoid.\n",
    "\n",
    "Figure 5 of [Bruning et al. (2019, JGR)](https://doi.org/10.1029/2019JD030874) is a helpful reference for visualizing the strategy."
   ]
  },
  {
   "cell_type": "code",
   "execution_count": 61,
   "metadata": {},
   "outputs": [],
   "source": [
    "import xarray as xr\n",
    "import numpy as np\n",
    "import pyproj as proj4\n",
    "# print(proj4.pj_ellps['GRS80'])"
   ]
  },
  {
   "cell_type": "code",
   "execution_count": null,
   "metadata": {},
   "outputs": [],
   "source": [
    "from glmtools.io.lightning_ellipse import lightning_ellipse_rev\n",
    "from lmatools.coordinateSystems import CoordinateSystem\n",
    "from lmatools.grid.fixed import get_GOESR_coordsys"
   ]
  },
  {
   "cell_type": "markdown",
   "metadata": {},
   "source": [
    "### Load some data"
   ]
  },
  {
   "cell_type": "markdown",
   "metadata": {},
   "source": [
    "Use the imagery dataset that's included in the GLM repository: 2 July 2018, 0433-0434 UTC. Also load the GLM L2 LCFA point data files."
   ]
  },
  {
   "cell_type": "code",
   "execution_count": 60,
   "metadata": {},
   "outputs": [
    {
     "name": "stdout",
     "output_type": "stream",
     "text": [
      "-75.0\n"
     ]
    }
   ],
   "source": [
    "glm = xr.open_dataset('/Users/ebruning/code/glmtools/glmtools/test/data/conus/2018/Jul/02/OR_GLM-L2-GLMC-M3_G16_s20181830433000_e20181830434000_c20191931535490.nc')\n",
    "nadir = glm.nominal_satellite_subpoint_lon.data\n",
    "print(nadir)\n",
    "# print(glm)"
   ]
  },
  {
   "cell_type": "code",
   "execution_count": 12,
   "metadata": {},
   "outputs": [],
   "source": [
    "l2files = ['/Users/ebruning/code/glmtools/glmtools/test/data/OR_GLM-L2-LCFA_G16_s20181830433000_e20181830433200_c20181830433231.nc',\n",
    "           '/Users/ebruning/code/glmtools/glmtools/test/data/OR_GLM-L2-LCFA_G16_s20181830433200_e20181830433400_c20181830433424.nc',\n",
    "           '/Users/ebruning/code/glmtools/glmtools/test/data/OR_GLM-L2-LCFA_G16_s20181830433400_e20181830434000_c20181830434029.nc']\n",
    "l2s = [xr.open_dataset(ds) for ds in l2files]"
   ]
  },
  {
   "cell_type": "markdown",
   "metadata": {},
   "source": [
    "The operational ellipse used for parllax was revised in October 2018, and had an equatorial height of 16 km above MSL before that time.\n",
    "\n",
    "To confirm that we are doing the same thing to the GLM imagery that is done to the L2 data, we will apply that earlir lightning ellipsoid here. If you want to use a different altitude, replace `ltg_ellps_re, ltg_ellps_rp` in the cell below with your own values."
   ]
  },
  {
   "cell_type": "code",
   "execution_count": 3,
   "metadata": {},
   "outputs": [],
   "source": [
    "this_ellps=0\n",
    "\n",
    "# equatorial and polar radii\n",
    "ltg_ellps_re, ltg_ellps_rp = lightning_ellipse_rev[this_ellps]"
   ]
  },
  {
   "cell_type": "markdown",
   "metadata": {},
   "source": [
    "### 1. Get the fixed grid position of each pixel.\n",
    "\n",
    "Get the fixed coordinates of the GLM imagery, and create a 2D mesh. The `(lat, lon)` center position of each pixel varies nonlinearly with repsect to the fixed grid, so we can't just use a 1D `(lat, lon)` array here. Later, one could interpolate to a regular `(lat, lon)` grid."
   ]
  },
  {
   "cell_type": "code",
   "execution_count": 4,
   "metadata": {},
   "outputs": [],
   "source": [
    "x_1d = glm.x\n",
    "y_1d = glm.y\n",
    "\n",
    "x,y = np.meshgrid(x_1d, y_1d) # Two 2D arrays of fixed grid coordinates\n",
    "z=np.zeros_like(x)"
   ]
  },
  {
   "cell_type": "markdown",
   "metadata": {},
   "source": [
    "#### Test our understanding of how fixed grid relates to the non-lightning ellipsoid.\n",
    "\n",
    "These `(lat, lon)` positions include full parallax."
   ]
  },
  {
   "cell_type": "code",
   "execution_count": 5,
   "metadata": {},
   "outputs": [
    {
     "name": "stdout",
     "output_type": "stream",
     "text": [
      "-75.0\n",
      "-151.65401995626385 -52.9468738334366 14.57133679145014 56.640120779835975\n",
      "6.219207746016586e-09\n",
      "1.0482609280604294e-08\n",
      "0.00027943870711781473\n",
      "10000.000000008382\n"
     ]
    }
   ],
   "source": [
    "def finite_max(x):\n",
    "    good = np.isfinite(x)\n",
    "    return np.max(x[good])\n",
    "\n",
    "nadir = glm.nominal_satellite_subpoint_lon.data\n",
    "print(nadir)\n",
    "geofixCS, grs80lla = get_GOESR_coordsys(nadir)\n",
    "lon,lat,alt=grs80lla.fromECEF(*geofixCS.toECEF(x,y,z))\n",
    "lon.shape = x.shape\n",
    "lat.shape = y.shape\n",
    "print(np.nanmin(lon), finite_max(lon), np.nanmin(lat), finite_max(lat))\n",
    "\n",
    "# Let's see if adding height to the lon lat coords gives different fixed grid\n",
    "x_with_alt, y_with_alt, z_with_alt = geofixCS.fromECEF(*grs80lla.toECEF(lon,lat,alt+10.0e3))\n",
    "\n",
    "# x and y don't change, but the z coordinate does, which is odd! What does that mean?\n",
    "print(finite_max(np.abs(x_with_alt - x)))\n",
    "print(finite_max(np.abs(y_with_alt - y)))\n",
    "print(finite_max(np.abs(z_with_alt - z)))\n",
    "# Ah, multiplying the z-delta by the satellite's height above earth gives 10 km.\n",
    "print(np.abs(z_with_alt - z).max()*35786023.0)"
   ]
  },
  {
   "cell_type": "markdown",
   "metadata": {},
   "source": [
    "###  2. Define a new earth ellipsoid whose surface is the lightning ellipsoid.\n",
    "\n",
    "Adapt the built-in glmtools functions to include a parallax correction. The cell below is mostly a copy of the functions used in the cell above, but adjusted to allow for the use of a non-standard earth ellipsoid."
   ]
  },
  {
   "cell_type": "code",
   "execution_count": 6,
   "metadata": {},
   "outputs": [],
   "source": [
    "def semiaxes_to_invflattening(semimajor, semiminor):\n",
    "    \"\"\" Calculate the inverse flattening from the semi-major\n",
    "        and semi-minor axes of an ellipse\"\"\"\n",
    "    rf = semimajor/(semimajor-semiminor)\n",
    "    return rf\n",
    "\n",
    "class GeostationaryFixedGridSystemAltEllipse(CoordinateSystem):\n",
    "    \n",
    "    def __init__(self, subsat_lon=0.0, subsat_lat=0.0, sweep_axis='y',\n",
    "                 sat_ecef_height=35785831.0,\n",
    "                 semimajor_axis=None,\n",
    "                 semiminor_axis=None,\n",
    "                 datum='WGS84'):\n",
    "        \"\"\" \n",
    "        Satellite height is with respect to an arbitray ellipsoid whose\n",
    "        shape is given by semimajor_axis (equatorial) and semiminor_axis(polar)\n",
    "        \n",
    "        Fixed grid coordinates are in radians.\n",
    "        \"\"\"\n",
    "        rf = semiaxes_to_invflattening(semimajor_axis, semiminor_axis)\n",
    "        print(\"Defining alt ellipse for Geostationary with rf=\", rf)\n",
    "        self.ECEFxyz = proj4.Proj(proj='geocent',\n",
    "            a=semimajor_axis, rf=rf)\n",
    "        self.fixedgrid = proj4.Proj(proj='geos', lon_0=subsat_lon,\n",
    "            lat_0=subsat_lat, h=sat_ecef_height, x_0=0.0, y_0=0.0, \n",
    "            units='m', sweep=sweep_axis,\n",
    "            a=semimajor_axis, rf=rf)\n",
    "        self.h=sat_ecef_height\n",
    "            \n",
    "    def toECEF(self, x, y, z):\n",
    "        X, Y, Z = x*self.h, y*self.h, z*self.h\n",
    "        return proj4.transform(self.fixedgrid, self.ECEFxyz, X, Y, Z)\n",
    "        \n",
    "    def fromECEF(self, x, y, z):\n",
    "        X, Y, Z = proj4.transform(self.ECEFxyz, self.fixedgrid, x, y, z)\n",
    "        return X/self.h, Y/self.h, Z/self.h\n",
    "\n",
    "class GeographicSystemAltEllps(CoordinateSystem):\n",
    "    \"\"\"\n",
    "    Coordinate system defined on the surface of the earth using latitude, \n",
    "    longitude, and altitude, referenced by default to the WGS84 ellipse.\n",
    "    \n",
    "    Alternately, specify the ellipse shape using an ellipse known\n",
    "    to pyproj, or [NOT IMPLEMENTED] specify r_equator and r_pole directly. \n",
    "    \"\"\"\n",
    "    def __init__(self, ellipse='WGS84', datum='WGS84', \n",
    "                 r_equator=None, r_pole=None):\n",
    "        if (r_equator is not None) | (r_pole is not None):\n",
    "            rf = semiaxes_to_invflattening(r_equator, r_pole)\n",
    "            print(\"Defining alt ellipse for Geographic with rf\", rf)\n",
    "            self.ERSlla = proj4.Proj(proj='latlong', #datum=datum,\n",
    "                                     a=r_equator, rf=rf)\n",
    "            self.ERSxyz = proj4.Proj(proj='geocent', #datum=datum,\n",
    "                                     a=r_equator, rf=rf)\n",
    "        else:\n",
    "            # lat lon alt in some earth reference system\n",
    "            self.ERSlla = proj4.Proj(proj='latlong', ellps=ellipse, datum=datum)\n",
    "            self.ERSxyz = proj4.Proj(proj='geocent', ellps=ellipse, datum=datum)\n",
    "    def toECEF(self, lon, lat, alt):\n",
    "        projectedData = np.array(proj4.transform(self.ERSlla, self.ERSxyz, lon, lat, alt ))\n",
    "        if len(projectedData.shape) == 1:\n",
    "            return projectedData[0], projectedData[1], projectedData[2]\n",
    "        else:\n",
    "            return projectedData[0,:], projectedData[1,:], projectedData[2,:]\n",
    "        \n",
    "    def fromECEF(self, x, y, z):\n",
    "        projectedData = np.array(proj4.transform(self.ERSxyz, self.ERSlla, x, y, z ))\n",
    "        if len(projectedData.shape) == 1:\n",
    "            return projectedData[0], projectedData[1], projectedData[2]\n",
    "        else:\n",
    "            return projectedData[0,:], projectedData[1,:], projectedData[2,:]\n",
    "\n",
    "\n",
    "def get_GOESR_coordsys_alt_ellps(sat_lon_nadir=-75.0):\n",
    "    goes_sweep = 'x' # Meteosat is 'y'\n",
    "    datum = 'WGS84'\n",
    "    sat_ecef_height=35786023.0\n",
    "    geofixcs = GeostationaryFixedGridSystemAltEllipse(subsat_lon=sat_lon_nadir,\n",
    "                    semimajor_axis=ltg_ellps_re, semiminor_axis=ltg_ellps_rp,\n",
    "                    datum=datum, sweep_axis=goes_sweep,\n",
    "                    sat_ecef_height=sat_ecef_height)\n",
    "    grs80lla = GeographicSystemAltEllps(r_equator=ltg_ellps_re, r_pole=ltg_ellps_rp,\n",
    "                                datum='WGS84')\n",
    "    return geofixcs, grs80lla"
   ]
  },
  {
   "cell_type": "markdown",
   "metadata": {},
   "source": [
    "As we did for the MSL ellipsoid, check that we can round-trip the coordinates with minimal error using the lightning ellipsoid."
   ]
  },
  {
   "cell_type": "code",
   "execution_count": 59,
   "metadata": {},
   "outputs": [
    {
     "name": "stdout",
     "output_type": "stream",
     "text": [
      "-75.0\n",
      "Defining alt ellipse for Geostationary with rf= 203.73235622112475\n",
      "Defining alt ellipse for Geographic with rf 203.73235622112475\n",
      "6.2192078015277374e-09\n",
      "1.0482609252848718e-08\n",
      "2.342228185439692e-16\n",
      "8.381903171539308e-09\n",
      "2.342228185439692e-16\n",
      "should be nonzero except altitude\n"
     ]
    },
    {
     "name": "stderr",
     "output_type": "stream",
     "text": [
      "/Users/ebruning/miniconda3/envs/glmval/lib/python3.6/site-packages/ipykernel_launcher.py:20: RuntimeWarning: invalid value encountered in subtract\n",
      "/Users/ebruning/miniconda3/envs/glmval/lib/python3.6/site-packages/ipykernel_launcher.py:21: RuntimeWarning: invalid value encountered in subtract\n"
     ]
    },
    {
     "name": "stdout",
     "output_type": "stream",
     "text": [
      "4.3660656201575705\n",
      "0.572854897574544\n",
      "7.450580596923828e-09\n"
     ]
    }
   ],
   "source": [
    "geofix_ltg, lla_ltg = get_GOESR_coordsys_alt_ellps(nadir)\n",
    "\n",
    "lon_ltg0,lat_ltg0,alt_ltg0=lla_ltg.fromECEF(*geofix_ltg.toECEF(x,y,z))\n",
    "lon_ltg0.shape = x.shape\n",
    "lat_ltg0.shape = y.shape\n",
    "\n",
    "x_ltg, y_ltg, z_ltg = geofix_ltg.fromECEF(*lla_ltg.toECEF(lon_ltg0,lat_ltg0,alt_ltg0))\n",
    "\n",
    "# x, y, and z don't change in round trip, which is good.\n",
    "print(finite_max(np.abs(x_ltg - x)))\n",
    "print(finite_max(np.abs(y_ltg - y)))\n",
    "print(finite_max(np.abs(z_ltg - z)))\n",
    "print(np.abs(z_ltg - z).max()*35786023.0)\n",
    "print(finite_max(z_ltg))\n",
    "\n",
    "# lon, lat, and alt from the two earths should be different for the same fixed grid angle.\n",
    "print('should be nonzero except altitude')\n",
    "print(finite_max(np.abs(lon_ltg0 - lon)))\n",
    "print(finite_max(np.abs(lat_ltg0 - lat)))\n",
    "print(finite_max(np.abs(alt_ltg0 - alt)))"
   ]
  },
  {
   "cell_type": "markdown",
   "metadata": {},
   "source": [
    "### 3. For each pixel, intersect the fixed grid angle with the lightning ellipsoid.\n",
    "\n",
    "Above, we found the latitude and longitude of each pixel on the lightnign ellipsoid. However, what we actually want is the `(lat, lon)` of the postion on the regular earth defined by the ECEF coords, which will have non-zero altitude.\n",
    "\n",
    "### 4. Find the cartesian position of the intersection point with respect to the center of the earth. This is an absolute 3D position that can be mapped to any other coordinates of interest.\n",
    "\n",
    "Below `X, Y, Z = geofix_ltg.toECEF(x,y,z)` gives the 3D cartesian step below. The `*` implicitly passes X, Y, Z to `fromECEF`.\n",
    "\n",
    "### 5. Find the latitude, longitude, and altitude of the intersection point with respect to the MSL ellipsoid.\n",
    "\n",
    "Note that we use the GRS80 MSL ellipsoid instead of the lightning ellipsoid to find latitude and longitude."
   ]
  },
  {
   "cell_type": "code",
   "execution_count": 8,
   "metadata": {},
   "outputs": [
    {
     "name": "stdout",
     "output_type": "stream",
     "text": [
      "should be nonzero except altitude\n",
      "4.3660656201575705\n",
      "0.6573476916168133\n",
      "15373.665404700674\n"
     ]
    },
    {
     "name": "stderr",
     "output_type": "stream",
     "text": [
      "/Users/ebruning/miniconda3/envs/glmval/lib/python3.6/site-packages/ipykernel_launcher.py:8: RuntimeWarning: invalid value encountered in subtract\n",
      "  \n",
      "/Users/ebruning/miniconda3/envs/glmval/lib/python3.6/site-packages/ipykernel_launcher.py:9: RuntimeWarning: invalid value encountered in subtract\n",
      "  if __name__ == '__main__':\n"
     ]
    }
   ],
   "source": [
    "lon_ltg,lat_ltg,alt_ltg=grs80lla.fromECEF(*geofix_ltg.toECEF(x,y,z))\n",
    "lon_ltg.shape = x.shape\n",
    "lat_ltg.shape = y.shape\n",
    "\n",
    "# lon, lat, and alt from the two earths should be different for the same fixed grid angle.\n",
    "print('should be nonzero except altitude')\n",
    "print(finite_max(np.abs(lon_ltg - lon)))\n",
    "print(finite_max(np.abs(lat_ltg - lat)))\n",
    "print(finite_max(np.abs(alt_ltg - alt)))"
   ]
  },
  {
   "cell_type": "markdown",
   "metadata": {},
   "source": [
    "Confirm that the projections we've defined are using the ellipsoid we expect."
   ]
  },
  {
   "cell_type": "code",
   "execution_count": 9,
   "metadata": {},
   "outputs": [
    {
     "name": "stdout",
     "output_type": "stream",
     "text": [
      "pyproj.Proj('+units=m +proj=geocent +a=6394140.0 +rf=203.73235622112475 ', preserve_units=True)\n",
      "pyproj.Proj('+proj=geos +lon_0=-75.0 +lat_0=0.0 +h=35786023.0 +x_0=0.0 +y_0=0.0 +units=m +sweep=x +a=6394140.0 +rf=203.73235622112475 ', preserve_units=True)\n",
      "pyproj.Proj('+units=m +proj=geocent +a=6394140.0 +rf=203.73235622112475 ', preserve_units=True)\n",
      "pyproj.Proj('+units=m +proj=latlong +a=6394140.0 +rf=203.73235622112475 ', preserve_units=True)\n"
     ]
    }
   ],
   "source": [
    "print(geofix_ltg.ECEFxyz)\n",
    "print(geofix_ltg.fixedgrid)\n",
    "print(lla_ltg.ERSxyz)\n",
    "print(lla_ltg.ERSlla)"
   ]
  },
  {
   "cell_type": "markdown",
   "metadata": {},
   "source": [
    "### Plot the difference in latitude and longitude between the GRS80 MSL ellipsoid and the lightning ellipsoid."
   ]
  },
  {
   "cell_type": "code",
   "execution_count": 10,
   "metadata": {},
   "outputs": [
    {
     "data": {
      "application/vnd.jupyter.widget-view+json": {
       "model_id": "53353bf19824434aa454a778ef039721",
       "version_major": 2,
       "version_minor": 0
      },
      "text/plain": [
       "Canvas(toolbar=Toolbar(toolitems=[('Home', 'Reset original view', 'home', 'home'), ('Back', 'Back to previous …"
      ]
     },
     "metadata": {},
     "output_type": "display_data"
    },
    {
     "name": "stderr",
     "output_type": "stream",
     "text": [
      "/Users/ebruning/miniconda3/envs/glmval/lib/python3.6/site-packages/ipykernel_launcher.py:5: RuntimeWarning: invalid value encountered in subtract\n",
      "  \"\"\"\n",
      "/Users/ebruning/miniconda3/envs/glmval/lib/python3.6/site-packages/ipykernel_launcher.py:9: RuntimeWarning: invalid value encountered in subtract\n",
      "  if __name__ == '__main__':\n"
     ]
    },
    {
     "data": {
      "text/plain": [
       "<matplotlib.colorbar.Colorbar at 0x1208591d0>"
      ]
     },
     "execution_count": 10,
     "metadata": {},
     "output_type": "execute_result"
    }
   ],
   "source": [
    "%matplotlib widget\n",
    "import matplotlib.pyplot as plt\n",
    "fig, axs = plt.subplots(2,2, figsize=(9,5))\n",
    "\n",
    "im = axs[0,0].imshow(lon_ltg - lon, vmin=0, vmax=.2)\n",
    "axs[0,0].set_title('delta lon')\n",
    "plt.colorbar(im, ax=axs[0,0])\n",
    "\n",
    "im = axs[0,1].imshow(lat_ltg - lat, vmin=-0.1, vmax=0)\n",
    "axs[0,1].set_title('delta lat')\n",
    "plt.colorbar(im, ax=axs[0,1])\n",
    "\n",
    "im = axs[1,1].imshow(lat_ltg)\n",
    "axs[1,1].set_title('lat')\n",
    "plt.colorbar(im, ax=axs[1,1])\n",
    "\n",
    "im = axs[1,0].imshow(lon_ltg)\n",
    "axs[1,0].set_title('lon')\n",
    "plt.colorbar(im, ax=axs[1,0])"
   ]
  },
  {
   "cell_type": "markdown",
   "metadata": {},
   "source": [
    "### Compare our calculations to the original, lightning-ellipsoid corrected GLM L2 locations\n",
    "\n",
    "They should be the same. L2 data are plotted in squares. Define a centers_to_edges function to convert the center position of each pixel to the corner points of each pixel, as is necessary for accurately plotting those data with `pcolormesh`.\n"
   ]
  },
  {
   "cell_type": "code",
   "execution_count": 11,
   "metadata": {},
   "outputs": [],
   "source": [
    "def centers_to_edges_2d(x):\n",
    "    \"\"\" \n",
    "    Create a (N+1, M+1) array of edge locations from a\n",
    "    (N, M) array of grid center locations.\n",
    "    \n",
    "    In the interior, the edge positions set to the midpoints\n",
    "    of the values in x. For the outermost edges, half the \n",
    "    closest dx is assumed to apply. This matters for polar\n",
    "    meshes, where one edge of the grid becomes a point at the\n",
    "    polar coordinate origin; dx/2 is a half-hearted way of\n",
    "    trying to prevent negative ranges.\n",
    "    \n",
    "    Useful when plotting with pcolor, which requires\n",
    "    X, Y of shape (N+1) and grid center values of shape (N).\n",
    "    Otherwise, pcolor silently discards the last row and column\n",
    "    of grid center values.\n",
    "    \n",
    "    Parameters\n",
    "    ----------\n",
    "    x : array, shape (N,M)\n",
    "        Locations of the centers \n",
    "    \n",
    "    Returns\n",
    "    -------\n",
    "    xedge : array, shape (N+1,M+1)\n",
    "    \n",
    "    \"\"\"\n",
    "    xedge = np.zeros((x.shape[0]+1,x.shape[1]+1))\n",
    "    # interior is a simple average of four adjacent centers\n",
    "    xedge[1:-1,1:-1] = (x[:-1,:-1] + x[:-1,1:] + x[1:,:-1] + x[1:,1:])/4.0\n",
    "    \n",
    "    #         /\\\n",
    "    #        /\\/\\\n",
    "    #       / /\\ \\\n",
    "    #      /\\/  \\/\\\n",
    "    #     / /\\  /\\ \\\n",
    "    #    /\\/  \\/  \\/\\\n",
    "    #   / /\\  /\\  /\\ \\\n",
    "    #  /\\/  \\/  \\/  \\/\\\n",
    "    #4 \\/\\  /\\  /\\  /\\/ 4\n",
    "    # 3 \\ \\/  \\/  \\/ / 3 \n",
    "    #    \\/\\  /\\  /\\/\n",
    "    #   2 \\ \\/  \\/ / 2  \n",
    "    #      \\/\\  /\\/\n",
    "    #     1 \\ \\/ / 1\n",
    "    #        \\/\\/\n",
    "    #       0 \\/ 0 = center ID of 0th dimension\n",
    "    #\n",
    "    \n",
    "    # calculate the deltas along each edge, excluding corners\n",
    "    xedge[1:-1,0] = xedge[1:-1, 1] - (xedge[1:-1, 2] - xedge[1:-1, 1])/2.0\n",
    "    xedge[1:-1,-1]= xedge[1:-1,-2] - (xedge[1:-1,-3] - xedge[1:-1,-2])/2.0\n",
    "    xedge[0,1:-1] = xedge[1,1:-1]  - (xedge[2,1:-1]  - xedge[1,1:-1])/2.0 \n",
    "    xedge[-1,1:-1]= xedge[-2,1:-1] - (xedge[-3,1:-1] - xedge[-2,1:-1])/2.0\n",
    "    \n",
    "    # now do the corners\n",
    "    xedge[0,0]  = xedge[1, 1] - (xedge[2, 2] - xedge[1, 1])/2.0\n",
    "    xedge[0,-1] = xedge[1,-2] - (xedge[2,-3] - xedge[1,-2])/2.0\n",
    "    xedge[-1,0] = xedge[-2,1] - (xedge[-3,2] - xedge[-2,1])/2.0 \n",
    "    xedge[-1,-1]= xedge[-2,-2]- (xedge[-3,-3]- xedge[-2,-2])/2.0\n",
    "    \n",
    "    return xedge\n"
   ]
  },
  {
   "cell_type": "code",
   "execution_count": 13,
   "metadata": {},
   "outputs": [
    {
     "name": "stderr",
     "output_type": "stream",
     "text": [
      "/Users/ebruning/miniconda3/envs/glmval/lib/python3.6/site-packages/ipykernel_launcher.py:51: RuntimeWarning: invalid value encountered in subtract\n",
      "/Users/ebruning/miniconda3/envs/glmval/lib/python3.6/site-packages/ipykernel_launcher.py:53: RuntimeWarning: invalid value encountered in subtract\n",
      "/Users/ebruning/miniconda3/envs/glmval/lib/python3.6/site-packages/ipykernel_launcher.py:57: RuntimeWarning: invalid value encountered in double_scalars\n"
     ]
    }
   ],
   "source": [
    "lon_ltg_edge = centers_to_edges_2d(lon_ltg)\n",
    "lat_ltg_edge = centers_to_edges_2d(lat_ltg)"
   ]
  },
  {
   "cell_type": "code",
   "execution_count": 14,
   "metadata": {},
   "outputs": [
    {
     "data": {
      "application/vnd.jupyter.widget-view+json": {
       "model_id": "d9957ad5224d446fb05382cf82b062e1",
       "version_major": 2,
       "version_minor": 0
      },
      "text/plain": [
       "Canvas(toolbar=Toolbar(toolitems=[('Home', 'Reset original view', 'home', 'home'), ('Back', 'Back to previous …"
      ]
     },
     "metadata": {},
     "output_type": "display_data"
    },
    {
     "data": {
      "text/plain": [
       "(-120, -65, 10, 55)"
      ]
     },
     "execution_count": 14,
     "metadata": {},
     "output_type": "execute_result"
    }
   ],
   "source": [
    "x_sub = slice(500, None)\n",
    "y_sub = slice(None, None)\n",
    "\n",
    "fig, ax = plt.subplots(1,1,figsize=(9,5))\n",
    "\n",
    "im = ax.pcolormesh(lon_ltg_edge[y_sub, x_sub], lat_ltg_edge[y_sub, x_sub], np.log10(glm.flash_extent_density[y_sub, x_sub]), vmin=0, vmax=1.0)\n",
    "plt.colorbar(im, ax=ax)\n",
    "\n",
    "if True:\n",
    "    for l2 in l2s:\n",
    "        ax.plot(l2.event_lon, l2.event_lat, \n",
    "                linestyle='', marker='s', markersize=3, linewidth=0.5,\n",
    "                markeredgecolor='r', markerfacecolor='none')\n",
    "    \n",
    "# ax.axis((-120, -65, 10, 55))\n",
    "ax.axis((-103, -98, 30, 35))"
   ]
  },
  {
   "cell_type": "markdown",
   "metadata": {},
   "source": [
    "### Illustrate the effect of no parallax correction\n",
    "\n",
    "For this example, it's an offset of about 10-20 km."
   ]
  },
  {
   "cell_type": "code",
   "execution_count": 15,
   "metadata": {},
   "outputs": [
    {
     "name": "stderr",
     "output_type": "stream",
     "text": [
      "/Users/ebruning/miniconda3/envs/glmval/lib/python3.6/site-packages/ipykernel_launcher.py:51: RuntimeWarning: invalid value encountered in subtract\n",
      "/Users/ebruning/miniconda3/envs/glmval/lib/python3.6/site-packages/ipykernel_launcher.py:53: RuntimeWarning: invalid value encountered in subtract\n",
      "/Users/ebruning/miniconda3/envs/glmval/lib/python3.6/site-packages/ipykernel_launcher.py:57: RuntimeWarning: invalid value encountered in double_scalars\n"
     ]
    }
   ],
   "source": [
    "lon_edge = centers_to_edges_2d(lon)\n",
    "lat_edge = centers_to_edges_2d(lat)"
   ]
  },
  {
   "cell_type": "code",
   "execution_count": 16,
   "metadata": {},
   "outputs": [
    {
     "data": {
      "application/vnd.jupyter.widget-view+json": {
       "model_id": "4fe6377aa7a34c05b4ad4446e1c622c9",
       "version_major": 2,
       "version_minor": 0
      },
      "text/plain": [
       "Canvas(toolbar=Toolbar(toolitems=[('Home', 'Reset original view', 'home', 'home'), ('Back', 'Back to previous …"
      ]
     },
     "metadata": {},
     "output_type": "display_data"
    },
    {
     "data": {
      "text/plain": [
       "(-103, -98, 30, 35)"
      ]
     },
     "execution_count": 16,
     "metadata": {},
     "output_type": "execute_result"
    }
   ],
   "source": [
    "x_sub = slice(500, None)\n",
    "y_sub = slice(None, None)\n",
    "\n",
    "fig, ax = plt.subplots(1,1,figsize=(9,5))\n",
    "\n",
    "im = ax.pcolormesh(lon_edge[y_sub, x_sub], lat_edge[y_sub, x_sub], np.log10(glm.flash_extent_density[y_sub, x_sub]), vmin=0, vmax=1.0)\n",
    "plt.colorbar(im, ax=ax)\n",
    "\n",
    "if True:\n",
    "    for l2 in l2s:\n",
    "        ax.plot(l2.event_lon, l2.event_lat, \n",
    "                linestyle='', marker='s', markersize=3, linewidth=0.5,\n",
    "                markeredgecolor='r', markerfacecolor='none')\n",
    "    \n",
    "# ax.axis((-120, -65, 30, 35))\n",
    "ax.axis((-103, -98, 30, 35))"
   ]
  },
  {
   "cell_type": "markdown",
   "metadata": {},
   "source": [
    "### Also do a radar overlay to see if the lightning ellipsoid height does a good job\n",
    "\n",
    "Use KLBB NEXRAD L2 data converted to NetCDF format using PyART."
   ]
  },
  {
   "cell_type": "code",
   "execution_count": null,
   "metadata": {},
   "outputs": [],
   "source": [
    "klbb = xr.open_dataset('/Users/ebruning/Downloads/KLBB20180702_043208_V06.nc')"
   ]
  },
  {
   "cell_type": "code",
   "execution_count": 46,
   "metadata": {},
   "outputs": [],
   "source": [
    "sweep_id=0\n",
    "this_sweep = slice(klbb.sweep_start_ray_index[sweep_id].data, klbb.sweep_end_ray_index[sweep_id].data)\n",
    "klbb_swp = klbb[{'time':this_sweep, 'sweep':sweep_id}]\n",
    "\n",
    "from lmatools.coordinateSystems import RadarCoordinateSystem\n",
    "rcs = RadarCoordinateSystem(klbb_swp.latitude.data, klbb_swp.longitude.data, klbb_swp.altitude.data)\n",
    "interior_points = slice(1,-1)\n",
    "r_edge = (klbb_swp.range[1:]+klbb_swp.range[:-1])/2.0 # range dim\n",
    "az_edge = (klbb_swp.azimuth[1:]+klbb_swp.azimuth[:-1])/2.0 # time dim\n",
    "dbz = klbb_swp.reflectivity[interior_points, interior_points]\n",
    "\n",
    "r_mesh, az_mesh = np.meshgrid(r_edge, az_edge)\n",
    "el_mesh = np.median(klbb_swp.elevation)*np.ones_like(r_mesh)\n",
    "\n",
    "radar_lon, radar_lat, radar_alt = grs80lla.fromECEF(*rcs.toECEF(r_mesh, az_mesh, el_mesh))\n",
    "radar_lon.shape=r_mesh.shape\n",
    "radar_lat.shape=r_mesh.shape\n"
   ]
  },
  {
   "cell_type": "code",
   "execution_count": 57,
   "metadata": {},
   "outputs": [
    {
     "data": {
      "application/vnd.jupyter.widget-view+json": {
       "model_id": "3e5e206ed19b47e39010e5b7a0fd846f",
       "version_major": 2,
       "version_minor": 0
      },
      "text/plain": [
       "Canvas(toolbar=Toolbar(toolitems=[('Home', 'Reset original view', 'home', 'home'), ('Back', 'Back to previous …"
      ]
     },
     "metadata": {},
     "output_type": "display_data"
    },
    {
     "data": {
      "text/plain": [
       "(-103, -98, 30, 35)"
      ]
     },
     "execution_count": 57,
     "metadata": {},
     "output_type": "execute_result"
    }
   ],
   "source": [
    "x_sub = slice(500, None)\n",
    "y_sub = slice(None, None)\n",
    "\n",
    "fig, ax = plt.subplots(1,1,figsize=(9,5))\n",
    "\n",
    "\n",
    "im = ax.pcolormesh(lon_ltg_edge[y_sub, x_sub], lat_ltg_edge[y_sub, x_sub], \n",
    "                   np.log10(glm.flash_extent_density[y_sub, x_sub]), \n",
    "                   vmin=0, vmax=1.0, alpha=0.5, zorder=10)\n",
    "plt.colorbar(im, ax=ax)\n",
    "\n",
    "radar_im=ax.pcolormesh(radar_lon, radar_lat, dbz, zorder=0,\n",
    "                       vmin=0, vmax=60, cmap='gist_ncar', alpha=0.5)\n",
    "plt.colorbar(radar_im, ax=ax)\n",
    "\n",
    "\n",
    "if False:\n",
    "    for l2 in l2s:\n",
    "        ax.plot(l2.event_lon, l2.event_lat, \n",
    "                linestyle='', marker='s', markersize=3, linewidth=0.5,\n",
    "                markeredgecolor='r', markerfacecolor='none')\n",
    "\n",
    "# ax.axis((-120, -65, 10, 55))\n",
    "ax.axis((-103, -98, 30, 35))"
   ]
  },
  {
   "cell_type": "markdown",
   "metadata": {},
   "source": [
    "### Rewriting to disk\n",
    "\n",
    "Add the 2D arrays back to the original dataset and save to disk. This doesn't have the CF standard name metadata or unit information, but that isn't too hard to add if you need it."
   ]
  },
  {
   "cell_type": "code",
   "execution_count": 30,
   "metadata": {},
   "outputs": [],
   "source": [
    "# glm['longitude'] = xr.DataArray(lon_ltg, dims=('y', 'x'))\n",
    "# glm['latitude'] = xr.DataArray(lat_ltg, dims=('y', 'x'))\n",
    "# glm.to_netcdf('glm_aggregate.nc')"
   ]
  },
  {
   "cell_type": "markdown",
   "metadata": {},
   "source": [
    "## Interpolating to a target grid\n",
    "\n",
    "One might wish to interpolat to a regular latitude, longitude grid, which is a pretty standard operation given the `(lat,lon)` coordinate data provided above. However, we can go one further, and interpolate directly from fixed grid to a model target grid.\n",
    "\n",
    "**_This section is under development_** and the LCC coordinates derived here don't quite match the model. However, the interpolation looks pretty nice, so interpolating to a regular lat,lon grid should look pretty good, too.\n",
    "\n",
    "The coordinate information for the [2.5 km HRRR run by NCEP is](https://thredds.ucar.edu/thredds/catalog/grib/NCEP/HRRR/CONUS_2p5km_ANA/latest.html) is in the Lambert Conformal projection on yet another earth ellipsoid - this time, spherical.\n",
    "\n",
    "We can use the siphon module to download a single variable and its coordinate information. Just use xr.open_dataset if you have the NetCDF data locally."
   ]
  },
  {
   "cell_type": "code",
   "execution_count": 73,
   "metadata": {},
   "outputs": [],
   "source": [
    "from siphon.catalog import TDSCatalog\n",
    "from datetime import datetime\n",
    "\n",
    "vtime = datetime.strptime('2020020219','%Y%m%d%H')\n",
    "model_url = \"https://thredds.ucar.edu/thredds/catalog/grib/NCEP/HRRR/CONUS_2p5km_ANA/latest.html?dataset=grib/NCEP/HRRR/CONUS_2p5km_ANA/HRRR_CONUS_2p5km_ana_20200202_1900.grib2\"\n",
    "\n",
    "model = TDSCatalog(model_url)\n",
    "ds = model.datasets[0]\n",
    "ncss = ds.subset()\n",
    "query = ncss.query()\n",
    "query.accept('netcdf4')\n",
    "query.time(vtime) # Set to the analysis hour only\n",
    "query.add_lonlat()\n",
    "query.variables('Categorical_freezing_rain_surface')\n",
    "# 'x', 'y', 'LambertConformal_Projection', etc. come along for free.\n",
    "data = ncss.get_data(query)"
   ]
  },
  {
   "cell_type": "code",
   "execution_count": 77,
   "metadata": {},
   "outputs": [],
   "source": [
    "hrrr = xr.open_dataset(xr.backends.NetCDF4DataStore(data))"
   ]
  },
  {
   "cell_type": "code",
   "execution_count": 183,
   "metadata": {},
   "outputs": [
    {
     "name": "stdout",
     "output_type": "stream",
     "text": [
      "<xarray.DataArray 'LambertConformal_Projection' ()>\n",
      "array(0, dtype=int32)\n",
      "Attributes:\n",
      "    grid_mapping_name:              lambert_conformal_conic\n",
      "    latitude_of_projection_origin:  25.0\n",
      "    longitude_of_central_meridian:  265.0\n",
      "    standard_parallel:              25.0\n",
      "    earth_radius:                   6371229.0\n",
      "    _CoordinateTransformType:       Projection\n",
      "    _CoordinateAxisTypes:           GeoX GeoY\n",
      "-----\n",
      "<xarray.DataArray 'x' (x: 2145)>\n",
      "array([-2763.217 , -2760.6772, -2758.1377, ...,  2676.8267,  2679.3662,\n",
      "        2681.906 ], dtype=float32)\n",
      "Coordinates:\n",
      "  * x        (x) float32 -2763.217 -2760.6772 -2758.1377 ... 2679.3662 2681.906\n",
      "Attributes:\n",
      "    standard_name:        projection_x_coordinate\n",
      "    units:                km\n",
      "    _CoordinateAxisType:  GeoX\n",
      "-----\n",
      "<xarray.DataArray 'y' (y: 1377)>\n",
      "array([-263.79062, -261.25092, -258.7112 , ..., 3225.7612 , 3228.3008 ,\n",
      "       3230.8406 ], dtype=float32)\n",
      "Coordinates:\n",
      "  * y        (y) float32 -263.79062 -261.25092 -258.7112 ... 3228.3008 3230.8406\n",
      "Attributes:\n",
      "    standard_name:        projection_y_coordinate\n",
      "    units:                km\n",
      "    _CoordinateAxisType:  GeoY\n"
     ]
    }
   ],
   "source": [
    "print(hrrr.LambertConformal_Projection)\n",
    "print('-----')\n",
    "print(hrrr.x)\n",
    "print('-----')\n",
    "print(hrrr.y)"
   ]
  },
  {
   "cell_type": "code",
   "execution_count": 91,
   "metadata": {},
   "outputs": [],
   "source": [
    "hrrrproj={\n",
    "'lat_0':hrrr.LambertConformal_Projection.latitude_of_projection_origin,\n",
    "'lon_0':hrrr.LambertConformal_Projection.longitude_of_central_meridian,\n",
    "'lat_1':hrrr.LambertConformal_Projection.standard_parallel,\n",
    "'R':hrrr.LambertConformal_Projection.earth_radius,\n",
    "}\n",
    "\n",
    "from lmatools.coordinateSystems import MapProjection\n",
    "lcc = MapProjection(projection='lcc', ctrLat=hrrrproj['lat_0'],ctrLon=hrrrproj['lon_0'], **hrrrproj)"
   ]
  },
  {
   "cell_type": "code",
   "execution_count": 94,
   "metadata": {},
   "outputs": [],
   "source": [
    "lccx,lccy,lccz = lcc.fromECEF(*geofix_ltg.toECEF(x,y,z))\n",
    "lccx.shape=x.shape\n",
    "lccy.shape=y.shape"
   ]
  },
  {
   "cell_type": "code",
   "execution_count": 165,
   "metadata": {},
   "outputs": [
    {
     "data": {
      "text/plain": [
       "((1500, 2500), (1500, 2500))"
      ]
     },
     "execution_count": 165,
     "metadata": {},
     "output_type": "execute_result"
    }
   ],
   "source": [
    "lccx.shape, glm.flash_extent_density.shape"
   ]
  },
  {
   "cell_type": "markdown",
   "metadata": {},
   "source": [
    "The result of the above calculation is the exact center location of each image pixel in fixed grid coordiantes. As shown in the plot below, this results in an exact mapping of the GLM CCD pixel shapes to the LCC grid. This can be used to drive an interpoation to the LCC model grid. "
   ]
  },
  {
   "cell_type": "code",
   "execution_count": 184,
   "metadata": {},
   "outputs": [
    {
     "name": "stderr",
     "output_type": "stream",
     "text": [
      "/Users/ebruning/miniconda3/envs/glmval/lib/python3.6/site-packages/ipykernel_launcher.py:51: RuntimeWarning: invalid value encountered in subtract\n",
      "/Users/ebruning/miniconda3/envs/glmval/lib/python3.6/site-packages/ipykernel_launcher.py:53: RuntimeWarning: invalid value encountered in subtract\n",
      "/Users/ebruning/miniconda3/envs/glmval/lib/python3.6/site-packages/ipykernel_launcher.py:57: RuntimeWarning: invalid value encountered in double_scalars\n",
      "/Users/ebruning/miniconda3/envs/glmval/lib/python3.6/site-packages/ipykernel_launcher.py:3: RuntimeWarning: More than 20 figures have been opened. Figures created through the pyplot interface (`matplotlib.pyplot.figure`) are retained until explicitly closed and may consume too much memory. (To control this warning, see the rcParam `figure.max_open_warning`).\n",
      "  This is separate from the ipykernel package so we can avoid doing imports until\n"
     ]
    },
    {
     "data": {
      "application/vnd.jupyter.widget-view+json": {
       "model_id": "a39b9d4650b149bd8e467a202eca47af",
       "version_major": 2,
       "version_minor": 0
      },
      "text/plain": [
       "Canvas(toolbar=Toolbar(toolitems=[('Home', 'Reset original view', 'home', 'home'), ('Back', 'Back to previous …"
      ]
     },
     "metadata": {},
     "output_type": "display_data"
    },
    {
     "data": {
      "text/plain": [
       "(-700, -300, 650, 1000)"
      ]
     },
     "execution_count": 184,
     "metadata": {},
     "output_type": "execute_result"
    }
   ],
   "source": [
    "lccx_edge = centers_to_edges_2d(lccx)\n",
    "lccy_edge = centers_to_edges_2d(lccy)\n",
    "fig,ax = plt.subplots(1,1,figsize=(9,7))\n",
    "ax.pcolormesh(lccx_edge[y_sub,x_sub]/1000.0, lccy_edge[y_sub,x_sub]/1000.0, glm.flash_extent_density[y_sub,x_sub])\n",
    "ax.axis((-700,-300,650,1000))"
   ]
  },
  {
   "cell_type": "code",
   "execution_count": 177,
   "metadata": {},
   "outputs": [
    {
     "name": "stdout",
     "output_type": "stream",
     "text": [
      "nan\n"
     ]
    }
   ],
   "source": [
    "from scipy.interpolate import griddata\n",
    "hrrrx, hrrry = np.meshgrid(hrrr.x, hrrr.y)\n",
    "interp_loc = np.vstack((hrrrx.flatten(), hrrry.flatten())).T\n",
    "\n",
    "# GLM variables are filled with nan everywhere there is no lightning,\n",
    "# so set those locations corresponding to valid earth locations to zero.\n",
    "# Also flip the north-south coordinate to match the fact that the GLM data\n",
    "# coordinate begins from the upper left instead of lower right corner.\n",
    "good = np.isfinite(lccx[::-1,:])\n",
    "data_loc = np.vstack((lccx [good]/1e3, lccy[::-1,:][good]/1e3)).T\n",
    "interp_data = glm.flash_extent_density.data[good]\n",
    "print(interp_data.max())\n",
    "interp_data[~np.isfinite(interp_data)] = 0\n",
    "\n",
    "interp_field = griddata(data_loc, interp_data, interp_loc, method='linear')"
   ]
  },
  {
   "cell_type": "code",
   "execution_count": 178,
   "metadata": {},
   "outputs": [],
   "source": [
    "interp_field.shape=hrrrx.shape"
   ]
  },
  {
   "cell_type": "code",
   "execution_count": 179,
   "metadata": {},
   "outputs": [
    {
     "name": "stdout",
     "output_type": "stream",
     "text": [
      "21.0\n",
      "-4085.3850344459706 3659.2199259402887 -1165.7111010431006 4440.781304788785\n",
      "-2763.217 2681.906 -263.79062 3230.8406\n",
      "3704272 45728 3704272\n",
      "(2145,)\n",
      "(1377, 2145)\n",
      "21.000000000000004\n",
      "(2953665, 2)\n"
     ]
    }
   ],
   "source": [
    "print(interp_data.max())\n",
    "print(data_loc[:,0].min(), data_loc[:,0].max(), data_loc[:,1].min(), data_loc[:,1].max())\n",
    "print(interp_loc[:,0].min(), interp_loc[:,0].max(), interp_loc[:,1].min(), interp_loc[:,1].max())\n",
    "\n",
    "print(good.sum(), (~good).sum(), np.isfinite(interp_data).sum())\n",
    "print(hrrr.x.shape)\n",
    "print(hrrrx.shape)\n",
    "print(finite_max(interp_field))\n",
    "print(interp_loc.shape)"
   ]
  },
  {
   "cell_type": "code",
   "execution_count": 180,
   "metadata": {},
   "outputs": [
    {
     "name": "stderr",
     "output_type": "stream",
     "text": [
      "/Users/ebruning/miniconda3/envs/glmval/lib/python3.6/site-packages/ipykernel_launcher.py:1: RuntimeWarning: More than 20 figures have been opened. Figures created through the pyplot interface (`matplotlib.pyplot.figure`) are retained until explicitly closed and may consume too much memory. (To control this warning, see the rcParam `figure.max_open_warning`).\n",
      "  \"\"\"Entry point for launching an IPython kernel.\n"
     ]
    },
    {
     "data": {
      "application/vnd.jupyter.widget-view+json": {
       "model_id": "80e4a5db23a54acd9389c3156ab753b3",
       "version_major": 2,
       "version_minor": 0
      },
      "text/plain": [
       "Canvas(toolbar=Toolbar(toolitems=[('Home', 'Reset original view', 'home', 'home'), ('Back', 'Back to previous …"
      ]
     },
     "metadata": {},
     "output_type": "display_data"
    },
    {
     "data": {
      "text/plain": [
       "<matplotlib.image.AxesImage at 0x14ae23908>"
      ]
     },
     "execution_count": 180,
     "metadata": {},
     "output_type": "execute_result"
    }
   ],
   "source": [
    "fig,ax = plt.subplots(1,1,figsize=(9,7))\n",
    "plt.imshow(interp_field, extent=(hrrrx.min(), hrrrx.max(), hrrry.min(), hrrry.max()))\n",
    "# ax.axis((-700,-300,650,1000))"
   ]
  },
  {
   "cell_type": "code",
   "execution_count": null,
   "metadata": {},
   "outputs": [],
   "source": []
  }
 ],
 "metadata": {
  "kernelspec": {
   "display_name": "Python 3",
   "language": "python",
   "name": "python3"
  },
  "language_info": {
   "codemirror_mode": {
    "name": "ipython",
    "version": 3
   },
   "file_extension": ".py",
   "mimetype": "text/x-python",
   "name": "python",
   "nbconvert_exporter": "python",
   "pygments_lexer": "ipython3",
   "version": "3.6.7"
  }
 },
 "nbformat": 4,
 "nbformat_minor": 4
}
