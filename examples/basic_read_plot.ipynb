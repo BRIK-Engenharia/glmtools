{
 "cells": [
  {
   "cell_type": "markdown",
   "metadata": {},
   "source": [
    "Before running this notebook, it's helpful to \n",
    "\n",
    "`conda install -c conda-forge nb_conda_kernels`\n",
    "\n",
    "`conda install -c conda-forge ipywidgets`\n",
    "\n",
    "and set the kernel to the conda environment in which you installed glmtools (typically, `glmval`)\n",
    "\n",
    "\n",
    "To load data via siphon from opendap, you must\n",
    "\n",
    "`conda install -c conda-forge siphon`\n",
    "\n"
   ]
  },
  {
   "cell_type": "code",
   "execution_count": 1,
   "metadata": {
    "collapsed": true
   },
   "outputs": [],
   "source": [
    "%matplotlib inline\n",
    "import numpy as np\n",
    "import matplotlib.pyplot as plt\n",
    "\n",
    "from glmtools.io.glm import GLMDataset, fix_event_locations"
   ]
  },
  {
   "cell_type": "code",
   "execution_count": 2,
   "metadata": {
    "collapsed": true
   },
   "outputs": [],
   "source": [
    "# filename = '/data/LCFA-production/OR_GLM-L2-LCFA_G16_s20152242125152_e20152242125357_c20152242125498.nc'\n",
    "# filename = '/data/LCFA-production/OR_GLM-L2-LCFA_G16_s20171081818480_e20171081818500_c20171081819229.nc'\n",
    "\n",
    "filename = '/data/LCFA-production/OR_GLM-L2-LCFA_G16_s20171161230400_e20171161231000_c20171161231027.nc'\n",
    "# flash 6567 has 81 groups, 188 events\n",
    "# 2017-04-26T12:30:56\n",
    "\n",
    "# filename = '/data/LCFA-production/L2_test_Apr/FGE_LCFA/glm_fge_pnew_201703301520.nc'\n",
    "# flash 1976 is weird"
   ]
  },
  {
   "cell_type": "code",
   "execution_count": 3,
   "metadata": {
    "collapsed": true
   },
   "outputs": [],
   "source": [
    "# Load data from the most recent minute or two!\n",
    "if True:\n",
    "    from siphon.catalog import TDSCatalog\n",
    "    g16url = \"http://thredds-test.unidata.ucar.edu/thredds/catalog/satellite/goes16/GRB16/GLM/LCFA/current/catalog.xml\"\n",
    "    satcat = TDSCatalog(g16url)\n",
    "    filename = satcat.datasets[-1].access_urls['OPENDAP']"
   ]
  },
  {
   "cell_type": "code",
   "execution_count": 4,
   "metadata": {},
   "outputs": [
    {
     "name": "stdout",
     "output_type": "stream",
     "text": [
      "<xarray.Dataset>\n",
      "Dimensions:                                 (number_of_events: 8940, number_of_field_of_view_bounds: 2, number_of_flashes: 336, number_of_groups: 3883, number_of_time_bounds: 2, number_of_wavelength_bounds: 2)\n",
      "Coordinates:\n",
      "  * number_of_flashes                       (number_of_flashes) MultiIndex\n",
      "  - flash_id                                (number_of_flashes) int64 20452 ...\n",
      "  - flash_time_offset_of_first_event        (number_of_flashes) datetime64[ns] 2018-05-21T19:55:39.456000 ...\n",
      "  - flash_time_offset_of_last_event         (number_of_flashes) datetime64[ns] 2018-05-21T19:55:39.760000 ...\n",
      "  - flash_lat                               (number_of_flashes) float64 38.19 ...\n",
      "  - flash_lon                               (number_of_flashes) float64 -79.85 ...\n",
      "  * number_of_groups                        (number_of_groups) MultiIndex\n",
      "  - group_parent_flash_id                   (number_of_groups) int64 20452 ...\n",
      "  - group_id                                (number_of_groups) int64 309936507 ...\n",
      "  - group_time_offset                       (number_of_groups) datetime64[ns] 2018-05-21T19:55:39.456000 ...\n",
      "  - group_lat                               (number_of_groups) float64 38.18 ...\n",
      "  - group_lon                               (number_of_groups) float64 -79.87 ...\n",
      "  * number_of_events                        (number_of_events) MultiIndex\n",
      "  - event_parent_group_id                   (number_of_events) int64 309936507 ...\n",
      "  - event_id                                (number_of_events) int64 742697162 ...\n",
      "  - event_time_offset                       (number_of_events) datetime64[ns] 2018-05-21T19:55:39.456000 ...\n",
      "  - event_lat                               (number_of_events) float64 38.17 ...\n",
      "  - event_lon                               (number_of_events) float64 -79.87 ...\n",
      "    product_time                            datetime64[ns] ...\n",
      "    lightning_wavelength                    float32 ...\n",
      "    group_time_threshold                    float32 ...\n",
      "    flash_time_threshold                    float32 ...\n",
      "    lat_field_of_view                       float32 ...\n",
      "    lon_field_of_view                       float32 -75.0\n",
      "Dimensions without coordinates: number_of_field_of_view_bounds, number_of_time_bounds, number_of_wavelength_bounds\n",
      "Data variables:\n",
      "    product_time_bounds                     (number_of_time_bounds) float64 ...\n",
      "    lightning_wavelength_bounds             (number_of_wavelength_bounds) float32 ...\n",
      "    lat_field_of_view_bounds                (number_of_field_of_view_bounds) float32 ...\n",
      "    goes_lat_lon_projection                 int32 ...\n",
      "    event_energy                            (number_of_events) float64 ...\n",
      "    group_area                              (number_of_groups) float64 ...\n",
      "    group_energy                            (number_of_groups) float64 ...\n",
      "    group_quality_flag                      (number_of_groups) float32 ...\n",
      "    flash_area                              (number_of_flashes) float64 ...\n",
      "    flash_energy                            (number_of_flashes) float64 ...\n",
      "    flash_quality_flag                      (number_of_flashes) float32 ...\n",
      "    event_count                             float64 ...\n",
      "    group_count                             float64 ...\n",
      "    flash_count                             float64 ...\n",
      "    percent_navigated_L1b_events            float32 ...\n",
      "    yaw_flip_flag                           float32 ...\n",
      "    nominal_satellite_subpoint_lat          float32 ...\n",
      "    nominal_satellite_height                float32 ...\n",
      "    nominal_satellite_subpoint_lon          float32 ...\n",
      "    lon_field_of_view_bounds                (number_of_field_of_view_bounds) float32 ...\n",
      "    percent_uncorrectable_L0_errors         float32 ...\n",
      "    algorithm_dynamic_input_data_container  int32 ...\n",
      "    processing_parm_version_container       int32 ...\n",
      "    algorithm_product_version_container     int32 ...\n",
      "    event_parent_flash_id                   (number_of_events) int64 20452 ...\n",
      "    flash_child_group_count                 (number_of_flashes) int64 13 4 ...\n",
      "    group_child_event_count                 (number_of_groups) int64 1 1 1 1 ...\n",
      "    flash_child_event_count                 (number_of_flashes) int64 19 11 ...\n",
      "    event_x                                 (number_of_events) float64 -0.01143 ...\n",
      "    event_y                                 (number_of_events) float64 0.1053 ...\n",
      "    group_x                                 (number_of_groups) float64 -0.01143 ...\n",
      "    group_y                                 (number_of_groups) float64 0.1053 ...\n",
      "    flash_x                                 (number_of_flashes) float64 -0.01139 ...\n",
      "    flash_y                                 (number_of_flashes) float64 0.1054 ...\n",
      "Attributes:\n",
      "    production_site:                 WCDAS\n",
      "    featureType:                     point\n",
      "    orbital_slot:                    GOES-East\n",
      "    platform_ID:                     G16\n",
      "    dataset_name:                    OR_GLM-L2-LCFA_G16_s20181411955400_e2018...\n",
      "    naming_authority:                gov.nesdis.noaa\n",
      "    institution:                     DOC/NOAA/NESDIS> U.S. Department of Comm...\n",
      "    project:                         GOES\n",
      "    iso_series_metadata_id:          f5816f53-fd6d-11e3-a3ac-0800200c9a66\n",
      "    Metadata_Conventions:            Unidata Dataset Discovery v1.0\n",
      "    keywords_vocabulary:             NASA Global Change Master Directory (GCM...\n",
      "    standard_name_vocabulary:        CF Standard Name Table (v25, 05 July 2013)\n",
      "    title:                           GLM L2 Lightning Detections: Events, Gro...\n",
      "    summary:                         The Lightning Detections: Events, Groups...\n",
      "    license:                         Unclassified data.  Access is restricted...\n",
      "    keywords:                        ATMOSPHERE > ATMOSPHERIC ELECTRICITY > L...\n",
      "    cdm_data_type:                   Point\n",
      "    instrument_type:                 GOES-R Series Geostationary Lightning Ma...\n",
      "    processing_level:                National Aeronautics and Space Administr...\n",
      "    instrument_ID:                   FM1\n",
      "    spatial_resolution:              8km at nadir\n",
      "    date_created:                    2018-05-21T19:56:02.8Z\n",
      "    time_coverage_start:             2018-05-21T19:55:40.0Z\n",
      "    time_coverage_end:               2018-05-21T19:56:00.0Z\n",
      "    production_data_source:          n/a\n",
      "    production_environment:          OE\n",
      "    created_by:                      CSPP Geo GRB-R v0.4.6\n",
      "    DODS_EXTRA.Unlimited_Dimension:  number_of_events\n"
     ]
    }
   ],
   "source": [
    "glm = GLMDataset(filename)\n",
    "print(glm.dataset)\n",
    "# print(glm.dataset.event_energy)\n",
    "# print(glm.dataset.event_count.encoding)"
   ]
  },
  {
   "cell_type": "code",
   "execution_count": 5,
   "metadata": {
    "scrolled": false
   },
   "outputs": [
    {
     "data": {
      "application/vnd.jupyter.widget-view+json": {
       "model_id": "5aa2ffc541974f05b3e853b5465b5966"
      }
     },
     "metadata": {},
     "output_type": "display_data"
    },
    {
     "data": {
      "text/plain": [
       "<function __main__.do_plot>"
      ]
     },
     "execution_count": 5,
     "metadata": {},
     "output_type": "execute_result"
    },
    {
     "data": {
      "image/png": "[encoded data removed]",
      "text/plain": [
       "<matplotlib.figure.Figure at 0x11a4a0a20>"
      ]
     },
     "metadata": {},
     "output_type": "display_data"
    },
    {
     "data": {
      "image/png": "[encoded data removed]",
      "text/plain": [
       "<matplotlib.figure.Figure at 0x11a2666d8>"
      ]
     },
     "metadata": {},
     "output_type": "display_data"
    },
    {
     "data": {
      "image/png": "[encoded data removed]",
      "text/plain": [
       "<matplotlib.figure.Figure at 0x11a41a048>"
      ]
     },
     "metadata": {},
     "output_type": "display_data"
    }
   ],
   "source": [
    "from glmtools.plot.locations import plot_flash\n",
    "\n",
    "import ipywidgets as widgets\n",
    "# print(widgets.Widget.widget_types.values())\n",
    "fl_id_vals = list(glm.dataset.flash_id.data)\n",
    "fl_id_vals.sort()\n",
    "flash_slider =  widgets.SelectionSlider(\n",
    "    description='Flash',\n",
    "    options=fl_id_vals,\n",
    ")\n",
    "\n",
    "# from functools import partial\n",
    "# glm_plotter = partial(plot_flash, glm) # fails with a __name__ attr not found\n",
    "def do_plot(flash_id):\n",
    "    fig = plot_flash(glm, flash_id)\n",
    "widgets.interact(do_plot, flash_id=flash_slider)"
   ]
  },
  {
   "cell_type": "markdown",
   "metadata": {},
   "source": [
    "# Find flashes in some location"
   ]
  },
  {
   "cell_type": "code",
   "execution_count": 11,
   "metadata": {},
   "outputs": [
    {
     "name": "stdout",
     "output_type": "stream",
     "text": [
      "<xarray.Dataset>\n",
      "Dimensions:                                 (number_of_events: 22, number_of_field_of_view_bounds: 2, number_of_flashes: 2, number_of_groups: 9, number_of_time_bounds: 2, number_of_wavelength_bounds: 2)\n",
      "Coordinates:\n",
      "  * number_of_flashes                       (number_of_flashes) MultiIndex\n",
      "  - flash_id                                (number_of_flashes) int64 20457 ...\n",
      "  - flash_time_offset_of_first_event        (number_of_flashes) datetime64[ns] 2018-05-21T19:55:39.690000 ...\n",
      "  - flash_time_offset_of_last_event         (number_of_flashes) datetime64[ns] 2018-05-21T19:55:39.926000 ...\n",
      "  - flash_lat                               (number_of_flashes) float64 41.03 ...\n",
      "  - flash_lon                               (number_of_flashes) float64 -104.9 ...\n",
      "  * number_of_groups                        (number_of_groups) MultiIndex\n",
      "  - group_parent_flash_id                   (number_of_groups) int64 20457 ...\n",
      "  - group_id                                (number_of_groups) int64 309936543 ...\n",
      "  - group_time_offset                       (number_of_groups) datetime64[ns] 2018-05-21T19:55:39.690000 ...\n",
      "  - group_lat                               (number_of_groups) float64 40.99 ...\n",
      "  - group_lon                               (number_of_groups) float64 -104.9 ...\n",
      "  * number_of_events                        (number_of_events) MultiIndex\n",
      "  - event_parent_group_id                   (number_of_events) int64 309936543 ...\n",
      "  - event_id                                (number_of_events) int64 742697230 ...\n",
      "  - event_time_offset                       (number_of_events) datetime64[ns] 2018-05-21T19:55:39.690000 ...\n",
      "  - event_lat                               (number_of_events) float64 40.99 ...\n",
      "  - event_lon                               (number_of_events) float64 -104.9 ...\n",
      "    product_time                            datetime64[ns] ...\n",
      "    lightning_wavelength                    float32 ...\n",
      "    group_time_threshold                    float32 ...\n",
      "    flash_time_threshold                    float32 ...\n",
      "    lat_field_of_view                       float32 ...\n",
      "    lon_field_of_view                       float32 -75.0\n",
      "Dimensions without coordinates: number_of_field_of_view_bounds, number_of_time_bounds, number_of_wavelength_bounds\n",
      "Data variables:\n",
      "    product_time_bounds                     (number_of_time_bounds) float64 ...\n",
      "    lightning_wavelength_bounds             (number_of_wavelength_bounds) float32 ...\n",
      "    lat_field_of_view_bounds                (number_of_field_of_view_bounds) float32 ...\n",
      "    goes_lat_lon_projection                 int32 ...\n",
      "    event_energy                            (number_of_events) float64 ...\n",
      "    group_area                              (number_of_groups) float64 ...\n",
      "    group_energy                            (number_of_groups) float64 ...\n",
      "    group_quality_flag                      (number_of_groups) float32 ...\n",
      "    flash_area                              (number_of_flashes) float64 ...\n",
      "    flash_energy                            (number_of_flashes) float64 ...\n",
      "    flash_quality_flag                      (number_of_flashes) float32 ...\n",
      "    event_count                             float64 ...\n",
      "    group_count                             float64 ...\n",
      "    flash_count                             float64 ...\n",
      "    percent_navigated_L1b_events            float32 ...\n",
      "    yaw_flip_flag                           float32 ...\n",
      "    nominal_satellite_subpoint_lat          float32 ...\n",
      "    nominal_satellite_height                float32 ...\n",
      "    nominal_satellite_subpoint_lon          float32 ...\n",
      "    lon_field_of_view_bounds                (number_of_field_of_view_bounds) float32 ...\n",
      "    percent_uncorrectable_L0_errors         float32 ...\n",
      "    algorithm_dynamic_input_data_container  int32 ...\n",
      "    processing_parm_version_container       int32 ...\n",
      "    algorithm_product_version_container     int32 ...\n",
      "    event_parent_flash_id                   (number_of_events) int64 20457 ...\n",
      "    flash_child_group_count                 (number_of_flashes) int64 5 4\n",
      "    group_child_event_count                 (number_of_groups) int64 1 3 1 4 ...\n",
      "    flash_child_event_count                 (number_of_flashes) int64 14 8\n",
      "    event_x                                 (number_of_events) float64 -0.06292 ...\n",
      "    event_y                                 (number_of_events) float64 0.1094 ...\n",
      "    group_x                                 (number_of_groups) float64 -0.06292 ...\n",
      "    group_y                                 (number_of_groups) float64 0.1093 ...\n",
      "    flash_x                                 (number_of_flashes) float64 -0.06284 ...\n",
      "    flash_y                                 (number_of_flashes) float64 0.1094 ...\n",
      "Attributes:\n",
      "    production_site:                 WCDAS\n",
      "    featureType:                     point\n",
      "    orbital_slot:                    GOES-East\n",
      "    platform_ID:                     G16\n",
      "    dataset_name:                    OR_GLM-L2-LCFA_G16_s20181411955400_e2018...\n",
      "    naming_authority:                gov.nesdis.noaa\n",
      "    institution:                     DOC/NOAA/NESDIS> U.S. Department of Comm...\n",
      "    project:                         GOES\n",
      "    iso_series_metadata_id:          f5816f53-fd6d-11e3-a3ac-0800200c9a66\n",
      "    Metadata_Conventions:            Unidata Dataset Discovery v1.0\n",
      "    keywords_vocabulary:             NASA Global Change Master Directory (GCM...\n",
      "    standard_name_vocabulary:        CF Standard Name Table (v25, 05 July 2013)\n",
      "    title:                           GLM L2 Lightning Detections: Events, Gro...\n",
      "    summary:                         The Lightning Detections: Events, Groups...\n",
      "    license:                         Unclassified data.  Access is restricted...\n",
      "    keywords:                        ATMOSPHERE > ATMOSPHERIC ELECTRICITY > L...\n",
      "    cdm_data_type:                   Point\n",
      "    instrument_type:                 GOES-R Series Geostationary Lightning Ma...\n",
      "    processing_level:                National Aeronautics and Space Administr...\n",
      "    instrument_ID:                   FM1\n",
      "    spatial_resolution:              8km at nadir\n",
      "    date_created:                    2018-05-21T19:56:02.8Z\n",
      "    time_coverage_start:             2018-05-21T19:55:40.0Z\n",
      "    time_coverage_end:               2018-05-21T19:56:00.0Z\n",
      "    production_data_source:          n/a\n",
      "    production_environment:          OE\n",
      "    created_by:                      CSPP Geo GRB-R v0.4.6\n",
      "    DODS_EXTRA.Unlimited_Dimension:  number_of_events\n"
     ]
    }
   ],
   "source": [
    "flashes_subset = glm.subset_flashes(lon_range = (-105.5, -104.5), lat_range = (40.5, 41.5))\n",
    "print(flashes_subset)"
   ]
  },
  {
   "cell_type": "code",
   "execution_count": 12,
   "metadata": {},
   "outputs": [
    {
     "data": {
      "application/vnd.jupyter.widget-view+json": {
       "model_id": "a52e564bed874167bc2c627cfd2aed72"
      }
     },
     "metadata": {},
     "output_type": "display_data"
    },
    {
     "data": {
      "text/plain": [
       "<function __main__.do_plot>"
      ]
     },
     "execution_count": 12,
     "metadata": {},
     "output_type": "execute_result"
    },
    {
     "data": {
      "image/png": "[encoded data removed]",
      "text/plain": [
       "<matplotlib.figure.Figure at 0x11a3fa5f8>"
      ]
     },
     "metadata": {},
     "output_type": "display_data"
    },
    {
     "data": {
      "image/png": "[encoded data removed]",
      "text/plain": [
       "<matplotlib.figure.Figure at 0x11a354f98>"
      ]
     },
     "metadata": {},
     "output_type": "display_data"
    }
   ],
   "source": [
    "from glmtools.plot.locations import plot_flash\n",
    "\n",
    "import ipywidgets as widgets\n",
    "# print(widgets.Widget.widget_types.values())\n",
    "fl_id_vals = list(flashes_subset.flash_id.data)\n",
    "fl_id_vals.sort()\n",
    "flash_slider =  widgets.SelectionSlider(\n",
    "    description='Flash',\n",
    "    options=fl_id_vals,\n",
    ")\n",
    "\n",
    "# from functools import partial\n",
    "# glm_plotter = partial(plot_flash, glm) # fails with a __name__ attr not found\n",
    "def do_plot(flash_id):\n",
    "    fig = plot_flash(glm, flash_id)\n",
    "widgets.interact(do_plot, flash_id=flash_slider)"
   ]
  },
  {
   "cell_type": "markdown",
   "metadata": {},
   "source": [
    "Here is an example of a low-level read with xarray, and dumping data in a pretty way with pandas.\n",
    "Experimental and not well tested."
   ]
  },
  {
   "cell_type": "code",
   "execution_count": 7,
   "metadata": {},
   "outputs": [
    {
     "name": "stdout",
     "output_type": "stream",
     "text": [
      "<xarray.Dataset>\n",
      "Dimensions:                                 (number_of_events: 8148, number_of_field_of_view_bounds: 2, number_of_flashes: 299, number_of_groups: 10, number_of_time_bounds: 2, number_of_wavelength_bounds: 2)\n",
      "Coordinates:\n",
      "    product_time                            datetime64[ns] 2017-04-26T12:30:40\n",
      "    lightning_wavelength                    float64 777.4\n",
      "    group_time_threshold                    float64 0.0\n",
      "    flash_time_threshold                    float64 3.33\n",
      "    lat_field_of_view                       float64 0.0\n",
      "    lon_field_of_view                       float64 -89.5\n",
      "  * number_of_events                        (number_of_events) MultiIndex\n",
      "  - event_parent_group_id                   (number_of_events) int64 47020807 ...\n",
      "  - event_id                                (number_of_events) int64 127071696 ...\n",
      "  - event_time_offset                       (number_of_events) datetime64[ns] 2017-04-26T12:30:39.892000 ...\n",
      "  - event_lat                               (number_of_events) float64 -5.211 ...\n",
      "  - event_lon                               (number_of_events) float64 -77.97 ...\n",
      "  * number_of_groups                        (number_of_groups) MultiIndex\n",
      "  - group_parent_flash_id                   (number_of_groups) int64 6359 ...\n",
      "  - group_id                                (number_of_groups) int64 47021181 ...\n",
      "  - group_time_offset                       (number_of_groups) datetime64[ns] 2017-04-26T12:30:40.738000 ...\n",
      "  - group_lat                               (number_of_groups) float64 32.59 ...\n",
      "  - group_lon                               (number_of_groups) float64 -96.85 ...\n",
      "  * number_of_flashes                       (number_of_flashes) MultiIndex\n",
      "  - flash_id                                (number_of_flashes) int64 6329 ...\n",
      "  - flash_time_offset_of_first_event        (number_of_flashes) datetime64[ns] 2017-04-26T12:30:39.892000 ...\n",
      "  - flash_time_offset_of_last_event         (number_of_flashes) datetime64[ns] 2017-04-26T12:30:40.010000 ...\n",
      "  - flash_lat                               (number_of_flashes) float64 -5.218 ...\n",
      "  - flash_lon                               (number_of_flashes) float64 -78.0 ...\n",
      "Dimensions without coordinates: number_of_field_of_view_bounds, number_of_time_bounds, number_of_wavelength_bounds\n",
      "Data variables:\n",
      "    event_energy                            (number_of_events) float64 6.052e-15 ...\n",
      "    group_area                              (number_of_groups) float64 197.9 ...\n",
      "    group_energy                            (number_of_groups) float64 6.052e-15 ...\n",
      "    group_quality_flag                      (number_of_groups) float64 0.0 ...\n",
      "    flash_area                              (number_of_flashes) float64 818.7 ...\n",
      "    flash_energy                            (number_of_flashes) float64 4.638e-13 ...\n",
      "    flash_quality_flag                      (number_of_flashes) float64 1.0 ...\n",
      "    product_time_bounds                     (number_of_time_bounds) float64 5.465e+08 ...\n",
      "    lightning_wavelength_bounds             (number_of_wavelength_bounds) float32 776.87 ...\n",
      "    lat_field_of_view_bounds                (number_of_field_of_view_bounds) float32 66.56 ...\n",
      "    goes_lat_lon_projection                 int32 -2147483647\n",
      "    event_count                             float64 8.148e+03\n",
      "    group_count                             float64 4.183e+03\n",
      "    flash_count                             float64 299.0\n",
      "    percent_navigated_L1b_events            float64 1.0\n",
      "    yaw_flip_flag                           float64 255.0\n",
      "    nominal_satellite_subpoint_lat          float64 0.0\n",
      "    nominal_satellite_height                float64 3.579e+04\n",
      "    nominal_satellite_subpoint_lon          float64 -89.5\n",
      "    lon_field_of_view_bounds                (number_of_field_of_view_bounds) float32 -156.06 ...\n",
      "    percent_uncorrectable_L0_errors         float64 0.0\n",
      "    algorithm_dynamic_input_data_container  int32 -2147483647\n",
      "    processing_parm_version_container       int32 -2147483647\n",
      "    algorithm_product_version_container     int32 -2147483647\n",
      "Attributes:\n",
      "    production_site:           WCDAS\n",
      "    featureType:               point\n",
      "    orbital_slot:              GOES-Test\n",
      "    platform_ID:               G16\n",
      "    dataset_name:              OR_GLM-L2-LCFA_G16_s20171161230400_e2017116123...\n",
      "    naming_authority:          gov.nesdis.noaa\n",
      "    institution:               DOC/NOAA/NESDIS> U.S. Department of Commerce, ...\n",
      "    project:                   GOES\n",
      "    iso_series_metadata_id:    f5816f53-fd6d-11e3-a3ac-0800200c9a66\n",
      "    Metadata_Conventions:      Unidata Dataset Discovery v1.0\n",
      "    keywords_vocabulary:       NASA Global Change Master Directory (GCMD) Ear...\n",
      "    standard_name_vocabulary:  CF Standard Name Table (v25, 05 July 2013)\n",
      "    title:                     GLM L2 Lightning Detections: Events, Groups, a...\n",
      "    summary:                   The Lightning Detections: Events, Groups, and ...\n",
      "    license:                   Unclassified data.  Access is restricted to ap...\n",
      "    keywords:                  ATMOSPHERE > ATMOSPHERIC ELECTRICITY > LIGHTNI...\n",
      "    cdm_data_type:             Point\n",
      "    instrument_type:           GOES-R Series Geostationary Lightning Mapper\n",
      "    processing_level:          National Aeronautics and Space Administration ...\n",
      "    instrument_ID:             FM1\n",
      "    spatial_resolution:        8km at nadir\n",
      "    date_created:              2017-04-26T12:31:02.7Z\n",
      "    time_coverage_start:       2017-04-26T12:30:40.0Z\n",
      "    time_coverage_end:         2017-04-26T12:31:00.0Z\n",
      "    production_data_source:    n/a\n",
      "    production_environment:    OE\n",
      "    id:                        6bf2d87a-4026-4793-88c5-d37eabbbc63b\n"
     ]
    }
   ],
   "source": [
    "# \n",
    "some_flash = 16841 \n",
    "# some_flash = 16468\n",
    "# d = xr.open_dataset(filename)\n",
    "singleton_flash_id = 15928\n",
    "\n",
    "filename = '/data/LCFA-production/OR_GLM-L2-LCFA_G16_s20171161230400_e20171161231000_c20171161231027.nc'\n",
    "some_flash = 6359\n",
    "max_area_flash = 6472\n",
    "\n",
    "\n",
    "fov_dim = 'number_of_field_of_view_bounds'\n",
    "wave_dim = 'number_of_wavelength_bounds'\n",
    "time_dim = 'number_of_time_bounds'\n",
    "gr_dim = 'number_of_groups'\n",
    "ev_dim = 'number_of_events'\n",
    "fl_dim = 'number_of_flashes'\n",
    "\n",
    "# import pandas as pd\n",
    "# d.indexes['number_of_events'] = pd.Int64Index(data=d.event_id.data, name='number_of_events')\n",
    "# d.indexes['number_of_groups'] = pd.Int64Index(data=d.group_id.data, name='number_of_groups')\n",
    "# d.indexes['number_of_flashes'] = pd.Int64Index(data=d.flash_id.data, name='number_of_flashes')\n",
    "\n",
    "# empty = slice(0, 0)\n",
    "# print(d[{fov_dim:empty, time_dim:empty, wave_dim:empty}])\n",
    "\n",
    "# d = d[{'number_of_events':slice(0,0), 'number_of_groups':slice(0,0), 'number_of_flashes':slice(None)}]\n",
    "# print(d)\n",
    "\n",
    "egf = glm.dataset#.group_id[glm.dataset.group_id==20208]\n",
    "\n",
    "egf_grgb=egf.groupby('group_parent_flash_id')\n",
    "\n",
    "gr_idx = egf_grgb.groups[some_flash]\n",
    "this_flash = egf[{'number_of_groups':gr_idx}]\n",
    "print(this_flash)"
   ]
  },
  {
   "cell_type": "code",
   "execution_count": 6,
   "metadata": {},
   "outputs": [
    {
     "name": "stdout",
     "output_type": "stream",
     "text": [
      "<type 'netCDF4._netCDF4.Variable'>\n",
      "int16 event_time_offset(number_of_events)\n",
      "    long_name: GLM L2+ Lightning Detection: event’s time of occurrence\n",
      "    standard_name: time\n",
      "    scale_factor: 2.0\n",
      "    add_offset: 0.0\n",
      "    units: milliseconds since 2017-04-18 18:18:48.046\n",
      "    axis: T\n",
      "unlimited dimensions: number_of_events\n",
      "current shape = (390,)\n",
      "filling on, default _FillValue of -32767 used\n",
      "\n",
      "[datetime.datetime(2017, 4, 18, 18, 18, 48, 188000)\n",
      " datetime.datetime(2017, 4, 18, 18, 18, 48, 194000)\n",
      " datetime.datetime(2017, 4, 18, 18, 18, 48, 196000)\n",
      " datetime.datetime(2017, 4, 18, 18, 18, 48, 202000)\n",
      " datetime.datetime(2017, 4, 18, 18, 18, 48, 204000)]\n"
     ]
    }
   ],
   "source": [
    "# This is an example of a lower-level read, directly using NetCDF4\n",
    "# instead of xarray. xarray does some additional metadata processing\n",
    "# and provides groupby, etc., which is especially helpful when \n",
    "# querying clustered datasets with common keys linking data tables.\n",
    "\n",
    "# For '/data/LCFA-production/OR_GLM-L2-LCFA_G16_s20152242125152_e20152242125357_c20152242125498.nc'\n",
    "singleton_flash_id = 15928\n",
    "singleton_group_id = 13280582\n",
    "singleton_event_id = 13521629\n",
    "\n",
    "\n",
    "\n",
    "# demonstrate it's not a problem with xarray\n",
    "import netCDF4\n",
    "nc = netCDF4.Dataset(filename)\n",
    "this_ev = nc.variables['event_id'][:] == singleton_event_id\n",
    "this_gr = nc.variables['group_id'][:] == singleton_group_id\n",
    "this_fl = nc.variables['flash_id'][:] == singleton_flash_id\n",
    "\n",
    "ev_id = nc.variables['event_id'][this_ev]\n",
    "gr_id = nc.variables['group_id'][this_gr]\n",
    "fl_id = nc.variables['flash_id'][this_fl]\n",
    "\n",
    "ev_time_offset = nc.variables['event_time_offset']\n",
    "print(ev_time_offset)\n",
    "ev_times = netCDF4.num2date(ev_time_offset[:], units=ev_time_offset.units)\n",
    "print ev_times[0:5]\n",
    "\n",
    "ev_parent = nc.variables['event_parent_group_id'][this_ev]\n",
    "gr_parent = nc.variables['group_parent_flash_id'][this_gr]\n",
    "\n",
    "ev_lat = nc.variables['event_lat'][this_ev]\n",
    "gr_lat = nc.variables['group_lat'][this_gr]\n",
    "fl_lat = nc.variables['flash_lat'][this_fl]\n",
    "\n",
    "# print(ev_id)\n",
    "# print(ev_parent)\n",
    "# print(gr_id)\n",
    "# print(gr_parent)\n",
    "# print(fl_id)\n",
    "# print(ev_lat)\n",
    "# print(gr_lat)\n",
    "# print(fl_lat)\n",
    "\n",
    "# print(nc)\n",
    "\n",
    "# Dimensions:                                 (number_of_events: 1, number_of_field_of_view_bounds: 2, number_of_flashes: 1, number_of_groups: 1, number_of_time_bounds: 2, number_of_wavelength_bounds: 2)\n",
    "# Coordinates:\n",
    "#     event_id                                (number_of_events) int32 13521629\n",
    "#     event_time_offset                       (number_of_events) datetime64[ns] 2015-08-12T21:25:14.732000 ...\n",
    "#     event_lat                               (number_of_events) float64 -47.5\n",
    "#     event_lon                               (number_of_events) float64 -130.7\n",
    "#     event_parent_group_id                   (number_of_events) int32 13280582\n",
    "#     group_id                                (number_of_groups) int32 13280582\n",
    "#     group_time_offset                       (number_of_groups) datetime64[ns] 2015-08-12T21:25:14.732000 ...\n",
    "#     group_lat                               (number_of_groups) float32 3.81698\n",
    "#     group_lon                               (number_of_groups) float32 -126.438\n",
    "#     group_parent_flash_id                   (number_of_groups) int16 15928\n",
    "#     flash_id                                (number_of_flashes) int16 15928\n",
    "#     flash_time_offset_of_first_event        (number_of_flashes) datetime64[ns] 2015-08-12T21:25:14.732000 ...\n",
    "#     flash_time_offset_of_last_event         (number_of_flashes) datetime64[ns] 2015-08-12T21:25:14.732000 ...\n",
    "#     flash_lat                               (number_of_flashes) float32 3.81698\n",
    "#     flash_lon                               (number_of_flashes) float32 -126.438\n",
    "#     product_time                            datetime64[ns] 2015-08-12T21:25:15.260505 ...\n",
    "#     lightning_wavelength                    float64 777.4\n",
    "#     group_time_threshold                    float64 0.0\n",
    "#     flash_time_threshold                    float64 3.33\n",
    "#     lat_field_of_view                       float64 0.0\n",
    "#     lon_field_of_view                       float64 -75.0\n",
    "#   * number_of_events                        (number_of_events) int64 0\n",
    "#   * number_of_groups                        (number_of_groups) int64 0\n",
    "#   * number_of_flashes                       (number_of_flashes) int64 0\n",
    "#   * number_of_time_bounds                   (number_of_time_bounds) int64 0 1\n",
    "#   * number_of_wavelength_bounds             (number_of_wavelength_bounds) int64 0 ...\n",
    "#   * number_of_field_of_view_bounds          (number_of_field_of_view_bounds) int64 0 ...\n"
   ]
  },
  {
   "cell_type": "code",
   "execution_count": 8,
   "metadata": {
    "scrolled": true
   },
   "outputs": [
    {
     "name": "stdout",
     "output_type": "stream",
     "text": [
      "<class 'netCDF4._netCDF4.Variable'>\n",
      "int16 event_lon(number_of_events)\n",
      "    long_name: GLM L2+ Lightning Detection: event longitude coordinate\n",
      "    standard_name: longitude\n",
      "    _Unsigned: true\n",
      "    scale_factor: 0.00203128\n",
      "    add_offset: -156.06\n",
      "    units: degrees_east\n",
      "    axis: X\n",
      "unlimited dimensions: number_of_events\n",
      "current shape = (8148,)\n",
      "filling on, default _FillValue of -32767 used\n",
      "\n",
      "<class 'netCDF4._netCDF4.Variable'>\n",
      "int16 event_lat(number_of_events)\n",
      "    long_name: GLM L2+ Lightning Detection: event latitude coordinate\n",
      "    standard_name: latitude\n",
      "    _Unsigned: true\n",
      "    scale_factor: 0.00203128\n",
      "    add_offset: -66.56\n",
      "    units: degrees_north\n",
      "    axis: Y\n",
      "unlimited dimensions: number_of_events\n",
      "current shape = (8148,)\n",
      "filling on, default _FillValue of -32767 used\n",
      "\n"
     ]
    },
    {
     "data": {
      "image/png": "[encoded data removed]",
      "text/plain": [
       "<matplotlib.figure.Figure at 0x1247299e8>"
      ]
     },
     "metadata": {},
     "output_type": "display_data"
    },
    {
     "data": {
      "image/png": "[encoded data removed]",
      "text/plain": [
       "<matplotlib.figure.Figure at 0x1243ff2b0>"
      ]
     },
     "metadata": {},
     "output_type": "display_data"
    }
   ],
   "source": [
    "filename = '/data/LCFA-production/OR_GLM-L2-LCFA_G16_s20171161230400_e20171161231000_c20171161231027.nc'\n",
    "some_flash = 6359\n",
    "\n",
    "import netCDF4\n",
    "nc = netCDF4.Dataset(filename)\n",
    "\n",
    "# from PUG spec\n",
    "lon_fov = (-156.06, -22.94)\n",
    "dlon_fov = lon_fov[1]-lon_fov[0]\n",
    "lat_fov = (-66.56, 66.56)\n",
    "# zeroth element of the above are the add_offset values in the spec, and in the data file\n",
    "\n",
    "group_lons = nc.variables['group_lon'][:]\n",
    "group_lats = nc.variables['group_lat'][:]\n",
    "\n",
    "flash_lons = nc.variables['flash_lon'][:]\n",
    "flash_lats = nc.variables['flash_lat'][:]\n",
    "\n",
    "event_lons = nc.variables['event_lon']\n",
    "event_lats = nc.variables['event_lat']\n",
    "\n",
    "event_lons.set_auto_scale(False)\n",
    "event_lats.set_auto_scale(False)\n",
    "\n",
    "# event_lats_fixed2, event_lons_fixed2 = fix_event_locations(event_lats, event_lons)\n",
    "\n",
    "# unsigned = 2**16\n",
    "# event_lons = event_lons[:].astype('int32')\n",
    "# event_lons[event_lons < 0] += unsigned\n",
    "# event_lats = event_lats[:].astype('int32')\n",
    "# event_lats[event_lats < 0] += unsigned\n",
    "\n",
    "# Same thing as above\n",
    "event_lons_fixed = event_lons[:].view('<u2')\n",
    "event_lats_fixed = event_lats[:].view('<u2')\n",
    "\n",
    "# Rescale\n",
    "scale_factor = 0.00203128 # from file and spec; same for both\n",
    "event_lons_fixed = (event_lons_fixed)*scale_factor+lon_fov[0]\n",
    "event_lats_fixed = (event_lats_fixed)*scale_factor+lat_fov[0]\n",
    "\n",
    "plt.figure(figsize=(11,4))\n",
    "plt.subplot(131)\n",
    "hist_plot=plt.hist(event_lons_fixed, bins=100, label='events')\n",
    "plt.title('longitude')\n",
    "plt.legend()\n",
    "\n",
    "plt.subplot(132)\n",
    "hist_plot=plt.hist(group_lons, bins=100, label='groups')\n",
    "plt.title('longitude')\n",
    "plt.legend()\n",
    "\n",
    "plt.subplot(133)\n",
    "hist_plot=plt.hist(flash_lons, bins=100, label='flashes')\n",
    "plt.title('longitude')\n",
    "plt.legend()\n",
    "\n",
    "ax = plt.gca()\n",
    "ax.get_xaxis().get_major_formatter().set_useOffset(False)\n",
    "\n",
    "plt.figure(figsize=(11,4))\n",
    "plt.subplot(131)\n",
    "hist_plot=plt.hist(event_lats_fixed, bins=100, label='events')\n",
    "plt.title('latitude')\n",
    "plt.legend()\n",
    "\n",
    "plt.subplot(132)\n",
    "hist_plot=plt.hist(group_lats, bins=100, label='groups')\n",
    "plt.title('latitude')\n",
    "plt.legend()\n",
    "\n",
    "plt.subplot(133)\n",
    "hist_plot=plt.hist(flash_lats, bins=100, label='flashes')\n",
    "plt.title('latitude')\n",
    "plt.legend()\n",
    "\n",
    "ax = plt.gca()\n",
    "ax.get_xaxis().get_major_formatter().set_useOffset(False)\n",
    "\n",
    "print(event_lons)\n",
    "print(event_lats)\n",
    "\n"
   ]
  },
  {
   "cell_type": "code",
   "execution_count": 23,
   "metadata": {},
   "outputs": [
    {
     "data": {
      "text/plain": [
       "<type 'netCDF4._netCDF4.Variable'>\n",
       "int32 event_parent_group_id(number_of_events)\n",
       "    long_name: product-unique lightning group identifier for one or more events\n",
       "    _Unsigned: true\n",
       "    units: 1\n",
       "unlimited dimensions: number_of_events\n",
       "current shape = (8148,)\n",
       "filling on, default _FillValue of -2147483647 used"
      ]
     },
     "execution_count": 23,
     "metadata": {},
     "output_type": "execute_result"
    }
   ],
   "source": [
    "nc['event_parent_group_id']"
   ]
  },
  {
   "cell_type": "code",
   "execution_count": 31,
   "metadata": {},
   "outputs": [
    {
     "ename": "KeyError",
     "evalue": "791",
     "output_type": "error",
     "traceback": [
      "\u001b[0;31m---------------------------------------------------------------------------\u001b[0m",
      "\u001b[0;31mKeyError\u001b[0m                                  Traceback (most recent call last)",
      "\u001b[0;32m<ipython-input-31-2b9ae287acc1>\u001b[0m in \u001b[0;36m<module>\u001b[0;34m()\u001b[0m\n\u001b[1;32m     40\u001b[0m \u001b[0;31m# get_flash(d, some_flash)\u001b[0m\u001b[0;34m\u001b[0m\u001b[0;34m\u001b[0m\u001b[0m\n\u001b[1;32m     41\u001b[0m \u001b[0;34m\u001b[0m\u001b[0m\n\u001b[0;32m---> 42\u001b[0;31m \u001b[0;32mfor\u001b[0m \u001b[0mfl\u001b[0m \u001b[0;32min\u001b[0m \u001b[0mgen_flashes\u001b[0m\u001b[0;34m(\u001b[0m\u001b[0md\u001b[0m\u001b[0;34m)\u001b[0m\u001b[0;34m:\u001b[0m \u001b[0;32mprint\u001b[0m \u001b[0mfl\u001b[0m\u001b[0;34m\u001b[0m\u001b[0m\n\u001b[0m\u001b[1;32m     43\u001b[0m \u001b[0;34m\u001b[0m\u001b[0m\n\u001b[1;32m     44\u001b[0m \u001b[0;31m# can we subset everything along the number_of_events dimension?\u001b[0m\u001b[0;34m\u001b[0m\u001b[0;34m\u001b[0m\u001b[0m\n",
      "\u001b[0;32m<ipython-input-31-2b9ae287acc1>\u001b[0m in \u001b[0;36mgen_flashes\u001b[0;34m(dataset)\u001b[0m\n\u001b[1;32m     25\u001b[0m         \u001b[0;31m# to all groups\u001b[0m\u001b[0;34m\u001b[0m\u001b[0;34m\u001b[0m\u001b[0m\n\u001b[1;32m     26\u001b[0m         \u001b[0mev_iter\u001b[0m \u001b[0;34m=\u001b[0m \u001b[0;34m(\u001b[0m\u001b[0msplit_ev\u001b[0m\u001b[0;34m.\u001b[0m\u001b[0mgroups\u001b[0m\u001b[0;34m[\u001b[0m\u001b[0mgr_id\u001b[0m\u001b[0;34m]\u001b[0m \u001b[0;32mfor\u001b[0m \u001b[0mgr_id\u001b[0m \u001b[0;32min\u001b[0m \u001b[0mgr_idxs\u001b[0m\u001b[0;34m)\u001b[0m\u001b[0;34m\u001b[0m\u001b[0m\n\u001b[0;32m---> 27\u001b[0;31m         \u001b[0mev_idxs\u001b[0m \u001b[0;34m=\u001b[0m \u001b[0mlist\u001b[0m\u001b[0;34m(\u001b[0m\u001b[0mitertools\u001b[0m\u001b[0;34m.\u001b[0m\u001b[0mchain\u001b[0m\u001b[0;34m.\u001b[0m\u001b[0mfrom_iterable\u001b[0m\u001b[0;34m(\u001b[0m\u001b[0mev_iter\u001b[0m\u001b[0;34m)\u001b[0m\u001b[0;34m)\u001b[0m\u001b[0;34m\u001b[0m\u001b[0m\n\u001b[0m\u001b[1;32m     28\u001b[0m         \u001b[0mthis_flash\u001b[0m \u001b[0;34m=\u001b[0m \u001b[0md\u001b[0m\u001b[0;34m[\u001b[0m\u001b[0;34m{\u001b[0m\u001b[0;34m'number_of_events'\u001b[0m\u001b[0;34m:\u001b[0m\u001b[0mev_idxs\u001b[0m\u001b[0;34m,\u001b[0m \u001b[0;34m'number_of_groups'\u001b[0m\u001b[0;34m:\u001b[0m\u001b[0mgr_idxs\u001b[0m\u001b[0;34m,\u001b[0m \u001b[0;34m'number_of_flashes'\u001b[0m\u001b[0;34m:\u001b[0m\u001b[0mfl_idx\u001b[0m\u001b[0;34m}\u001b[0m\u001b[0;34m]\u001b[0m\u001b[0;34m\u001b[0m\u001b[0m\n\u001b[1;32m     29\u001b[0m \u001b[0;34m\u001b[0m\u001b[0m\n",
      "\u001b[0;32m<ipython-input-31-2b9ae287acc1>\u001b[0m in \u001b[0;36m<genexpr>\u001b[0;34m((gr_id,))\u001b[0m\n\u001b[1;32m     24\u001b[0m         \u001b[0;31m# need to pull out a combined set of event indices corresponding\u001b[0m\u001b[0;34m\u001b[0m\u001b[0;34m\u001b[0m\u001b[0m\n\u001b[1;32m     25\u001b[0m         \u001b[0;31m# to all groups\u001b[0m\u001b[0;34m\u001b[0m\u001b[0;34m\u001b[0m\u001b[0m\n\u001b[0;32m---> 26\u001b[0;31m         \u001b[0mev_iter\u001b[0m \u001b[0;34m=\u001b[0m \u001b[0;34m(\u001b[0m\u001b[0msplit_ev\u001b[0m\u001b[0;34m.\u001b[0m\u001b[0mgroups\u001b[0m\u001b[0;34m[\u001b[0m\u001b[0mgr_id\u001b[0m\u001b[0;34m]\u001b[0m \u001b[0;32mfor\u001b[0m \u001b[0mgr_id\u001b[0m \u001b[0;32min\u001b[0m \u001b[0mgr_idxs\u001b[0m\u001b[0;34m)\u001b[0m\u001b[0;34m\u001b[0m\u001b[0m\n\u001b[0m\u001b[1;32m     27\u001b[0m         \u001b[0mev_idxs\u001b[0m \u001b[0;34m=\u001b[0m \u001b[0mlist\u001b[0m\u001b[0;34m(\u001b[0m\u001b[0mitertools\u001b[0m\u001b[0;34m.\u001b[0m\u001b[0mchain\u001b[0m\u001b[0;34m.\u001b[0m\u001b[0mfrom_iterable\u001b[0m\u001b[0;34m(\u001b[0m\u001b[0mev_iter\u001b[0m\u001b[0;34m)\u001b[0m\u001b[0;34m)\u001b[0m\u001b[0;34m\u001b[0m\u001b[0m\n\u001b[1;32m     28\u001b[0m         \u001b[0mthis_flash\u001b[0m \u001b[0;34m=\u001b[0m \u001b[0md\u001b[0m\u001b[0;34m[\u001b[0m\u001b[0;34m{\u001b[0m\u001b[0;34m'number_of_events'\u001b[0m\u001b[0;34m:\u001b[0m\u001b[0mev_idxs\u001b[0m\u001b[0;34m,\u001b[0m \u001b[0;34m'number_of_groups'\u001b[0m\u001b[0;34m:\u001b[0m\u001b[0mgr_idxs\u001b[0m\u001b[0;34m,\u001b[0m \u001b[0;34m'number_of_flashes'\u001b[0m\u001b[0;34m:\u001b[0m\u001b[0mfl_idx\u001b[0m\u001b[0;34m}\u001b[0m\u001b[0;34m]\u001b[0m\u001b[0;34m\u001b[0m\u001b[0m\n",
      "\u001b[0;31mKeyError\u001b[0m: 791"
     ]
    }
   ],
   "source": [
    "# From earlier development - not needed.\n",
    "\n",
    "def member_mask_for_cluster(dataset, cluster_id_column_name, cluster_ids):\n",
    "    \"\"\" Given cluster_ids which correspond to values in \n",
    "        dataset.cluster_id_column_name, .\n",
    "        \"\"\"\n",
    "    cluster_id_col = getattr(dataset, cluster_id_column_name)\n",
    "    \n",
    "    mask = np.zeros(cluster_id_col.shape[0], dtype=bool)\n",
    "    for cluster_id in cluster_ids:\n",
    "        mask |= (cluster_id == cluster_id_col)\n",
    "    return mask\n",
    "\n",
    "def gen_flashes(dataset):\n",
    "    # need to set index on flash_id, group_id, and event_id coordinates.\n",
    "    split_gr = d.groupby('group_parent_flash_id')\n",
    "    # split_gr gives us a mapping from a flash index to the group indices\n",
    "    # corresponding to that flash. Index refers to columns marked with \n",
    "    # an \"*\" in print(dataset)\n",
    "    \n",
    "    split_ev = d.groupby('event_parent_group_id')\n",
    "    \n",
    "    # careful: xarray uses groups to refer to the result of the groupby,\n",
    "    # and does not refer here to GLM groups.\n",
    "    for fl_idx, gr_idxs in split_gr.groups.items():\n",
    "        # now we can use the flash index and group indices directly\n",
    "        # need to pull out a combined set of event indices corresponding\n",
    "        # to all groups\n",
    "        ev_iter = (split_ev.groups[gr_id] for gr_id in gr_idxs)\n",
    "        ev_idxs = list(itertools.chain.from_iterable(ev_iter))\n",
    "        this_flash = d[{'number_of_events':ev_idxs, 'number_of_groups':gr_idxs, 'number_of_flashes':fl_idx}]\n",
    "\n",
    "        yield this_flash\n",
    "\n",
    "def get_flash(self, flash_id):\n",
    "    good_gr = (self.group_parent_flash_id == flash_id)\n",
    "    group_ids = self.group_id[good_gr]\n",
    "    group_areas = self.group_area[good_gr]\n",
    "    for group_area, group_id in zip(group_areas, group_ids):\n",
    "        good_ev = (self.event_parent_group_id == group_id)\n",
    "        pixel_energies = d.event_energy[good_ev]\n",
    "        print(pixel_energies, type(group_area))\n",
    "# get_flash(d, some_flash)\n",
    "\n",
    "for fl in gen_flashes(d): print fl\n",
    "\n",
    "# can we subset everything along the number_of_events dimension?"
   ]
  }
 ],
 "metadata": {
  "kernelspec": {
   "display_name": "Python [nctest]",
   "language": "python",
   "name": "Python [nctest]"
  },
  "language_info": {
   "codemirror_mode": {
    "name": "ipython",
    "version": 3
   },
   "file_extension": ".py",
   "mimetype": "text/x-python",
   "name": "python",
   "nbconvert_exporter": "python",
   "pygments_lexer": "ipython3",
   "version": "3.5.3"
  }
 },
 "nbformat": 4,
 "nbformat_minor": 1
}
