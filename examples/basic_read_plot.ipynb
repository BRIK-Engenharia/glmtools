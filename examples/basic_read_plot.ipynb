{
 "cells": [
  {
   "cell_type": "markdown",
   "metadata": {},
   "source": [
    "Each group is (1 x group_cols, N_events x event_cols)\n",
    "Each flash is (1 x flash_cols, N_groups x group_cols)\n",
    "\n",
    "So loop over each flash\n",
    "    slice out all matching groups \n",
    "        loop over each group\n",
    "            slice out all matching events\n",
    "                yield a dataset reduced to just these parts that correspond to one flash\n",
    "\n"
   ]
  },
  {
   "cell_type": "code",
   "execution_count": 1,
   "metadata": {
    "collapsed": false
   },
   "outputs": [
    {
     "name": "stderr",
     "output_type": "stream",
     "text": [
      "/Users/ebruning/anaconda/lib/python2.7/site-packages/matplotlib/font_manager.py:273: UserWarning: Matplotlib is building the font cache using fc-list. This may take a moment.\n",
      "  warnings.warn('Matplotlib is building the font cache using fc-list. This may take a moment.')\n"
     ]
    }
   ],
   "source": [
    "%matplotlib inline\n",
    "import numpy as np\n",
    "import matplotlib.pyplot as plt\n",
    "\n",
    "from glmtools.io.glm import GLMDataset"
   ]
  },
  {
   "cell_type": "code",
   "execution_count": 2,
   "metadata": {
    "collapsed": false
   },
   "outputs": [],
   "source": [
    "filename = '/data/LCFA-production/OR_GLM-L2-LCFA_G16_s20152242125152_e20152242125357_c20152242125498.nc'"
   ]
  },
  {
   "cell_type": "code",
   "execution_count": 3,
   "metadata": {
    "collapsed": false
   },
   "outputs": [
    {
     "name": "stdout",
     "output_type": "stream",
     "text": [
      "<xarray.Dataset>\n",
      "Dimensions:                                 (number_of_events: 5018, number_of_field_of_view_bounds: 2, number_of_flashes: 2899, number_of_groups: 4899, number_of_time_bounds: 2, number_of_wavelength_bounds: 2)\n",
      "Coordinates:\n",
      "    event_id                                (number_of_events) int32 13521629 ...\n",
      "    event_time_offset                       (number_of_events) datetime64[ns] 2015-08-12T21:25:14.732000 ...\n",
      "    event_lat                               (number_of_events) float64 -47.5 ...\n",
      "    event_lon                               (number_of_events) float64 -130.7 ...\n",
      "    event_parent_group_id                   (number_of_events) int32 13280582 ...\n",
      "    group_id                                (number_of_groups) int32 13280582 ...\n",
      "    group_time_offset                       (number_of_groups) datetime64[ns] 2015-08-12T21:25:14.732000 ...\n",
      "    group_lat                               (number_of_groups) float32 3.81698 ...\n",
      "    group_lon                               (number_of_groups) float32 -126.438 ...\n",
      "    group_parent_flash_id                   (number_of_groups) int16 15928 ...\n",
      "    flash_id                                (number_of_flashes) int16 15928 ...\n",
      "    flash_time_offset_of_first_event        (number_of_flashes) datetime64[ns] 2015-08-12T21:25:14.732000 ...\n",
      "    flash_time_offset_of_last_event         (number_of_flashes) datetime64[ns] 2015-08-12T21:25:14.732000 ...\n",
      "    flash_lat                               (number_of_flashes) float32 3.81698 ...\n",
      "    flash_lon                               (number_of_flashes) float32 -126.438 ...\n",
      "    product_time                            datetime64[ns] 2015-08-12T21:25:15.260505 ...\n",
      "    lightning_wavelength                    float32 777.4\n",
      "    group_time_threshold                    float32 0.0\n",
      "    flash_time_threshold                    float32 3.33\n",
      "    lat_field_of_view                       float32 0.0\n",
      "    lon_field_of_view                       float32 -75.0\n",
      "  * number_of_events                        (number_of_events) int64 0 1 2 3 ...\n",
      "  * number_of_groups                        (number_of_groups) int64 0 1 2 3 ...\n",
      "  * number_of_flashes                       (number_of_flashes) int64 0 1 2 ...\n",
      "  * number_of_time_bounds                   (number_of_time_bounds) int64 0 1\n",
      "  * number_of_wavelength_bounds             (number_of_wavelength_bounds) int64 0 ...\n",
      "  * number_of_field_of_view_bounds          (number_of_field_of_view_bounds) int64 0 ...\n",
      "Data variables:\n",
      "    event_energy                            (number_of_events) float64 3e-15 ...\n",
      "    group_area                              (number_of_groups) float64 171.2 ...\n",
      "    group_energy                            (number_of_groups) float64 3e-15 ...\n",
      "    group_quality_flag                      (number_of_groups) float64 0.0 ...\n",
      "    flash_area                              (number_of_flashes) float64 171.2 ...\n",
      "    flash_energy                            (number_of_flashes) float64 3e-15 ...\n",
      "    flash_quality_flag                      (number_of_flashes) float64 0.0 ...\n",
      "    product_time_bounds                     (number_of_time_bounds) float64 4.927e+08 ...\n",
      "    lightning_wavelength_bounds             (number_of_wavelength_bounds) float32 776.87 ...\n",
      "    lat_field_of_view_bounds                (number_of_field_of_view_bounds) float32 66.56 ...\n",
      "    goes_lat_lon_projection                 int32 -2147483647\n",
      "    event_count                             float64 5.083e+03\n",
      "    group_count                             float64 4.954e+03\n",
      "    flash_count                             float64 2.899e+03\n",
      "    percent_navigated_L1b_events            float64 1.0\n",
      "    yaw_flip_flag                           float64 nan\n",
      "    nominal_satellite_subpoint_lat          float64 0.0\n",
      "    nominal_satellite_height                float64 3.579e+04\n",
      "    nominal_satellite_subpoint_lon          float64 -75.0\n",
      "    lon_field_of_view_bounds                (number_of_field_of_view_bounds) float32 -141.56 ...\n",
      "    percent_uncorrectable_L0_errors         float64 0.0\n",
      "    algorithm_dynamic_input_data_container  int32 -2147483647\n",
      "    processing_parm_version_container       int32 -2147483647\n",
      "    algorithm_product_version_container     int32 -2147483647\n",
      "Attributes:\n",
      "    production_site: WCDAS\n",
      "    featureType: point\n",
      "    orbital_slot: GOES-East\n",
      "    platform_ID: G16\n",
      "    dataset_name: OR_GLM-L2-LCFA_G16_s20152242125152_e20152242125357_c20152242125498.nc\n",
      "    naming_authority: gov.nesdis.noaa\n",
      "    institution: DOC/NOAA/NESDIS> U.S. Department of Commerce, National Oceanic and Atmospheric Administration, National Environmental Satellite, Data, and Information Services\n",
      "    project: GOES\n",
      "    iso_series_metadata_id: f5816f53-fd6d-11e3-a3ac-0800200c9a66\n",
      "    Metadata_Conventions: Unidata Dataset Discovery v1.0\n",
      "    keywords_vocabulary: NASA Global Change Master Directory (GCMD) Earth Science Keywords, Version 7.0.0.0.0\n",
      "    standard_name_vocabulary: CF Standard Name Table (v25, 05 July 2013)\n",
      "    title: GLM L2 Lightning Detections: Events, Groups, and Flashes\n",
      "    summary: The Lightning Detections: Events, Groups, and Flashes product consists of a hierarchy of earth-located lightning radiant energy measures including events, groups, and flashes. Lightning events are detected by the instrument. Lightning groups are a collection of one or more lightning events that satisfy temporal and spatial coincidence thresholds. Similarly, lightning flashes are a collection of one or more lightning groups that satisfy temporal and spatial coincidence thresholds. The product ...\n",
      "    license: Unclassified data.  Access is restricted to approved users only.\n",
      "    keywords: ATMOSPHERE > ATMOSPHERIC ELECTRICITY > LIGHTNING, ATMOSPHERE > ATMOSPHERIC PHENOMENA > LIGHTNING\n",
      "    cdm_data_type: Point\n",
      "    instrument_type: GOES-R Series Geostationary Lightning Mapper\n",
      "    processing_level: National Aeronautics and Space Administration (NASA) L2\n",
      "    instrument_ID: FM1\n",
      "    spatial_resolution: 8km at nadir\n",
      "    date_created: 2015-08-12T21:25:49.8Z\n",
      "    time_coverage_start: 2015-08-12T21:25:15.2Z\n",
      "    time_coverage_end: 2015-08-12T21:25:35.7Z\n",
      "    production_data_source: Realtime\n",
      "    production_environment: OE\n",
      "    id: 6056f898-6223-455a-97f9-497d0b138fb8\n"
     ]
    }
   ],
   "source": [
    "glm = GLMDataset(filename)\n",
    "print glm.dataset"
   ]
  },
  {
   "cell_type": "code",
   "execution_count": 4,
   "metadata": {
    "collapsed": true
   },
   "outputs": [],
   "source": [
    "def plot_flash(glm, some_flash):\n",
    "    flash_data = glm.get_flash(some_flash)\n",
    "    print(flash_data.number_of_events)\n",
    "\n",
    "    ev_parent = flash_data.event_parent_group_id  \n",
    "    gr_parent = flash_data.group_parent_flash_id\n",
    "\n",
    "\n",
    "    gr_id = flash_data.group_id\n",
    "    fl_id = flash_data.flash_id\n",
    "\n",
    "    ev_lats = flash_data.event_lat.data\n",
    "    ev_lons = flash_data.event_lon.data\n",
    "    ev_time = flash_data.event_time_offset.data\n",
    "    ev_rad = flash_data.event_energy.data\n",
    "    gr_lat = flash_data.group_lat.data\n",
    "    gr_lon = flash_data.group_lon.data\n",
    "    gr_rad = flash_data.group_energy.data\n",
    "    fl_lat = flash_data.flash_lat.data\n",
    "    fl_lon = flash_data.flash_lon.data\n",
    "    fl_rad = flash_data.flash_energy.data\n",
    "\n",
    "#         print(flash_data)\n",
    "#         print(gr_id.data)\n",
    "#         print(fl_id.data)\n",
    "#         print(ev_parent.data)\n",
    "#         print(gr_parent.data)\n",
    "#         print(ev_lats)\n",
    "#         print(ev_lons)\n",
    "#         print(ev_time)\n",
    "#         print(gr_lat)\n",
    "#         print(gr_lon)\n",
    "#         print(gr_rad)\n",
    "#         print(fl_lat)\n",
    "#         print(fl_lon)\n",
    "#         print(fl_rad)\n",
    "\n",
    "    import matplotlib.pyplot as plt\n",
    "    fig = plt.figure()\n",
    "    ax_ev = fig.add_subplot(111)\n",
    "    ax_ev.scatter(ev_lons, ev_lats, c=ev_rad, marker='s', cmap='gray', vmin=glm.energy_min, vmax=glm.energy_max)\n",
    "    ax_ev.scatter(gr_lon, gr_lat, c=gr_rad, marker='o', vmin=glm.energy_min, vmax=glm.energy_max)\n",
    "    ax_ev.scatter(fl_lon, fl_lat, c='r', marker='x') #, vmin=glm.energy_min, vmax=glm.energy_max)\n",
    "\n",
    "\n",
    "    # prevent scientific notation\n",
    "    ax_ev.get_xaxis().get_major_formatter().set_useOffset(False)\n",
    "    ax_ev.get_yaxis().get_major_formatter().set_useOffset(False)\n",
    "\n",
    "#         lon_min, lon_max = ev_lons.min()-.01, ev_lons.max()+.01, \n",
    "#         lat_min, lat_max = ev_lats.min()-.01, ev_lats.max()+.01\n",
    "    lon_min, lon_max = gr_lon.min()-.01, gr_lon.max()+.01, \n",
    "    lat_min, lat_max = gr_lat.min()-.01, gr_lat.max()+.01\n",
    "#         (lon_min, lon_max), (lat_min, lat_max) = glm.fov_bounds\n",
    "#         ax_ev.axis((lon_min, lon_max, lat_min, lat_max))\n",
    "#         return fig"
   ]
  },
  {
   "cell_type": "code",
   "execution_count": 5,
   "metadata": {
    "collapsed": false,
    "scrolled": false
   },
   "outputs": [
    {
     "name": "stdout",
     "output_type": "stream",
     "text": [
      "<xarray.DataArray 'number_of_events' (number_of_events: 4)>\n",
      "array([2789, 2790, 2791, 2792])\n",
      "Coordinates:\n",
      "    event_id               (number_of_events) int32 13524427 13524431 ...\n",
      "    event_time_offset      (number_of_events) datetime64[ns] 2015-08-12T21:25:38.548000 ...\n",
      "    event_lat              (number_of_events) float64 -46.63 -46.63 -46.63 ...\n",
      "    event_lon              (number_of_events) float64 -136.1 -136.1 -136.1 ...\n",
      "    event_parent_group_id  (number_of_events) int32 13283313 13283317 ...\n",
      "    product_time           datetime64[ns] 2015-08-12T21:25:15.260505\n",
      "    lightning_wavelength   float64 777.4\n",
      "    group_time_threshold   float64 0.0\n",
      "    flash_time_threshold   float64 3.33\n",
      "    lat_field_of_view      float64 0.0\n",
      "    lon_field_of_view      float64 -75.0\n",
      "  * number_of_events       (number_of_events) int64 2789 2790 2791 2792\n"
     ]
    },
    {
     "data": {
      "image/png": "[encoded data removed]",
      "text/plain": [
       "<matplotlib.figure.Figure at 0x11f332d10>"
      ]
     },
     "metadata": {},
     "output_type": "display_data"
    }
   ],
   "source": [
    "import ipywidgets as widgets\n",
    "print(widgets.Widget.widget_types.values())\n",
    "fl_id_vals = list(glm.dataset.flash_id.data)\n",
    "fl_id_vals.sort()\n",
    "flash_slider =  widgets.SelectionSlider(\n",
    "    description='Flash',\n",
    "    options=fl_id_vals,\n",
    ")\n",
    "\n",
    "from functools import partial\n",
    "glm_plotter = partial(plot_flash, glm)\n",
    "widgets.interact(glm_plotter, some_flash=flash_slider)\n"
   ]
  },
  {
   "cell_type": "code",
   "execution_count": null,
   "metadata": {
    "collapsed": true
   },
   "outputs": [],
   "source": [
    "# here is an example of a low-level read with xarray, and dumping data in a pretty way with pandas.\n",
    "# experimental and not well tested.\n",
    "some_flash = 16841 \n",
    "# some_flash = 16468\n",
    "# d = xr.open_dataset(filename)\n",
    "singleton_flash_id = 15928\n",
    "\n",
    "\n",
    "fov_dim = 'number_of_field_of_view_bounds'\n",
    "wave_dim = 'number_of_wavelength_bounds'\n",
    "time_dim = 'number_of_time_bounds'\n",
    "gr_dim = 'number_of_groups'\n",
    "ev_dim = 'number_of_events'\n",
    "fl_dim = 'number_of_flashes'\n",
    "\n",
    "# import pandas as pd\n",
    "# d.indexes['number_of_events'] = pd.Int64Index(data=d.event_id.data, name='number_of_events')\n",
    "# d.indexes['number_of_groups'] = pd.Int64Index(data=d.group_id.data, name='number_of_groups')\n",
    "# d.indexes['number_of_flashes'] = pd.Int64Index(data=d.flash_id.data, name='number_of_flashes')\n",
    "\n",
    "# empty = slice(0, 0)\n",
    "# print(d[{fov_dim:empty, time_dim:empty, wave_dim:empty}])\n",
    "\n",
    "# d = d[{'number_of_events':slice(0,0), 'number_of_groups':slice(0,0), 'number_of_flashes':slice(None)}]\n",
    "# print(d)"
   ]
  },
  {
   "cell_type": "code",
   "execution_count": 5,
   "metadata": {
    "collapsed": false
   },
   "outputs": [
    {
     "name": "stdout",
     "output_type": "stream",
     "text": [
      "<type 'netCDF4._netCDF4.Variable'>\n",
      "int16 event_time_offset(number_of_events)\n",
      "    long_name: GLM L2+ Lightning Detection: event’s time of occurrence\n",
      "    standard_name: time\n",
      "    scale_factor: 2.0\n",
      "    add_offset: 0.0\n",
      "    units: milliseconds since 2015-08-12 21:25:15.260\n",
      "    axis: T\n",
      "unlimited dimensions: number_of_events\n",
      "current shape = (5018,)\n",
      "filling on, default _FillValue of -32767 used\n",
      "\n",
      "[datetime.datetime(2015, 8, 12, 21, 25, 14, 472000)\n",
      " datetime.datetime(2015, 8, 12, 21, 25, 14, 496000)\n",
      " datetime.datetime(2015, 8, 12, 21, 25, 14, 536000)\n",
      " datetime.datetime(2015, 8, 12, 21, 25, 14, 572000)\n",
      " datetime.datetime(2015, 8, 12, 21, 25, 14, 576000)]\n"
     ]
    }
   ],
   "source": [
    "# This is an example of a lower-level read, directly using NetCDF4\n",
    "# instead of xarray. xarray does some additional metadata processing\n",
    "# and provides groupby, etc., which is especially helpful when \n",
    "# querying clustered datasets with common keys linking data tables.\n",
    "\n",
    "singleton_flash_id = 15928\n",
    "singleton_group_id = 13280582\n",
    "singleton_event_id = 13521629\n",
    "\n",
    "# demonstrate it's not a problem with xarray\n",
    "import netCDF4\n",
    "nc = netCDF4.Dataset(filename)\n",
    "this_ev = nc.variables['event_id'][:] == singleton_event_id\n",
    "this_gr = nc.variables['group_id'][:] == singleton_group_id\n",
    "this_fl = nc.variables['flash_id'][:] == singleton_flash_id\n",
    "\n",
    "ev_id = nc.variables['event_id'][this_ev]\n",
    "gr_id = nc.variables['group_id'][this_gr]\n",
    "fl_id = nc.variables['flash_id'][this_fl]\n",
    "\n",
    "ev_time_offset = nc.variables['event_time_offset']\n",
    "print(ev_time_offset)\n",
    "ev_times = netCDF4.num2date(ev_time_offset[:], units=ev_time_offset.units)\n",
    "print ev_times[0:5]\n",
    "\n",
    "ev_parent = nc.variables['event_parent_group_id'][this_ev]\n",
    "gr_parent = nc.variables['group_parent_flash_id'][this_gr]\n",
    "\n",
    "ev_lat = nc.variables['event_lat'][this_ev]\n",
    "gr_lat = nc.variables['group_lat'][this_gr]\n",
    "fl_lat = nc.variables['flash_lat'][this_fl]\n",
    "\n",
    "# print(ev_id)\n",
    "# print(ev_parent)\n",
    "# print(gr_id)\n",
    "# print(gr_parent)\n",
    "# print(fl_id)\n",
    "# print(ev_lat)\n",
    "# print(gr_lat)\n",
    "# print(fl_lat)\n",
    "\n",
    "# print(nc)\n",
    "\n",
    "# Dimensions:                                 (number_of_events: 1, number_of_field_of_view_bounds: 2, number_of_flashes: 1, number_of_groups: 1, number_of_time_bounds: 2, number_of_wavelength_bounds: 2)\n",
    "# Coordinates:\n",
    "#     event_id                                (number_of_events) int32 13521629\n",
    "#     event_time_offset                       (number_of_events) datetime64[ns] 2015-08-12T21:25:14.732000 ...\n",
    "#     event_lat                               (number_of_events) float64 -47.5\n",
    "#     event_lon                               (number_of_events) float64 -130.7\n",
    "#     event_parent_group_id                   (number_of_events) int32 13280582\n",
    "#     group_id                                (number_of_groups) int32 13280582\n",
    "#     group_time_offset                       (number_of_groups) datetime64[ns] 2015-08-12T21:25:14.732000 ...\n",
    "#     group_lat                               (number_of_groups) float32 3.81698\n",
    "#     group_lon                               (number_of_groups) float32 -126.438\n",
    "#     group_parent_flash_id                   (number_of_groups) int16 15928\n",
    "#     flash_id                                (number_of_flashes) int16 15928\n",
    "#     flash_time_offset_of_first_event        (number_of_flashes) datetime64[ns] 2015-08-12T21:25:14.732000 ...\n",
    "#     flash_time_offset_of_last_event         (number_of_flashes) datetime64[ns] 2015-08-12T21:25:14.732000 ...\n",
    "#     flash_lat                               (number_of_flashes) float32 3.81698\n",
    "#     flash_lon                               (number_of_flashes) float32 -126.438\n",
    "#     product_time                            datetime64[ns] 2015-08-12T21:25:15.260505 ...\n",
    "#     lightning_wavelength                    float64 777.4\n",
    "#     group_time_threshold                    float64 0.0\n",
    "#     flash_time_threshold                    float64 3.33\n",
    "#     lat_field_of_view                       float64 0.0\n",
    "#     lon_field_of_view                       float64 -75.0\n",
    "#   * number_of_events                        (number_of_events) int64 0\n",
    "#   * number_of_groups                        (number_of_groups) int64 0\n",
    "#   * number_of_flashes                       (number_of_flashes) int64 0\n",
    "#   * number_of_time_bounds                   (number_of_time_bounds) int64 0 1\n",
    "#   * number_of_wavelength_bounds             (number_of_wavelength_bounds) int64 0 ...\n",
    "#   * number_of_field_of_view_bounds          (number_of_field_of_view_bounds) int64 0 ...\n"
   ]
  },
  {
   "cell_type": "code",
   "execution_count": 31,
   "metadata": {
    "collapsed": false
   },
   "outputs": [
    {
     "ename": "KeyError",
     "evalue": "791",
     "output_type": "error",
     "traceback": [
      "\u001b[0;31m---------------------------------------------------------------------------\u001b[0m",
      "\u001b[0;31mKeyError\u001b[0m                                  Traceback (most recent call last)",
      "\u001b[0;32m<ipython-input-31-2b9ae287acc1>\u001b[0m in \u001b[0;36m<module>\u001b[0;34m()\u001b[0m\n\u001b[1;32m     40\u001b[0m \u001b[0;31m# get_flash(d, some_flash)\u001b[0m\u001b[0;34m\u001b[0m\u001b[0;34m\u001b[0m\u001b[0m\n\u001b[1;32m     41\u001b[0m \u001b[0;34m\u001b[0m\u001b[0m\n\u001b[0;32m---> 42\u001b[0;31m \u001b[0;32mfor\u001b[0m \u001b[0mfl\u001b[0m \u001b[0;32min\u001b[0m \u001b[0mgen_flashes\u001b[0m\u001b[0;34m(\u001b[0m\u001b[0md\u001b[0m\u001b[0;34m)\u001b[0m\u001b[0;34m:\u001b[0m \u001b[0;32mprint\u001b[0m \u001b[0mfl\u001b[0m\u001b[0;34m\u001b[0m\u001b[0m\n\u001b[0m\u001b[1;32m     43\u001b[0m \u001b[0;34m\u001b[0m\u001b[0m\n\u001b[1;32m     44\u001b[0m \u001b[0;31m# can we subset everything along the number_of_events dimension?\u001b[0m\u001b[0;34m\u001b[0m\u001b[0;34m\u001b[0m\u001b[0m\n",
      "\u001b[0;32m<ipython-input-31-2b9ae287acc1>\u001b[0m in \u001b[0;36mgen_flashes\u001b[0;34m(dataset)\u001b[0m\n\u001b[1;32m     25\u001b[0m         \u001b[0;31m# to all groups\u001b[0m\u001b[0;34m\u001b[0m\u001b[0;34m\u001b[0m\u001b[0m\n\u001b[1;32m     26\u001b[0m         \u001b[0mev_iter\u001b[0m \u001b[0;34m=\u001b[0m \u001b[0;34m(\u001b[0m\u001b[0msplit_ev\u001b[0m\u001b[0;34m.\u001b[0m\u001b[0mgroups\u001b[0m\u001b[0;34m[\u001b[0m\u001b[0mgr_id\u001b[0m\u001b[0;34m]\u001b[0m \u001b[0;32mfor\u001b[0m \u001b[0mgr_id\u001b[0m \u001b[0;32min\u001b[0m \u001b[0mgr_idxs\u001b[0m\u001b[0;34m)\u001b[0m\u001b[0;34m\u001b[0m\u001b[0m\n\u001b[0;32m---> 27\u001b[0;31m         \u001b[0mev_idxs\u001b[0m \u001b[0;34m=\u001b[0m \u001b[0mlist\u001b[0m\u001b[0;34m(\u001b[0m\u001b[0mitertools\u001b[0m\u001b[0;34m.\u001b[0m\u001b[0mchain\u001b[0m\u001b[0;34m.\u001b[0m\u001b[0mfrom_iterable\u001b[0m\u001b[0;34m(\u001b[0m\u001b[0mev_iter\u001b[0m\u001b[0;34m)\u001b[0m\u001b[0;34m)\u001b[0m\u001b[0;34m\u001b[0m\u001b[0m\n\u001b[0m\u001b[1;32m     28\u001b[0m         \u001b[0mthis_flash\u001b[0m \u001b[0;34m=\u001b[0m \u001b[0md\u001b[0m\u001b[0;34m[\u001b[0m\u001b[0;34m{\u001b[0m\u001b[0;34m'number_of_events'\u001b[0m\u001b[0;34m:\u001b[0m\u001b[0mev_idxs\u001b[0m\u001b[0;34m,\u001b[0m \u001b[0;34m'number_of_groups'\u001b[0m\u001b[0;34m:\u001b[0m\u001b[0mgr_idxs\u001b[0m\u001b[0;34m,\u001b[0m \u001b[0;34m'number_of_flashes'\u001b[0m\u001b[0;34m:\u001b[0m\u001b[0mfl_idx\u001b[0m\u001b[0;34m}\u001b[0m\u001b[0;34m]\u001b[0m\u001b[0;34m\u001b[0m\u001b[0m\n\u001b[1;32m     29\u001b[0m \u001b[0;34m\u001b[0m\u001b[0m\n",
      "\u001b[0;32m<ipython-input-31-2b9ae287acc1>\u001b[0m in \u001b[0;36m<genexpr>\u001b[0;34m((gr_id,))\u001b[0m\n\u001b[1;32m     24\u001b[0m         \u001b[0;31m# need to pull out a combined set of event indices corresponding\u001b[0m\u001b[0;34m\u001b[0m\u001b[0;34m\u001b[0m\u001b[0m\n\u001b[1;32m     25\u001b[0m         \u001b[0;31m# to all groups\u001b[0m\u001b[0;34m\u001b[0m\u001b[0;34m\u001b[0m\u001b[0m\n\u001b[0;32m---> 26\u001b[0;31m         \u001b[0mev_iter\u001b[0m \u001b[0;34m=\u001b[0m \u001b[0;34m(\u001b[0m\u001b[0msplit_ev\u001b[0m\u001b[0;34m.\u001b[0m\u001b[0mgroups\u001b[0m\u001b[0;34m[\u001b[0m\u001b[0mgr_id\u001b[0m\u001b[0;34m]\u001b[0m \u001b[0;32mfor\u001b[0m \u001b[0mgr_id\u001b[0m \u001b[0;32min\u001b[0m \u001b[0mgr_idxs\u001b[0m\u001b[0;34m)\u001b[0m\u001b[0;34m\u001b[0m\u001b[0m\n\u001b[0m\u001b[1;32m     27\u001b[0m         \u001b[0mev_idxs\u001b[0m \u001b[0;34m=\u001b[0m \u001b[0mlist\u001b[0m\u001b[0;34m(\u001b[0m\u001b[0mitertools\u001b[0m\u001b[0;34m.\u001b[0m\u001b[0mchain\u001b[0m\u001b[0;34m.\u001b[0m\u001b[0mfrom_iterable\u001b[0m\u001b[0;34m(\u001b[0m\u001b[0mev_iter\u001b[0m\u001b[0;34m)\u001b[0m\u001b[0;34m)\u001b[0m\u001b[0;34m\u001b[0m\u001b[0m\n\u001b[1;32m     28\u001b[0m         \u001b[0mthis_flash\u001b[0m \u001b[0;34m=\u001b[0m \u001b[0md\u001b[0m\u001b[0;34m[\u001b[0m\u001b[0;34m{\u001b[0m\u001b[0;34m'number_of_events'\u001b[0m\u001b[0;34m:\u001b[0m\u001b[0mev_idxs\u001b[0m\u001b[0;34m,\u001b[0m \u001b[0;34m'number_of_groups'\u001b[0m\u001b[0;34m:\u001b[0m\u001b[0mgr_idxs\u001b[0m\u001b[0;34m,\u001b[0m \u001b[0;34m'number_of_flashes'\u001b[0m\u001b[0;34m:\u001b[0m\u001b[0mfl_idx\u001b[0m\u001b[0;34m}\u001b[0m\u001b[0;34m]\u001b[0m\u001b[0;34m\u001b[0m\u001b[0m\n",
      "\u001b[0;31mKeyError\u001b[0m: 791"
     ]
    }
   ],
   "source": [
    "# From earlier development - not needed.\n",
    "\n",
    "def member_mask_for_cluster(dataset, cluster_id_column_name, cluster_ids):\n",
    "    \"\"\" Given cluster_ids which correspond to values in \n",
    "        dataset.cluster_id_column_name, .\n",
    "        \"\"\"\n",
    "    cluster_id_col = getattr(dataset, cluster_id_column_name)\n",
    "    \n",
    "    mask = np.zeros(cluster_id_col.shape[0], dtype=bool)\n",
    "    for cluster_id in cluster_ids:\n",
    "        mask |= (cluster_id == cluster_id_col)\n",
    "    return mask\n",
    "\n",
    "def gen_flashes(dataset):\n",
    "    # need to set index on flash_id, group_id, and event_id coordinates.\n",
    "    split_gr = d.groupby('group_parent_flash_id')\n",
    "    # split_gr gives us a mapping from a flash index to the group indices\n",
    "    # corresponding to that flash. Index refers to columns marked with \n",
    "    # an \"*\" in print(dataset)\n",
    "    \n",
    "    split_ev = d.groupby('event_parent_group_id')\n",
    "    \n",
    "    # careful: xarray uses groups to refer to the result of the groupby,\n",
    "    # and does not refer here to GLM groups.\n",
    "    for fl_idx, gr_idxs in split_gr.groups.items():\n",
    "        # now we can use the flash index and group indices directly\n",
    "        # need to pull out a combined set of event indices corresponding\n",
    "        # to all groups\n",
    "        ev_iter = (split_ev.groups[gr_id] for gr_id in gr_idxs)\n",
    "        ev_idxs = list(itertools.chain.from_iterable(ev_iter))\n",
    "        this_flash = d[{'number_of_events':ev_idxs, 'number_of_groups':gr_idxs, 'number_of_flashes':fl_idx}]\n",
    "\n",
    "        yield this_flash\n",
    "\n",
    "def get_flash(self, flash_id):\n",
    "    good_gr = (self.group_parent_flash_id == flash_id)\n",
    "    group_ids = self.group_id[good_gr]\n",
    "    group_areas = self.group_area[good_gr]\n",
    "    for group_area, group_id in zip(group_areas, group_ids):\n",
    "        good_ev = (self.event_parent_group_id == group_id)\n",
    "        pixel_energies = d.event_energy[good_ev]\n",
    "        print(pixel_energies, type(group_area))\n",
    "# get_flash(d, some_flash)\n",
    "\n",
    "for fl in gen_flashes(d): print fl\n",
    "\n",
    "# can we subset everything along the number_of_events dimension?"
   ]
  },
  {
   "cell_type": "code",
   "execution_count": 2,
   "metadata": {
    "collapsed": false
   },
   "outputs": [],
   "source": [
    "from functools import partial\n",
    "partial?"
   ]
  },
  {
   "cell_type": "code",
   "execution_count": null,
   "metadata": {
    "collapsed": true
   },
   "outputs": [],
   "source": []
  }
 ],
 "metadata": {
  "kernelspec": {
   "display_name": "Python 2",
   "language": "python",
   "name": "python2"
  },
  "language_info": {
   "codemirror_mode": {
    "name": "ipython",
    "version": 2
   },
   "file_extension": ".py",
   "mimetype": "text/x-python",
   "name": "python",
   "nbconvert_exporter": "python",
   "pygments_lexer": "ipython2",
   "version": "2.7.12"
  },
  "widgets": {
   "state": {
    "151f2ff600a840079a4b2ec815cb4a10": {
     "views": [
      {
       "cell_index": 5
      }
     ]
    }
   },
   "version": "1.2.0"
  }
 },
 "nbformat": 4,
 "nbformat_minor": 0
}
